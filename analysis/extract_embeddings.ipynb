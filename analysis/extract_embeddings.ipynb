{
 "cells": [
  {
   "cell_type": "code",
   "execution_count": 1,
   "id": "ed2d951f-7e7f-4960-b4a6-4a050879ba32",
   "metadata": {},
   "outputs": [],
   "source": [
    "import torch\n",
    "from transformers import AutoTokenizer, AutoModel"
   ]
  },
  {
   "cell_type": "code",
   "execution_count": 2,
   "id": "878bd88b-3891-4d5d-8e04-44d1f16f56b8",
   "metadata": {
    "scrolled": true
   },
   "outputs": [],
   "source": [
    "# Model name and device to use\n",
    "model_name = \"mlburnham/Political_DEBATE_base_v1.0\"\n",
    "device = torch.device(\"cuda\" if torch.cuda.is_available() else \"mps\" if torch.backends.mps.is_available() else \"cpu\")"
   ]
  },
  {
   "cell_type": "code",
   "execution_count": 3,
   "id": "dc623c58-8d8f-45b1-8a67-58f674923c5b",
   "metadata": {},
   "outputs": [],
   "source": [
    "def get_embedding(text, embedding_type=\"document\", word=None, doc_pooling=\"cls\", word_pooling=\"mean\", model_name = \"mlburnham/Political_DEBATE_base_v1.0\"):\n",
    "    \"\"\"\n",
    "    Get embeddings for a single document or a list of documents.\n",
    "\n",
    "    Args:\n",
    "        text (str or list): The input text (a single document or a list of documents).\n",
    "        embedding_type (str): Type of embedding. Options: \"document\" (default) or \"word\".\n",
    "        word (str): The word to get the embedding for (required if embedding_type=\"word\").\n",
    "        doc_pooling (str): Pooling method for document embeddings. Options: \"cls\" (default) or \"mean\".\n",
    "        word_pooling (str): Pooling method for word embeddings. Options: \"mean\", \"max\", \"sum\", \"min\".\n",
    "\n",
    "    Returns:\n",
    "        torch.Tensor or list: The embedding(s) for the document(s).\n",
    "    \"\"\"\n",
    "    # Handle single document input\n",
    "    if isinstance(text, str):\n",
    "        texts = [text]\n",
    "    elif isinstance(text, list):\n",
    "        texts = text\n",
    "    else:\n",
    "        raise ValueError(\"Input 'text' must be a string or a list of strings.\")\n",
    "\n",
    "    # Initialize the model and tokenizer\n",
    "    tokenizer = AutoTokenizer.from_pretrained(model_name)\n",
    "    model = AutoModel.from_pretrained(model_name)\n",
    "    # pass the model to the device\n",
    "    model.to(device)\n",
    "    \n",
    "    embeddings = []\n",
    "    for doc in texts:\n",
    "        # Tokenize the input text\n",
    "        inputs = tokenizer(doc, return_tensors=\"pt\", padding=False, truncation=True, max_length=512).to(device)\n",
    "        1\n",
    "        # Get the embeddings from the model\n",
    "        with torch.no_grad():\n",
    "            outputs = model(**inputs)\n",
    "        \n",
    "        # Get the token embeddings (last hidden state)\n",
    "        token_embeddings = outputs.last_hidden_state  # Shape: (batch_size, sequence_length, hidden_size)\n",
    "        \n",
    "        if embedding_type == \"document\":\n",
    "            if doc_pooling == \"cls\":\n",
    "                # Use the [CLS] token's embedding as the document embedding\n",
    "                embedding = token_embeddings[:, 0, :].squeeze()\n",
    "            elif doc_pooling == \"mean\":\n",
    "                # Use mean pooling over all tokens (excluding padding tokens)\n",
    "                attention_mask = inputs[\"attention_mask\"]  # Shape: (batch_size, sequence_length)\n",
    "                expanded_mask = attention_mask.unsqueeze(-1).expand(token_embeddings.size()).float()\n",
    "                sum_embeddings = torch.sum(token_embeddings * expanded_mask, dim=1)\n",
    "                num_tokens = torch.sum(attention_mask, dim=1, keepdim=True)\n",
    "                embedding = sum_embeddings / num_tokens\n",
    "                embedding = embedding.squeeze()\n",
    "            else:\n",
    "                raise ValueError(f\"Invalid doc_pooling option: {doc_pooling}. Choose 'cls' or 'mean'.\")\n",
    "        elif embedding_type == \"word\":\n",
    "            if word is None:\n",
    "                raise ValueError(\"The 'word' argument must be specified for word embeddings.\")\n",
    "            # Check if the word is in the document\n",
    "            if word not in doc.split():\n",
    "                raise ValueError(f\"The word '{word}' was not found in the document: {doc}\")\n",
    "            # Find the token IDs for the specified word\n",
    "            word_tokens = tokenizer.tokenize(word)\n",
    "            word_token_ids = tokenizer.convert_tokens_to_ids(word_tokens)\n",
    "            # Find the positions of the word tokens in the input sequence\n",
    "            input_ids = inputs[\"input_ids\"].squeeze().tolist()\n",
    "            word_positions = [i for i, token_id in enumerate(input_ids) if token_id in word_token_ids]\n",
    "            if not word_positions:\n",
    "                raise ValueError(f\"The word '{word}' was not found in the document: {doc}\")\n",
    "            # Extract embeddings for the word's tokens\n",
    "            word_embeddings = token_embeddings[:, word_positions, :]  # Shape: (batch_size, num_occurrences, hidden_size)\n",
    "            # Apply the specified pooling method\n",
    "            if word_pooling == \"mean\":\n",
    "                embedding = word_embeddings.mean(dim=1).squeeze()\n",
    "            elif word_pooling == \"max\":\n",
    "                embedding = word_embeddings.max(dim=1).values.squeeze()\n",
    "            elif word_pooling == \"sum\":\n",
    "                embedding = word_embeddings.sum(dim=1).squeeze()\n",
    "            elif word_pooling == \"min\":\n",
    "                embedding = word_embeddings.min(dim=1).values.squeeze()\n",
    "            else:\n",
    "                raise ValueError(f\"Invalid word_pooling option: {word_pooling}. Choose 'mean', 'max', 'sum', or 'min'.\")\n",
    "        else:\n",
    "            raise ValueError(f\"Invalid embedding_type: {embedding_type}. Choose 'document' or 'word'.\")\n",
    "        \n",
    "        embeddings.append(embedding)\n",
    "    \n",
    "    # Return a single embedding for single document input, or a list of embeddings for multiple documents\n",
    "    return embeddings[0] if isinstance(text, str) else embeddings"
   ]
  },
  {
   "cell_type": "code",
   "execution_count": 4,
   "id": "f920ae27-785e-456a-a594-e8719c402d41",
   "metadata": {
    "scrolled": true
   },
   "outputs": [],
   "source": [
    "# Example usage\n",
    "document = [\"I have a dog and my dog loves to play.\", \"I have a dog and my dog really loves to play.\"]\n",
    "word = \"dog\"\n",
    "\n",
    "# Get document embedding\n",
    "doc_embedding = get_embedding(document, embedding_type=\"document\", doc_pooling=\"mean\")\n",
    "#print(\"Document embedding shape:\", doc_embedding.shape)\n",
    "\n",
    "# Get word embedding\n",
    "word_embedding = get_embedding(document, embedding_type=\"word\", word=word)\n",
    "#print(\"Word embedding shape:\", word_embedding.shape)"
   ]
  }
 ],
 "metadata": {
  "kernelspec": {
   "display_name": "Python 3 (ipykernel)",
   "language": "python",
   "name": "python3"
  },
  "language_info": {
   "codemirror_mode": {
    "name": "ipython",
    "version": 3
   },
   "file_extension": ".py",
   "mimetype": "text/x-python",
   "name": "python",
   "nbconvert_exporter": "python",
   "pygments_lexer": "ipython3",
   "version": "3.12.5"
  }
 },
 "nbformat": 4,
 "nbformat_minor": 5
}
