{
 "cells": [
  {
   "cell_type": "code",
   "execution_count": 1,
   "metadata": {},
   "outputs": [],
   "source": [
    "import pandas as pd\n",
    "from datasets import load_dataset\n",
    "from transformers import pipeline\n",
    "from tqdm import tqdm"
   ]
  },
  {
   "cell_type": "code",
   "execution_count": 2,
   "metadata": {},
   "outputs": [],
   "source": [
    "test = pd.read_csv('../data/polnli_test_results.csv')\n",
    "alts = pd.read_csv('../data/hypothesis_variants.csv')"
   ]
  },
  {
   "cell_type": "code",
   "execution_count": 3,
   "metadata": {},
   "outputs": [],
   "source": [
    "# merge with alternative hypotheses\n",
    "test = pd.merge(test, alts, how = 'left', left_on = 'hypothesis', right_on = 'original')"
   ]
  },
  {
   "cell_type": "code",
   "execution_count": 4,
   "metadata": {},
   "outputs": [],
   "source": [
    "# drop observations that don't have AI generated alternatives\n",
    "test = test[~test['original'].isna()].reset_index(drop = True)"
   ]
  },
  {
   "cell_type": "code",
   "execution_count": 5,
   "metadata": {},
   "outputs": [],
   "source": [
    "\n",
    "# drop columns I don't need\n",
    "test.drop(['augmented_hypothesis', 'base_nli', 'large_nli', 'base_polnli', 'llama', 'large_polnli', 'sonnet', 'original'], axis = 1, inplace = True)"
   ]
  },
  {
   "cell_type": "markdown",
   "metadata": {},
   "source": [
    "# DEBATE Base"
   ]
  },
  {
   "cell_type": "code",
   "execution_count": 6,
   "metadata": {},
   "outputs": [],
   "source": [
    "model = \"mlburnham/Political_DEBATE_base_v1.0\"\n",
    "pipe = pipeline(\"zero-shot-classification\", model = model, device = 'mps', batch_size = 64)"
   ]
  },
  {
   "cell_type": "code",
   "execution_count": 7,
   "metadata": {},
   "outputs": [
    {
     "name": "stderr",
     "output_type": "stream",
     "text": [
      "\rClassifying columns:   0%|          | 0/5 [00:00<?, ?it/s]"
     ]
    },
    {
     "name": "stderr",
     "output_type": "stream",
     "text": [
      "<positron-console-cell-7>:10: FutureWarning: A value is trying to be set on a copy of a DataFrame or Series through chained assignment using an inplace method.\n",
      "The behavior will change in pandas 3.0. This inplace method will never work because the intermediate object on which we are setting values always behaves as a copy.\n",
      "\n",
      "For example, when doing 'df[col].method(value, inplace=True)', try using 'df.method({col: value}, inplace=True)' or df[col] = df[col].method(value) instead, to perform the operation inplace on the original object.\n",
      "\n",
      "\n",
      "\rClassifying columns:  20%|██        | 1/5 [07:33<30:15, 453.88s/it]"
     ]
    },
    {
     "name": "stderr",
     "output_type": "stream",
     "text": [
      "<positron-console-cell-7>:10: FutureWarning: A value is trying to be set on a copy of a DataFrame or Series through chained assignment using an inplace method.\n",
      "The behavior will change in pandas 3.0. This inplace method will never work because the intermediate object on which we are setting values always behaves as a copy.\n",
      "\n",
      "For example, when doing 'df[col].method(value, inplace=True)', try using 'df.method({col: value}, inplace=True)' or df[col] = df[col].method(value) instead, to perform the operation inplace on the original object.\n",
      "\n",
      "\n",
      "\rClassifying columns:  40%|████      | 2/5 [11:14<15:50, 316.75s/it]"
     ]
    },
    {
     "name": "stderr",
     "output_type": "stream",
     "text": [
      "<positron-console-cell-7>:10: FutureWarning: A value is trying to be set on a copy of a DataFrame or Series through chained assignment using an inplace method.\n",
      "The behavior will change in pandas 3.0. This inplace method will never work because the intermediate object on which we are setting values always behaves as a copy.\n",
      "\n",
      "For example, when doing 'df[col].method(value, inplace=True)', try using 'df.method({col: value}, inplace=True)' or df[col] = df[col].method(value) instead, to perform the operation inplace on the original object.\n",
      "\n",
      "\n",
      "\rClassifying columns:  60%|██████    | 3/5 [14:52<09:03, 271.79s/it]"
     ]
    },
    {
     "name": "stderr",
     "output_type": "stream",
     "text": [
      "<positron-console-cell-7>:10: FutureWarning: A value is trying to be set on a copy of a DataFrame or Series through chained assignment using an inplace method.\n",
      "The behavior will change in pandas 3.0. This inplace method will never work because the intermediate object on which we are setting values always behaves as a copy.\n",
      "\n",
      "For example, when doing 'df[col].method(value, inplace=True)', try using 'df.method({col: value}, inplace=True)' or df[col] = df[col].method(value) instead, to perform the operation inplace on the original object.\n",
      "\n",
      "\n",
      "\rClassifying columns:  80%|████████  | 4/5 [17:55<03:56, 236.52s/it]"
     ]
    },
    {
     "name": "stderr",
     "output_type": "stream",
     "text": [
      "<positron-console-cell-7>:10: FutureWarning: A value is trying to be set on a copy of a DataFrame or Series through chained assignment using an inplace method.\n",
      "The behavior will change in pandas 3.0. This inplace method will never work because the intermediate object on which we are setting values always behaves as a copy.\n",
      "\n",
      "For example, when doing 'df[col].method(value, inplace=True)', try using 'df.method({col: value}, inplace=True)' or df[col] = df[col].method(value) instead, to perform the operation inplace on the original object.\n",
      "\n",
      "\n",
      "\rClassifying columns: 100%|██████████| 5/5 [20:51<00:00, 214.70s/it]"
     ]
    },
    {
     "name": "stderr",
     "output_type": "stream",
     "text": [
      "\rClassifying columns: 100%|██████████| 5/5 [20:51<00:00, 250.28s/it]"
     ]
    },
    {
     "name": "stderr",
     "output_type": "stream",
     "text": [
      "\n"
     ]
    }
   ],
   "source": [
    "colnames = ['hypothesis', 'alt1', 'alt2', 'alt3', 'alt4']\n",
    "for col in tqdm(colnames, desc = 'Classifying columns'):\n",
    "    colname = col + '_label'\n",
    "    test[colname] = 0\n",
    "    for i in test.index:\n",
    "        hypothesis = test.loc[i, col]\n",
    "        sample = test.loc[i, 'premise']\n",
    "        res = pipe(sample, hypothesis, hypothesis_template = '{}', multi_label = False)\n",
    "        test.loc[i, colname] = round(res['scores'][0])\n",
    "    test[colname].replace({0:1, 1:0}, inplace = True)\n",
    "\n",
    "    test[colname] = test[colname].astype(int)"
   ]
  },
  {
   "cell_type": "code",
   "execution_count": 8,
   "metadata": {},
   "outputs": [
    {
     "name": "stdout",
     "output_type": "stream",
     "text": [
      "Total number of differences: 894\n",
      "Total number of differences: 894\n"
     ]
    }
   ],
   "source": [
    "alt_columns = ['alt1_label', 'alt2_label', 'alt3_label', 'alt4_label']\n",
    "\n",
    "# Initialize a counter for differences\n",
    "total_differences = 0\n",
    "\n",
    "# Iterate through each alternative label column\n",
    "for col in alt_columns:\n",
    "    # Compare the values with 'hypothesis_label' and sum the differences\n",
    "    total_differences += (test[col] != test['hypothesis_label']).sum()\n",
    "\n",
    "# Print the result\n",
    "print(f\"Total number of differences: {total_differences}\")"
   ]
  },
  {
   "cell_type": "code",
   "execution_count": 11,
   "metadata": {},
   "outputs": [
    {
     "data": {
      "text/plain": [
       "0.024888641425389754"
      ]
     },
     "execution_count": null,
     "metadata": {},
     "output_type": "execute_result"
    }
   ],
   "source": [
    "total_differences/(8980*4)"
   ]
  },
  {
   "cell_type": "code",
   "execution_count": 12,
   "metadata": {},
   "outputs": [],
   "source": [
    "test.to_csv('hypothesis_stability.csv', index = False)"
   ]
  },
  {
   "cell_type": "markdown",
   "metadata": {},
   "source": [
    "# DEBATE Large"
   ]
  },
  {
   "cell_type": "code",
   "execution_count": 23,
   "metadata": {},
   "outputs": [],
   "source": [
    "model = \"mlburnham/Political_DEBATE_large_v1.0\"\n",
    "pipe = pipeline(\"zero-shot-classification\", model = model, device = 'mps', batch_size = 64)"
   ]
  },
  {
   "cell_type": "code",
   "execution_count": 24,
   "metadata": {},
   "outputs": [
    {
     "name": "stdout",
     "output_type": "stream",
     "text": [
      "CPU times: user 9min 19s, sys: 54.9 s, total: 10min 14s\n",
      "Wall time: 24min 4s\n",
      "CPU times: user 9min 19s, sys: 54.9 s, total: 10min 14s\n",
      "Wall time: 24min 4s\n"
     ]
    },
    {
     "name": "stderr",
     "output_type": "stream",
     "text": [
      "<timed exec>:9: FutureWarning: A value is trying to be set on a copy of a DataFrame or Series through chained assignment using an inplace method.\n",
      "The behavior will change in pandas 3.0. This inplace method will never work because the intermediate object on which we are setting values always behaves as a copy.\n",
      "\n",
      "For example, when doing 'df[col].method(value, inplace=True)', try using 'df.method({col: value}, inplace=True)' or df[col] = df[col].method(value) instead, to perform the operation inplace on the original object.\n",
      "\n",
      "\n"
     ]
    }
   ],
   "source": [
    "%%time\n",
    "colname = 'original_label'\n",
    "test[colname] = 0\n",
    "\n",
    "for i in test.index:\n",
    "    hypothesis = test.loc[i, 'hypothesis']\n",
    "    sample = test.loc[i, 'premise']\n",
    "    res = pipe(sample, hypothesis, hypothesis_template = '{}', multi_label = False)\n",
    "    test.loc[i, colname] = round(res['scores'][0])\n",
    "test[colname].replace({0:1, 1:0}, inplace = True)\n",
    "\n",
    "test[colname] = test[colname].astype(int)"
   ]
  },
  {
   "cell_type": "code",
   "execution_count": 25,
   "metadata": {},
   "outputs": [
    {
     "data": {
      "text/html": [
       "<div>\n",
       "<style scoped>\n",
       "    .dataframe tbody tr th:only-of-type {\n",
       "        vertical-align: middle;\n",
       "    }\n",
       "\n",
       "    .dataframe tbody tr th {\n",
       "        vertical-align: top;\n",
       "    }\n",
       "\n",
       "    .dataframe thead th {\n",
       "        text-align: right;\n",
       "    }\n",
       "</style>\n",
       "<table border=\"1\" class=\"dataframe\">\n",
       "  <thead>\n",
       "    <tr style=\"text-align: right;\">\n",
       "      <th></th>\n",
       "      <th>premise</th>\n",
       "      <th>hypothesis</th>\n",
       "      <th>entailment</th>\n",
       "      <th>dataset</th>\n",
       "      <th>task</th>\n",
       "      <th>alt1</th>\n",
       "      <th>alt2</th>\n",
       "      <th>alt3</th>\n",
       "      <th>alt4</th>\n",
       "      <th>original_label</th>\n",
       "    </tr>\n",
       "  </thead>\n",
       "  <tbody>\n",
       "    <tr>\n",
       "      <th>0</th>\n",
       "      <td>Transport workers strike to protest rising fue...</td>\n",
       "      <td>The event described in this text is a strike.</td>\n",
       "      <td>0</td>\n",
       "      <td>mlburnham/scad_event_entailment</td>\n",
       "      <td>event extraction</td>\n",
       "      <td>The occurrence detailed in this passage is a s...</td>\n",
       "      <td>The situation outlined in this document is a s...</td>\n",
       "      <td>The incident mentioned in this text is a strike.</td>\n",
       "      <td>The event described in this text is a strike.</td>\n",
       "      <td>0</td>\n",
       "    </tr>\n",
       "    <tr>\n",
       "      <th>1</th>\n",
       "      <td>Municipal workers strike over pay.</td>\n",
       "      <td>The event described in this text is a strike.</td>\n",
       "      <td>0</td>\n",
       "      <td>mlburnham/scad_event_entailment</td>\n",
       "      <td>event extraction</td>\n",
       "      <td>The occurrence detailed in this passage is a s...</td>\n",
       "      <td>The situation outlined in this document is a s...</td>\n",
       "      <td>The incident mentioned in this text is a strike.</td>\n",
       "      <td>The event described in this text is a strike.</td>\n",
       "      <td>0</td>\n",
       "    </tr>\n",
       "    <tr>\n",
       "      <th>2</th>\n",
       "      <td>Niger's mining sector strikes.</td>\n",
       "      <td>The event described in this text is a strike.</td>\n",
       "      <td>0</td>\n",
       "      <td>mlburnham/scad_event_entailment</td>\n",
       "      <td>event extraction</td>\n",
       "      <td>The occurrence detailed in this passage is a s...</td>\n",
       "      <td>The situation outlined in this document is a s...</td>\n",
       "      <td>The incident mentioned in this text is a strike.</td>\n",
       "      <td>The event described in this text is a strike.</td>\n",
       "      <td>0</td>\n",
       "    </tr>\n",
       "    <tr>\n",
       "      <th>3</th>\n",
       "      <td>Separatist movement protests detention of lead...</td>\n",
       "      <td>The event described in this text is a strike.</td>\n",
       "      <td>0</td>\n",
       "      <td>mlburnham/scad_event_entailment</td>\n",
       "      <td>event extraction</td>\n",
       "      <td>The occurrence detailed in this passage is a s...</td>\n",
       "      <td>The situation outlined in this document is a s...</td>\n",
       "      <td>The incident mentioned in this text is a strike.</td>\n",
       "      <td>The event described in this text is a strike.</td>\n",
       "      <td>0</td>\n",
       "    </tr>\n",
       "    <tr>\n",
       "      <th>4</th>\n",
       "      <td>Janitors and hospital support staff staged a s...</td>\n",
       "      <td>The event described in this text is a strike.</td>\n",
       "      <td>0</td>\n",
       "      <td>mlburnham/scad_event_entailment</td>\n",
       "      <td>event extraction</td>\n",
       "      <td>The occurrence detailed in this passage is a s...</td>\n",
       "      <td>The situation outlined in this document is a s...</td>\n",
       "      <td>The incident mentioned in this text is a strike.</td>\n",
       "      <td>The event described in this text is a strike.</td>\n",
       "      <td>0</td>\n",
       "    </tr>\n",
       "    <tr>\n",
       "      <th>...</th>\n",
       "      <td>...</td>\n",
       "      <td>...</td>\n",
       "      <td>...</td>\n",
       "      <td>...</td>\n",
       "      <td>...</td>\n",
       "      <td>...</td>\n",
       "      <td>...</td>\n",
       "      <td>...</td>\n",
       "      <td>...</td>\n",
       "      <td>...</td>\n",
       "    </tr>\n",
       "    <tr>\n",
       "      <th>8975</th>\n",
       "      <td>Encouraging Public Offerings Act of 2019\\nThis...</td>\n",
       "      <td>This text is about finance and financial sector.</td>\n",
       "      <td>0</td>\n",
       "      <td>mlburnham/bill_summary_entailment</td>\n",
       "      <td>topic classification</td>\n",
       "      <td>This document discusses finance and the financ...</td>\n",
       "      <td>The content here pertains to finance and the f...</td>\n",
       "      <td>This writing covers topics related to finance ...</td>\n",
       "      <td>This text is about finance and financial sector.</td>\n",
       "      <td>0</td>\n",
       "    </tr>\n",
       "    <tr>\n",
       "      <th>8976</th>\n",
       "      <td>Cesar Chavez Commemorative Coin Act\\nThis bill...</td>\n",
       "      <td>This text is about finance and financial sector.</td>\n",
       "      <td>0</td>\n",
       "      <td>mlburnham/bill_summary_entailment</td>\n",
       "      <td>topic classification</td>\n",
       "      <td>This document discusses finance and the financ...</td>\n",
       "      <td>The content here pertains to finance and the f...</td>\n",
       "      <td>This writing covers topics related to finance ...</td>\n",
       "      <td>This text is about finance and financial sector.</td>\n",
       "      <td>1</td>\n",
       "    </tr>\n",
       "    <tr>\n",
       "      <th>8977</th>\n",
       "      <td>Outsourcing Accountability Act of 2017\\nThis b...</td>\n",
       "      <td>This text is about finance and financial sector.</td>\n",
       "      <td>0</td>\n",
       "      <td>mlburnham/bill_summary_entailment</td>\n",
       "      <td>topic classification</td>\n",
       "      <td>This document discusses finance and the financ...</td>\n",
       "      <td>The content here pertains to finance and the f...</td>\n",
       "      <td>This writing covers topics related to finance ...</td>\n",
       "      <td>This text is about finance and financial sector.</td>\n",
       "      <td>0</td>\n",
       "    </tr>\n",
       "    <tr>\n",
       "      <th>8978</th>\n",
       "      <td>Prioritizing Our Workers Act\\nThis bill includ...</td>\n",
       "      <td>This text is about finance and financial sector.</td>\n",
       "      <td>0</td>\n",
       "      <td>mlburnham/bill_summary_entailment</td>\n",
       "      <td>topic classification</td>\n",
       "      <td>This document discusses finance and the financ...</td>\n",
       "      <td>The content here pertains to finance and the f...</td>\n",
       "      <td>This writing covers topics related to finance ...</td>\n",
       "      <td>This text is about finance and financial sector.</td>\n",
       "      <td>0</td>\n",
       "    </tr>\n",
       "    <tr>\n",
       "      <th>8979</th>\n",
       "      <td>Flood Insurance Market Parity and Modernizatio...</td>\n",
       "      <td>This text is about finance and financial sector.</td>\n",
       "      <td>0</td>\n",
       "      <td>mlburnham/bill_summary_entailment</td>\n",
       "      <td>topic classification</td>\n",
       "      <td>This document discusses finance and the financ...</td>\n",
       "      <td>The content here pertains to finance and the f...</td>\n",
       "      <td>This writing covers topics related to finance ...</td>\n",
       "      <td>This text is about finance and financial sector.</td>\n",
       "      <td>0</td>\n",
       "    </tr>\n",
       "  </tbody>\n",
       "</table>\n",
       "<p>8980 rows × 10 columns</p>\n",
       "</div>"
      ],
      "text/plain": [
       "                                                premise                                        hypothesis  entailment  ...                                               alt3                                              alt4 original_label\n",
       "0     Transport workers strike to protest rising fue...     The event described in this text is a strike.           0  ...   The incident mentioned in this text is a strike.     The event described in this text is a strike.              0\n",
       "1                    Municipal workers strike over pay.     The event described in this text is a strike.           0  ...   The incident mentioned in this text is a strike.     The event described in this text is a strike.              0\n",
       "2                        Niger's mining sector strikes.     The event described in this text is a strike.           0  ...   The incident mentioned in this text is a strike.     The event described in this text is a strike.              0\n",
       "3     Separatist movement protests detention of lead...     The event described in this text is a strike.           0  ...   The incident mentioned in this text is a strike.     The event described in this text is a strike.              0\n",
       "4     Janitors and hospital support staff staged a s...     The event described in this text is a strike.           0  ...   The incident mentioned in this text is a strike.     The event described in this text is a strike.              0\n",
       "...                                                 ...                                               ...         ...  ...                                                ...                                               ...            ...\n",
       "8975  Encouraging Public Offerings Act of 2019\\nThis...  This text is about finance and financial sector.           0  ...  This writing covers topics related to finance ...  This text is about finance and financial sector.              0\n",
       "8976  Cesar Chavez Commemorative Coin Act\\nThis bill...  This text is about finance and financial sector.           0  ...  This writing covers topics related to finance ...  This text is about finance and financial sector.              1\n",
       "8977  Outsourcing Accountability Act of 2017\\nThis b...  This text is about finance and financial sector.           0  ...  This writing covers topics related to finance ...  This text is about finance and financial sector.              0\n",
       "8978  Prioritizing Our Workers Act\\nThis bill includ...  This text is about finance and financial sector.           0  ...  This writing covers topics related to finance ...  This text is about finance and financial sector.              0\n",
       "8979  Flood Insurance Market Parity and Modernizatio...  This text is about finance and financial sector.           0  ...  This writing covers topics related to finance ...  This text is about finance and financial sector.              0\n",
       "\n",
       "[8980 rows x 10 columns]"
      ]
     },
     "execution_count": null,
     "metadata": {},
     "output_type": "execute_result"
    }
   ],
   "source": [
    "colnames = ['alt1', 'alt2', 'alt3', 'alt4']\n",
    "for col in colnames:\n",
    "    colname = col + '_label'\n",
    "    test[colname] = 0\n",
    "    for i in test.index:\n",
    "        hypothesis = test.loc[i, col]\n",
    "        sample = test.loc[i, 'premise']\n",
    "        res = pipe(sample, hypothesis, hypothesis_template = '{}', multi_label = False)\n",
    "        test.loc[i, colname] = round(res['scores'][0])\n",
    "    test[colname].replace({0:1, 1:0}, inplace = True)\n",
    "\n",
    "    test[colname] = test[colname].astype(int)"
   ]
  }
 ],
 "metadata": {
  "language_info": {
   "name": "python"
  }
 },
 "nbformat": 4,
 "nbformat_minor": 2
}
