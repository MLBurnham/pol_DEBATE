{
 "cells": [
  {
   "cell_type": "code",
   "execution_count": 1,
   "metadata": {},
   "outputs": [
    {
     "name": "stderr",
     "output_type": "stream",
     "text": [
      "/home/mike/miniforge3/envs/modern/lib/python3.12/site-packages/tqdm/auto.py:21: TqdmWarning: IProgress not found. Please update jupyter and ipywidgets. See https://ipywidgets.readthedocs.io/en/stable/user_install.html\n",
      "  from .autonotebook import tqdm as notebook_tqdm\n"
     ]
    }
   ],
   "source": [
    "import pandas as pd\n",
    "from datasets import load_dataset\n",
    "from transformers import pipeline\n",
    "from tqdm import tqdm\n",
    "import os\n",
    "import re\n",
    "import matplotlib.pyplot as plt\n",
    "import torch"
   ]
  },
  {
   "cell_type": "code",
   "execution_count": 2,
   "metadata": {},
   "outputs": [],
   "source": [
    "test = pd.read_csv('./data/polnli_test_results.csv')\n",
    "alts = pd.read_csv('./data/hypothesis_variants.csv')\n",
    "\n",
    "# merge with alternative hypotheses\n",
    "test = pd.merge(test, alts, how = 'left', left_on = 'hypothesis', right_on = 'original')\n",
    "\n",
    "# drop observations that don't have AI generated alternatives\n",
    "test = test[~test['original'].isna()].reset_index(drop = True)\n",
    "\n",
    "# drop columns I don't need\n",
    "test.drop(['augmented_hypothesis', 'base_nli', 'large_nli', 'base_polnli', 'llama', 'large_polnli', 'sonnet', 'original', 'alt4'], axis = 1, inplace = True)"
   ]
  },
  {
   "cell_type": "code",
   "execution_count": 3,
   "metadata": {},
   "outputs": [],
   "source": [
    "def hypothesis_stability(df):\n",
    "    \"\"\"\n",
    "    Calculate the probability that a document's label changes when using different hypotheses.\n",
    "    For each document (row), compares all possible pairs of labels to determine how often they differ.\n",
    "\n",
    "    Accepts the PolNLI_hypothesis_stability_test as a dataframe\n",
    "    \n",
    "    Returns:\n",
    "        float: Probability between 0 and 1 representing how often the label changes when\n",
    "              using different hypotheses.\n",
    "    \"\"\"\n",
    "    # Each row has 4 prompts, so we have 6 possible pairs per row (4 choose 2)\n",
    "    n_prompts = 4\n",
    "    pairs_per_row = (n_prompts * (n_prompts - 1)) // 2  # combinations is n_prompts choose 2\n",
    "    \n",
    "    # Count differences for each row\n",
    "    total_differences = 0\n",
    "    \n",
    "    for idx in df.index:\n",
    "        # Get all labels for this document\n",
    "        labels = df.iloc[idx]\n",
    "        \n",
    "        # Compare each pair of labels\n",
    "        # We'll have 6 comparisons: (1,2), (1,3), (1,4), (2,3), (2,4), (3,4)\n",
    "        differences = 0\n",
    "        for i in range(n_prompts):\n",
    "            for j in range(i + 1, n_prompts):\n",
    "                if labels.iloc[i] != labels.iloc[j]:\n",
    "                    differences += 1\n",
    "        \n",
    "        total_differences += differences\n",
    "    \n",
    "    # Calculate probability\n",
    "    # Total comparisons = 6 pairs per row * number of rows\n",
    "    total_comparisons = pairs_per_row * len(df)\n",
    "    probability = total_differences / total_comparisons\n",
    "    \n",
    "    return probability"
   ]
  },
  {
   "cell_type": "markdown",
   "metadata": {},
   "source": [
    "# ModernBERT Base"
   ]
  },
  {
   "cell_type": "code",
   "execution_count": 7,
   "metadata": {
    "collapsed": true,
    "jupyter": {
     "outputs_hidden": true
    }
   },
   "outputs": [
    {
     "name": "stderr",
     "output_type": "stream",
     "text": [
      "You are attempting to use Flash Attention 2.0 with a model not initialized on GPU. Make sure to move the model to GPU after initializing it on CPU with `model.to('cuda')`.\n",
      "Device set to use cuda:0\n",
      "\n",
      "\u001b[AToken indices sequence length is longer than the specified maximum sequence length for this model (733 > 512). Running this sequence through the model will result in indexing errors\n",
      "<timed exec>:29: FutureWarning: A value is trying to be set on a copy of a DataFrame or Series through chained assignment using an inplace method.\n",
      "The behavior will change in pandas 3.0. This inplace method will never work because the intermediate object on which we are setting values always behaves as a copy.\n",
      "\n",
      "For example, when doing 'df[col].method(value, inplace=True)', try using 'df.method({col: value}, inplace=True)' or df[col] = df[col].method(value) instead, to perform the operation inplace on the original object.\n",
      "\n",
      "\n",
      "<timed exec>:29: FutureWarning: Downcasting behavior in `replace` is deprecated and will be removed in a future version. To retain the old behavior, explicitly call `result.infer_objects(copy=False)`. To opt-in to the future behavior, set `pd.set_option('future.no_silent_downcasting', True)`\n",
      "\n",
      "\u001b[A<timed exec>:29: FutureWarning: A value is trying to be set on a copy of a DataFrame or Series through chained assignment using an inplace method.\n",
      "The behavior will change in pandas 3.0. This inplace method will never work because the intermediate object on which we are setting values always behaves as a copy.\n",
      "\n",
      "For example, when doing 'df[col].method(value, inplace=True)', try using 'df.method({col: value}, inplace=True)' or df[col] = df[col].method(value) instead, to perform the operation inplace on the original object.\n",
      "\n",
      "\n",
      "<timed exec>:29: FutureWarning: Downcasting behavior in `replace` is deprecated and will be removed in a future version. To retain the old behavior, explicitly call `result.infer_objects(copy=False)`. To opt-in to the future behavior, set `pd.set_option('future.no_silent_downcasting', True)`\n",
      "\n",
      "\u001b[A<timed exec>:29: FutureWarning: A value is trying to be set on a copy of a DataFrame or Series through chained assignment using an inplace method.\n",
      "The behavior will change in pandas 3.0. This inplace method will never work because the intermediate object on which we are setting values always behaves as a copy.\n",
      "\n",
      "For example, when doing 'df[col].method(value, inplace=True)', try using 'df.method({col: value}, inplace=True)' or df[col] = df[col].method(value) instead, to perform the operation inplace on the original object.\n",
      "\n",
      "\n",
      "<timed exec>:29: FutureWarning: Downcasting behavior in `replace` is deprecated and will be removed in a future version. To retain the old behavior, explicitly call `result.infer_objects(copy=False)`. To opt-in to the future behavior, set `pd.set_option('future.no_silent_downcasting', True)`\n",
      "\n",
      "\u001b[A<timed exec>:29: FutureWarning: A value is trying to be set on a copy of a DataFrame or Series through chained assignment using an inplace method.\n",
      "The behavior will change in pandas 3.0. This inplace method will never work because the intermediate object on which we are setting values always behaves as a copy.\n",
      "\n",
      "For example, when doing 'df[col].method(value, inplace=True)', try using 'df.method({col: value}, inplace=True)' or df[col] = df[col].method(value) instead, to perform the operation inplace on the original object.\n",
      "\n",
      "\n",
      "<timed exec>:29: FutureWarning: Downcasting behavior in `replace` is deprecated and will be removed in a future version. To retain the old behavior, explicitly call `result.infer_objects(copy=False)`. To opt-in to the future behavior, set `pd.set_option('future.no_silent_downcasting', True)`\n",
      "\n",
      "Classifying columns in training_ModernBase/checkpoint-10706: 100%|████████████████| 4/4 [00:16<00:00,  4.19s/it]\n",
      "Processing models:  10%|█████▋                                                   | 1/10 [00:18<02:42, 18.07s/it]"
     ]
    },
    {
     "name": "stdout",
     "output_type": "stream",
     "text": [
      "Checkpoint 10706: Stability = 0.05274684484038604\n"
     ]
    },
    {
     "name": "stderr",
     "output_type": "stream",
     "text": [
      "Device set to use cuda:0\n",
      "\n",
      "\u001b[AToken indices sequence length is longer than the specified maximum sequence length for this model (733 > 512). Running this sequence through the model will result in indexing errors\n",
      "<timed exec>:29: FutureWarning: A value is trying to be set on a copy of a DataFrame or Series through chained assignment using an inplace method.\n",
      "The behavior will change in pandas 3.0. This inplace method will never work because the intermediate object on which we are setting values always behaves as a copy.\n",
      "\n",
      "For example, when doing 'df[col].method(value, inplace=True)', try using 'df.method({col: value}, inplace=True)' or df[col] = df[col].method(value) instead, to perform the operation inplace on the original object.\n",
      "\n",
      "\n",
      "<timed exec>:29: FutureWarning: Downcasting behavior in `replace` is deprecated and will be removed in a future version. To retain the old behavior, explicitly call `result.infer_objects(copy=False)`. To opt-in to the future behavior, set `pd.set_option('future.no_silent_downcasting', True)`\n",
      "\n",
      "\u001b[Assifying columns in training_ModernBase/checkpoint-21412:  25%|████            | 1/4 [00:04<00:12,  4.07s/it]\n",
      "\u001b[Assifying columns in training_ModernBase/checkpoint-21412:  50%|████████        | 2/4 [00:08<00:08,  4.13s/it]\n",
      "\u001b[Assifying columns in training_ModernBase/checkpoint-21412:  75%|████████████    | 3/4 [00:12<00:04,  4.14s/it]\n",
      "Classifying columns in training_ModernBase/checkpoint-21412: 100%|████████████████| 4/4 [00:16<00:00,  4.18s/it]\n",
      "Processing models:  20%|███████████▍                                             | 2/10 [00:35<02:21, 17.63s/it]"
     ]
    },
    {
     "name": "stdout",
     "output_type": "stream",
     "text": [
      "Checkpoint 21412: Stability = 0.0503155159613957\n"
     ]
    },
    {
     "name": "stderr",
     "output_type": "stream",
     "text": [
      "Device set to use cuda:0\n",
      "\n",
      "\u001b[AToken indices sequence length is longer than the specified maximum sequence length for this model (733 > 512). Running this sequence through the model will result in indexing errors\n",
      "<timed exec>:29: FutureWarning: A value is trying to be set on a copy of a DataFrame or Series through chained assignment using an inplace method.\n",
      "The behavior will change in pandas 3.0. This inplace method will never work because the intermediate object on which we are setting values always behaves as a copy.\n",
      "\n",
      "For example, when doing 'df[col].method(value, inplace=True)', try using 'df.method({col: value}, inplace=True)' or df[col] = df[col].method(value) instead, to perform the operation inplace on the original object.\n",
      "\n",
      "\n",
      "<timed exec>:29: FutureWarning: Downcasting behavior in `replace` is deprecated and will be removed in a future version. To retain the old behavior, explicitly call `result.infer_objects(copy=False)`. To opt-in to the future behavior, set `pd.set_option('future.no_silent_downcasting', True)`\n",
      "\n",
      "\u001b[Assifying columns in training_ModernBase/checkpoint-32118:  25%|████            | 1/4 [00:04<00:12,  4.11s/it]\n",
      "\u001b[Assifying columns in training_ModernBase/checkpoint-32118:  50%|████████        | 2/4 [00:08<00:08,  4.14s/it]\n",
      "\u001b[Assifying columns in training_ModernBase/checkpoint-32118:  75%|████████████    | 3/4 [00:12<00:04,  4.14s/it]\n",
      "Classifying columns in training_ModernBase/checkpoint-32118: 100%|████████████████| 4/4 [00:16<00:00,  4.18s/it]\n",
      "Processing models:  30%|█████████████████                                        | 3/10 [00:52<02:02, 17.50s/it]"
     ]
    },
    {
     "name": "stdout",
     "output_type": "stream",
     "text": [
      "Checkpoint 32118: Stability = 0.04962880475129918\n"
     ]
    },
    {
     "name": "stderr",
     "output_type": "stream",
     "text": [
      "Device set to use cuda:0\n",
      "\n",
      "\u001b[AToken indices sequence length is longer than the specified maximum sequence length for this model (733 > 512). Running this sequence through the model will result in indexing errors\n",
      "<timed exec>:29: FutureWarning: A value is trying to be set on a copy of a DataFrame or Series through chained assignment using an inplace method.\n",
      "The behavior will change in pandas 3.0. This inplace method will never work because the intermediate object on which we are setting values always behaves as a copy.\n",
      "\n",
      "For example, when doing 'df[col].method(value, inplace=True)', try using 'df.method({col: value}, inplace=True)' or df[col] = df[col].method(value) instead, to perform the operation inplace on the original object.\n",
      "\n",
      "\n",
      "<timed exec>:29: FutureWarning: Downcasting behavior in `replace` is deprecated and will be removed in a future version. To retain the old behavior, explicitly call `result.infer_objects(copy=False)`. To opt-in to the future behavior, set `pd.set_option('future.no_silent_downcasting', True)`\n",
      "\n",
      "\u001b[Assifying columns in training_ModernBase/checkpoint-42824:  25%|████            | 1/4 [00:04<00:12,  4.09s/it]\n",
      "\u001b[Assifying columns in training_ModernBase/checkpoint-42824:  50%|████████        | 2/4 [00:08<00:08,  4.10s/it]\n",
      "\u001b[Assifying columns in training_ModernBase/checkpoint-42824:  75%|████████████    | 3/4 [00:12<00:04,  4.10s/it]\n",
      "Classifying columns in training_ModernBase/checkpoint-42824: 100%|████████████████| 4/4 [00:16<00:00,  4.12s/it]\n",
      "Processing models:  40%|██████████████████████▊                                  | 4/10 [01:09<01:43, 17.33s/it]"
     ]
    },
    {
     "name": "stdout",
     "output_type": "stream",
     "text": [
      "Checkpoint 42824: Stability = 0.045694135115070526\n"
     ]
    },
    {
     "name": "stderr",
     "output_type": "stream",
     "text": [
      "Device set to use cuda:0\n",
      "\n",
      "\u001b[AToken indices sequence length is longer than the specified maximum sequence length for this model (733 > 512). Running this sequence through the model will result in indexing errors\n",
      "<timed exec>:29: FutureWarning: A value is trying to be set on a copy of a DataFrame or Series through chained assignment using an inplace method.\n",
      "The behavior will change in pandas 3.0. This inplace method will never work because the intermediate object on which we are setting values always behaves as a copy.\n",
      "\n",
      "For example, when doing 'df[col].method(value, inplace=True)', try using 'df.method({col: value}, inplace=True)' or df[col] = df[col].method(value) instead, to perform the operation inplace on the original object.\n",
      "\n",
      "\n",
      "<timed exec>:29: FutureWarning: Downcasting behavior in `replace` is deprecated and will be removed in a future version. To retain the old behavior, explicitly call `result.infer_objects(copy=False)`. To opt-in to the future behavior, set `pd.set_option('future.no_silent_downcasting', True)`\n",
      "\n",
      "\u001b[Assifying columns in training_ModernBase/checkpoint-53530:  25%|████            | 1/4 [00:04<00:12,  4.29s/it]\n",
      "\u001b[Assifying columns in training_ModernBase/checkpoint-53530:  50%|████████        | 2/4 [00:08<00:08,  4.14s/it]\n",
      "\u001b[Assifying columns in training_ModernBase/checkpoint-53530:  75%|████████████    | 3/4 [00:12<00:04,  4.14s/it]\n",
      "Classifying columns in training_ModernBase/checkpoint-53530: 100%|████████████████| 4/4 [00:16<00:00,  4.16s/it]\n",
      "Processing models:  50%|████████████████████████████▌                            | 5/10 [01:27<01:26, 17.30s/it]"
     ]
    },
    {
     "name": "stdout",
     "output_type": "stream",
     "text": [
      "Checkpoint 53530: Stability = 0.045248700816629545\n"
     ]
    },
    {
     "name": "stderr",
     "output_type": "stream",
     "text": [
      "Device set to use cuda:0\n",
      "\n",
      "\u001b[AToken indices sequence length is longer than the specified maximum sequence length for this model (733 > 512). Running this sequence through the model will result in indexing errors\n",
      "<timed exec>:29: FutureWarning: A value is trying to be set on a copy of a DataFrame or Series through chained assignment using an inplace method.\n",
      "The behavior will change in pandas 3.0. This inplace method will never work because the intermediate object on which we are setting values always behaves as a copy.\n",
      "\n",
      "For example, when doing 'df[col].method(value, inplace=True)', try using 'df.method({col: value}, inplace=True)' or df[col] = df[col].method(value) instead, to perform the operation inplace on the original object.\n",
      "\n",
      "\n",
      "<timed exec>:29: FutureWarning: Downcasting behavior in `replace` is deprecated and will be removed in a future version. To retain the old behavior, explicitly call `result.infer_objects(copy=False)`. To opt-in to the future behavior, set `pd.set_option('future.no_silent_downcasting', True)`\n",
      "\n",
      "\u001b[Assifying columns in training_ModernBase/checkpoint-64236:  25%|████            | 1/4 [00:04<00:12,  4.06s/it]\n",
      "\u001b[Assifying columns in training_ModernBase/checkpoint-64236:  50%|████████        | 2/4 [00:08<00:08,  4.06s/it]\n",
      "\u001b[Assifying columns in training_ModernBase/checkpoint-64236:  75%|████████████    | 3/4 [00:12<00:04,  4.07s/it]\n",
      "Classifying columns in training_ModernBase/checkpoint-64236: 100%|████████████████| 4/4 [00:16<00:00,  4.09s/it]\n",
      "Processing models:  60%|██████████████████████████████████▏                      | 6/10 [01:44<01:08, 17.19s/it]"
     ]
    },
    {
     "name": "stdout",
     "output_type": "stream",
     "text": [
      "Checkpoint 64236: Stability = 0.0465478841870824\n"
     ]
    },
    {
     "name": "stderr",
     "output_type": "stream",
     "text": [
      "Device set to use cuda:0\n",
      "\n",
      "\u001b[AToken indices sequence length is longer than the specified maximum sequence length for this model (733 > 512). Running this sequence through the model will result in indexing errors\n",
      "<timed exec>:29: FutureWarning: A value is trying to be set on a copy of a DataFrame or Series through chained assignment using an inplace method.\n",
      "The behavior will change in pandas 3.0. This inplace method will never work because the intermediate object on which we are setting values always behaves as a copy.\n",
      "\n",
      "For example, when doing 'df[col].method(value, inplace=True)', try using 'df.method({col: value}, inplace=True)' or df[col] = df[col].method(value) instead, to perform the operation inplace on the original object.\n",
      "\n",
      "\n",
      "<timed exec>:29: FutureWarning: Downcasting behavior in `replace` is deprecated and will be removed in a future version. To retain the old behavior, explicitly call `result.infer_objects(copy=False)`. To opt-in to the future behavior, set `pd.set_option('future.no_silent_downcasting', True)`\n",
      "\n",
      "\u001b[Assifying columns in training_ModernBase/checkpoint-74942:  25%|████            | 1/4 [00:04<00:12,  4.04s/it]\n",
      "\u001b[Assifying columns in training_ModernBase/checkpoint-74942:  50%|████████        | 2/4 [00:08<00:08,  4.06s/it]\n",
      "\u001b[Assifying columns in training_ModernBase/checkpoint-74942:  75%|████████████    | 3/4 [00:12<00:04,  4.11s/it]\n",
      "Classifying columns in training_ModernBase/checkpoint-74942: 100%|████████████████| 4/4 [00:16<00:00,  4.12s/it]\n",
      "Processing models:  70%|███████████████████████████████████████▉                 | 7/10 [02:01<00:51, 17.16s/it]"
     ]
    },
    {
     "name": "stdout",
     "output_type": "stream",
     "text": [
      "Checkpoint 74942: Stability = 0.05200445434298441\n"
     ]
    },
    {
     "name": "stderr",
     "output_type": "stream",
     "text": [
      "Device set to use cuda:0\n",
      "\n",
      "\u001b[AToken indices sequence length is longer than the specified maximum sequence length for this model (733 > 512). Running this sequence through the model will result in indexing errors\n",
      "<timed exec>:29: FutureWarning: A value is trying to be set on a copy of a DataFrame or Series through chained assignment using an inplace method.\n",
      "The behavior will change in pandas 3.0. This inplace method will never work because the intermediate object on which we are setting values always behaves as a copy.\n",
      "\n",
      "For example, when doing 'df[col].method(value, inplace=True)', try using 'df.method({col: value}, inplace=True)' or df[col] = df[col].method(value) instead, to perform the operation inplace on the original object.\n",
      "\n",
      "\n",
      "<timed exec>:29: FutureWarning: Downcasting behavior in `replace` is deprecated and will be removed in a future version. To retain the old behavior, explicitly call `result.infer_objects(copy=False)`. To opt-in to the future behavior, set `pd.set_option('future.no_silent_downcasting', True)`\n",
      "\n",
      "\u001b[Assifying columns in training_ModernBase/checkpoint-85648:  25%|████            | 1/4 [00:04<00:12,  4.13s/it]\n",
      "\u001b[Assifying columns in training_ModernBase/checkpoint-85648:  50%|████████        | 2/4 [00:08<00:08,  4.13s/it]\n",
      "\u001b[Assifying columns in training_ModernBase/checkpoint-85648:  75%|████████████    | 3/4 [00:12<00:04,  4.15s/it]\n",
      "Classifying columns in training_ModernBase/checkpoint-85648: 100%|████████████████| 4/4 [00:16<00:00,  4.21s/it]\n",
      "Processing models:  80%|█████████████████████████████████████████████▌           | 8/10 [02:18<00:34, 17.25s/it]"
     ]
    },
    {
     "name": "stdout",
     "output_type": "stream",
     "text": [
      "Checkpoint 85648: Stability = 0.04508166295471418\n"
     ]
    },
    {
     "name": "stderr",
     "output_type": "stream",
     "text": [
      "Device set to use cuda:0\n",
      "\n",
      "\u001b[AToken indices sequence length is longer than the specified maximum sequence length for this model (733 > 512). Running this sequence through the model will result in indexing errors\n",
      "<timed exec>:29: FutureWarning: A value is trying to be set on a copy of a DataFrame or Series through chained assignment using an inplace method.\n",
      "The behavior will change in pandas 3.0. This inplace method will never work because the intermediate object on which we are setting values always behaves as a copy.\n",
      "\n",
      "For example, when doing 'df[col].method(value, inplace=True)', try using 'df.method({col: value}, inplace=True)' or df[col] = df[col].method(value) instead, to perform the operation inplace on the original object.\n",
      "\n",
      "\n",
      "<timed exec>:29: FutureWarning: Downcasting behavior in `replace` is deprecated and will be removed in a future version. To retain the old behavior, explicitly call `result.infer_objects(copy=False)`. To opt-in to the future behavior, set `pd.set_option('future.no_silent_downcasting', True)`\n",
      "\n",
      "\u001b[Assifying columns in training_ModernBase/checkpoint-96354:  25%|████            | 1/4 [00:04<00:12,  4.03s/it]\n",
      "\u001b[Assifying columns in training_ModernBase/checkpoint-96354:  50%|████████        | 2/4 [00:08<00:08,  4.02s/it]\n",
      "\u001b[Assifying columns in training_ModernBase/checkpoint-96354:  75%|████████████    | 3/4 [00:12<00:04,  4.05s/it]\n",
      "Classifying columns in training_ModernBase/checkpoint-96354: 100%|████████████████| 4/4 [00:16<00:00,  4.14s/it]\n",
      "Processing models:  90%|███████████████████████████████████████████████████▎     | 9/10 [02:35<00:17, 17.22s/it]"
     ]
    },
    {
     "name": "stdout",
     "output_type": "stream",
     "text": [
      "Checkpoint 96354: Stability = 0.04426503340757238\n"
     ]
    },
    {
     "name": "stderr",
     "output_type": "stream",
     "text": [
      "Device set to use cuda:0\n",
      "\n",
      "\u001b[AToken indices sequence length is longer than the specified maximum sequence length for this model (733 > 512). Running this sequence through the model will result in indexing errors\n",
      "<timed exec>:29: FutureWarning: A value is trying to be set on a copy of a DataFrame or Series through chained assignment using an inplace method.\n",
      "The behavior will change in pandas 3.0. This inplace method will never work because the intermediate object on which we are setting values always behaves as a copy.\n",
      "\n",
      "For example, when doing 'df[col].method(value, inplace=True)', try using 'df.method({col: value}, inplace=True)' or df[col] = df[col].method(value) instead, to perform the operation inplace on the original object.\n",
      "\n",
      "\n",
      "<timed exec>:29: FutureWarning: Downcasting behavior in `replace` is deprecated and will be removed in a future version. To retain the old behavior, explicitly call `result.infer_objects(copy=False)`. To opt-in to the future behavior, set `pd.set_option('future.no_silent_downcasting', True)`\n",
      "\n",
      "\u001b[Assifying columns in training_ModernBase/checkpoint-107060:  25%|███▊           | 1/4 [00:04<00:12,  4.08s/it]\n",
      "\u001b[Assifying columns in training_ModernBase/checkpoint-107060:  50%|███████▌       | 2/4 [00:08<00:08,  4.23s/it]\n",
      "\u001b[Assifying columns in training_ModernBase/checkpoint-107060:  75%|███████████▎   | 3/4 [00:12<00:04,  4.18s/it]\n",
      "Classifying columns in training_ModernBase/checkpoint-107060: 100%|███████████████| 4/4 [00:16<00:00,  4.18s/it]\n",
      "Processing models: 100%|████████████████████████████████████████████████████████| 10/10 [02:53<00:00, 17.31s/it]"
     ]
    },
    {
     "name": "stdout",
     "output_type": "stream",
     "text": [
      "Checkpoint 107060: Stability = 0.04599109131403118\n",
      "CPU times: user 3min 2s, sys: 7.2 s, total: 3min 10s\n",
      "Wall time: 2min 53s\n"
     ]
    },
    {
     "name": "stderr",
     "output_type": "stream",
     "text": [
      "\n"
     ]
    }
   ],
   "source": [
    "%%time\n",
    "# Path to the folder containing model checkpoints\n",
    "model_folder = \"training_ModernBase\"\n",
    "\n",
    "# Get a sorted list of checkpoint folders\n",
    "checkpoints = sorted(\n",
    "    [\n",
    "        os.path.join(model_folder, d) for d in os.listdir(model_folder)\n",
    "        if os.path.isdir(os.path.join(model_folder, d)) and re.match(r'checkpoint-\\d+', d)\n",
    "    ],\n",
    "    key=lambda x: int(re.search(r'checkpoint-(\\d+)', x).group(1))\n",
    ")\n",
    "\n",
    "# Prepare to store stability results\n",
    "stability_results = []\n",
    "\n",
    "# Iterate over each checkpoint\n",
    "for model_path in tqdm(checkpoints, desc=\"Processing models\"):\n",
    "    # Load the pipeline for the current checkpoint\n",
    "    #pipe = pipeline(\"zero-shot-classification\", model=model_path, device='cuda', batch_size=64, torch_dtype = torch.bfloat16)\n",
    "    pipe = pipeline('text-classification', model = model_path, batch_size = 64, torch_dtype = torch.bfloat16)\n",
    "\n",
    "    colnames = ['hypothesis', 'alt1', 'alt2', 'alt3']\n",
    "    for col in tqdm(colnames, desc=f'Classifying columns in {model_path}'):\n",
    "        colname = col + '_label'\n",
    "        dicts = [{'text':test.loc[i, 'premise'], 'text_pair':test.loc[i, col]} for i in test.index]\n",
    "        res = pipe(dicts)\n",
    "        res = [result['label'] for result in res]\n",
    "        test[colname] = res\n",
    "        test[colname].replace({'entailment': 0, 'not_entailment': 1}, inplace=True)\n",
    "\n",
    "    stability = hypothesis_stability(test[['hypothesis_label', 'alt1_label', 'alt2_label', 'alt3_label']])\n",
    "    checkpoint_number = int(re.search(r'checkpoint-(\\d+)', model_path).group(1))\n",
    "    stability_results.append((checkpoint_number, stability))\n",
    "    # Print the result for the current model\n",
    "    print(f\"Checkpoint {checkpoint_number}: Stability = {stability}\")\n",
    "    # Convert results to a DataFrame\n",
    "    stability_df = pd.DataFrame(stability_results, columns=[\"Checkpoint\", \"Stability\"])\n",
    "    # Sort by checkpoint for plotting\n",
    "    stability_df.sort_values(\"Checkpoint\", inplace=True)"
   ]
  },
  {
   "cell_type": "code",
   "execution_count": 8,
   "metadata": {},
   "outputs": [
    {
     "data": {
      "image/png": "[encoded data removed]",
      "text/plain": [
       "<Figure size 1000x600 with 1 Axes>"
      ]
     },
     "metadata": {},
     "output_type": "display_data"
    }
   ],
   "source": [
    "# Plot the results\n",
    "plt.figure(figsize=(10, 6))\n",
    "plt.plot(stability_df[\"Checkpoint\"], stability_df[\"Stability\"], marker=\"o\")\n",
    "plt.title(\"Stability of Labels Across Checkpoints\", fontsize=14)\n",
    "plt.xlabel(\"Checkpoint\", fontsize=12)\n",
    "plt.ylabel(\"Stability Metric\", fontsize=12)\n",
    "plt.grid(True)\n",
    "plt.show()"
   ]
  },
  {
   "cell_type": "markdown",
   "metadata": {},
   "source": [
    "# ModernBERT Large"
   ]
  },
  {
   "cell_type": "code",
   "execution_count": 6,
   "metadata": {
    "scrolled": true
   },
   "outputs": [
    {
     "name": "stderr",
     "output_type": "stream",
     "text": [
      "Device set to use cuda:0                                                                 | 0/10 [00:00<?, ?it/s]\n",
      "\n",
      "\u001b[AToken indices sequence length is longer than the specified maximum sequence length for this model (733 > 512). Running this sequence through the model will result in indexing errors\n",
      "<timed exec>:29: FutureWarning: A value is trying to be set on a copy of a DataFrame or Series through chained assignment using an inplace method.\n",
      "The behavior will change in pandas 3.0. This inplace method will never work because the intermediate object on which we are setting values always behaves as a copy.\n",
      "\n",
      "For example, when doing 'df[col].method(value, inplace=True)', try using 'df.method({col: value}, inplace=True)' or df[col] = df[col].method(value) instead, to perform the operation inplace on the original object.\n",
      "\n",
      "\n",
      "<timed exec>:29: FutureWarning: Downcasting behavior in `replace` is deprecated and will be removed in a future version. To retain the old behavior, explicitly call `result.infer_objects(copy=False)`. To opt-in to the future behavior, set `pd.set_option('future.no_silent_downcasting', True)`\n",
      "\n",
      "\u001b[A<timed exec>:29: FutureWarning: A value is trying to be set on a copy of a DataFrame or Series through chained assignment using an inplace method.\n",
      "The behavior will change in pandas 3.0. This inplace method will never work because the intermediate object on which we are setting values always behaves as a copy.\n",
      "\n",
      "For example, when doing 'df[col].method(value, inplace=True)', try using 'df.method({col: value}, inplace=True)' or df[col] = df[col].method(value) instead, to perform the operation inplace on the original object.\n",
      "\n",
      "\n",
      "<timed exec>:29: FutureWarning: Downcasting behavior in `replace` is deprecated and will be removed in a future version. To retain the old behavior, explicitly call `result.infer_objects(copy=False)`. To opt-in to the future behavior, set `pd.set_option('future.no_silent_downcasting', True)`\n",
      "\n",
      "\u001b[A<timed exec>:29: FutureWarning: A value is trying to be set on a copy of a DataFrame or Series through chained assignment using an inplace method.\n",
      "The behavior will change in pandas 3.0. This inplace method will never work because the intermediate object on which we are setting values always behaves as a copy.\n",
      "\n",
      "For example, when doing 'df[col].method(value, inplace=True)', try using 'df.method({col: value}, inplace=True)' or df[col] = df[col].method(value) instead, to perform the operation inplace on the original object.\n",
      "\n",
      "\n",
      "<timed exec>:29: FutureWarning: Downcasting behavior in `replace` is deprecated and will be removed in a future version. To retain the old behavior, explicitly call `result.infer_objects(copy=False)`. To opt-in to the future behavior, set `pd.set_option('future.no_silent_downcasting', True)`\n",
      "\n",
      "\u001b[A<timed exec>:29: FutureWarning: A value is trying to be set on a copy of a DataFrame or Series through chained assignment using an inplace method.\n",
      "The behavior will change in pandas 3.0. This inplace method will never work because the intermediate object on which we are setting values always behaves as a copy.\n",
      "\n",
      "For example, when doing 'df[col].method(value, inplace=True)', try using 'df.method({col: value}, inplace=True)' or df[col] = df[col].method(value) instead, to perform the operation inplace on the original object.\n",
      "\n",
      "\n",
      "<timed exec>:29: FutureWarning: Downcasting behavior in `replace` is deprecated and will be removed in a future version. To retain the old behavior, explicitly call `result.infer_objects(copy=False)`. To opt-in to the future behavior, set `pd.set_option('future.no_silent_downcasting', True)`\n",
      "\n",
      "Classifying columns in training_ModernLarge/checkpoint-10705: 100%|███████████████| 4/4 [00:33<00:00,  8.43s/it]\n",
      "Processing models:  10%|█████▋                                                   | 1/10 [00:34<05:09, 34.42s/it]"
     ]
    },
    {
     "name": "stdout",
     "output_type": "stream",
     "text": [
      "Checkpoint 10705: Stability = 0.032015590200445435\n"
     ]
    },
    {
     "name": "stderr",
     "output_type": "stream",
     "text": [
      "Device set to use cuda:0\n",
      "\n",
      "\u001b[AToken indices sequence length is longer than the specified maximum sequence length for this model (733 > 512). Running this sequence through the model will result in indexing errors\n",
      "<timed exec>:29: FutureWarning: A value is trying to be set on a copy of a DataFrame or Series through chained assignment using an inplace method.\n",
      "The behavior will change in pandas 3.0. This inplace method will never work because the intermediate object on which we are setting values always behaves as a copy.\n",
      "\n",
      "For example, when doing 'df[col].method(value, inplace=True)', try using 'df.method({col: value}, inplace=True)' or df[col] = df[col].method(value) instead, to perform the operation inplace on the original object.\n",
      "\n",
      "\n",
      "<timed exec>:29: FutureWarning: Downcasting behavior in `replace` is deprecated and will be removed in a future version. To retain the old behavior, explicitly call `result.infer_objects(copy=False)`. To opt-in to the future behavior, set `pd.set_option('future.no_silent_downcasting', True)`\n",
      "\n",
      "\u001b[Assifying columns in training_ModernLarge/checkpoint-21410:  25%|███▊           | 1/4 [00:08<00:24,  8.28s/it]\n",
      "\u001b[Assifying columns in training_ModernLarge/checkpoint-21410:  50%|███████▌       | 2/4 [00:16<00:16,  8.25s/it]\n",
      "\u001b[Assifying columns in training_ModernLarge/checkpoint-21410:  75%|███████████▎   | 3/4 [00:24<00:08,  8.30s/it]\n",
      "Classifying columns in training_ModernLarge/checkpoint-21410: 100%|███████████████| 4/4 [00:33<00:00,  8.33s/it]\n",
      "Processing models:  20%|███████████▍                                             | 2/10 [01:08<04:35, 34.39s/it]"
     ]
    },
    {
     "name": "stdout",
     "output_type": "stream",
     "text": [
      "Checkpoint 21410: Stability = 0.031310319227913885\n"
     ]
    },
    {
     "name": "stderr",
     "output_type": "stream",
     "text": [
      "Device set to use cuda:0\n",
      "\n",
      "\u001b[AToken indices sequence length is longer than the specified maximum sequence length for this model (733 > 512). Running this sequence through the model will result in indexing errors\n",
      "<timed exec>:29: FutureWarning: A value is trying to be set on a copy of a DataFrame or Series through chained assignment using an inplace method.\n",
      "The behavior will change in pandas 3.0. This inplace method will never work because the intermediate object on which we are setting values always behaves as a copy.\n",
      "\n",
      "For example, when doing 'df[col].method(value, inplace=True)', try using 'df.method({col: value}, inplace=True)' or df[col] = df[col].method(value) instead, to perform the operation inplace on the original object.\n",
      "\n",
      "\n",
      "<timed exec>:29: FutureWarning: Downcasting behavior in `replace` is deprecated and will be removed in a future version. To retain the old behavior, explicitly call `result.infer_objects(copy=False)`. To opt-in to the future behavior, set `pd.set_option('future.no_silent_downcasting', True)`\n",
      "\n",
      "\u001b[Assifying columns in training_ModernLarge/checkpoint-32115:  25%|███▊           | 1/4 [00:08<00:24,  8.19s/it]\n",
      "\u001b[Assifying columns in training_ModernLarge/checkpoint-32115:  50%|███████▌       | 2/4 [00:16<00:16,  8.20s/it]\n",
      "\u001b[Assifying columns in training_ModernLarge/checkpoint-32115:  75%|███████████▎   | 3/4 [00:24<00:08,  8.27s/it]\n",
      "Classifying columns in training_ModernLarge/checkpoint-32115: 100%|███████████████| 4/4 [00:33<00:00,  8.31s/it]\n",
      "Processing models:  30%|█████████████████                                        | 3/10 [01:43<04:00, 34.32s/it]"
     ]
    },
    {
     "name": "stdout",
     "output_type": "stream",
     "text": [
      "Checkpoint 32115: Stability = 0.035653303637713435\n"
     ]
    },
    {
     "name": "stderr",
     "output_type": "stream",
     "text": [
      "Device set to use cuda:0\n",
      "\n",
      "\u001b[AToken indices sequence length is longer than the specified maximum sequence length for this model (733 > 512). Running this sequence through the model will result in indexing errors\n",
      "<timed exec>:29: FutureWarning: A value is trying to be set on a copy of a DataFrame or Series through chained assignment using an inplace method.\n",
      "The behavior will change in pandas 3.0. This inplace method will never work because the intermediate object on which we are setting values always behaves as a copy.\n",
      "\n",
      "For example, when doing 'df[col].method(value, inplace=True)', try using 'df.method({col: value}, inplace=True)' or df[col] = df[col].method(value) instead, to perform the operation inplace on the original object.\n",
      "\n",
      "\n",
      "<timed exec>:29: FutureWarning: Downcasting behavior in `replace` is deprecated and will be removed in a future version. To retain the old behavior, explicitly call `result.infer_objects(copy=False)`. To opt-in to the future behavior, set `pd.set_option('future.no_silent_downcasting', True)`\n",
      "\n",
      "\u001b[Assifying columns in training_ModernLarge/checkpoint-42820:  25%|███▊           | 1/4 [00:08<00:24,  8.29s/it]\n",
      "\u001b[Assifying columns in training_ModernLarge/checkpoint-42820:  50%|███████▌       | 2/4 [00:16<00:16,  8.28s/it]\n",
      "\u001b[Assifying columns in training_ModernLarge/checkpoint-42820:  75%|███████████▎   | 3/4 [00:24<00:08,  8.31s/it]\n",
      "Classifying columns in training_ModernLarge/checkpoint-42820: 100%|███████████████| 4/4 [00:33<00:00,  8.35s/it]\n",
      "Processing models:  40%|██████████████████████▊                                  | 4/10 [02:17<03:26, 34.36s/it]"
     ]
    },
    {
     "name": "stdout",
     "output_type": "stream",
     "text": [
      "Checkpoint 42820: Stability = 0.037305122494432075\n"
     ]
    },
    {
     "name": "stderr",
     "output_type": "stream",
     "text": [
      "Device set to use cuda:0\n",
      "\n",
      "\u001b[AToken indices sequence length is longer than the specified maximum sequence length for this model (733 > 512). Running this sequence through the model will result in indexing errors\n",
      "<timed exec>:29: FutureWarning: A value is trying to be set on a copy of a DataFrame or Series through chained assignment using an inplace method.\n",
      "The behavior will change in pandas 3.0. This inplace method will never work because the intermediate object on which we are setting values always behaves as a copy.\n",
      "\n",
      "For example, when doing 'df[col].method(value, inplace=True)', try using 'df.method({col: value}, inplace=True)' or df[col] = df[col].method(value) instead, to perform the operation inplace on the original object.\n",
      "\n",
      "\n",
      "<timed exec>:29: FutureWarning: Downcasting behavior in `replace` is deprecated and will be removed in a future version. To retain the old behavior, explicitly call `result.infer_objects(copy=False)`. To opt-in to the future behavior, set `pd.set_option('future.no_silent_downcasting', True)`\n",
      "\n",
      "\u001b[Assifying columns in training_ModernLarge/checkpoint-53525:  25%|███▊           | 1/4 [00:08<00:24,  8.25s/it]\n",
      "\u001b[Assifying columns in training_ModernLarge/checkpoint-53525:  50%|███████▌       | 2/4 [00:16<00:16,  8.23s/it]\n",
      "\u001b[Assifying columns in training_ModernLarge/checkpoint-53525:  75%|███████████▎   | 3/4 [00:24<00:08,  8.27s/it]\n",
      "Classifying columns in training_ModernLarge/checkpoint-53525: 100%|███████████████| 4/4 [00:33<00:00,  8.34s/it]\n",
      "Processing models:  50%|████████████████████████████▌                            | 5/10 [02:51<02:51, 34.38s/it]"
     ]
    },
    {
     "name": "stdout",
     "output_type": "stream",
     "text": [
      "Checkpoint 53525: Stability = 0.033741648106904235\n"
     ]
    },
    {
     "name": "stderr",
     "output_type": "stream",
     "text": [
      "Device set to use cuda:0\n",
      "\n",
      "\u001b[AToken indices sequence length is longer than the specified maximum sequence length for this model (733 > 512). Running this sequence through the model will result in indexing errors\n",
      "<timed exec>:29: FutureWarning: A value is trying to be set on a copy of a DataFrame or Series through chained assignment using an inplace method.\n",
      "The behavior will change in pandas 3.0. This inplace method will never work because the intermediate object on which we are setting values always behaves as a copy.\n",
      "\n",
      "For example, when doing 'df[col].method(value, inplace=True)', try using 'df.method({col: value}, inplace=True)' or df[col] = df[col].method(value) instead, to perform the operation inplace on the original object.\n",
      "\n",
      "\n",
      "<timed exec>:29: FutureWarning: Downcasting behavior in `replace` is deprecated and will be removed in a future version. To retain the old behavior, explicitly call `result.infer_objects(copy=False)`. To opt-in to the future behavior, set `pd.set_option('future.no_silent_downcasting', True)`\n",
      "\n",
      "\u001b[Assifying columns in training_ModernLarge/checkpoint-64230:  25%|███▊           | 1/4 [00:08<00:25,  8.37s/it]\n",
      "\u001b[Assifying columns in training_ModernLarge/checkpoint-64230:  50%|███████▌       | 2/4 [00:16<00:16,  8.39s/it]\n",
      "\u001b[Assifying columns in training_ModernLarge/checkpoint-64230:  75%|███████████▎   | 3/4 [00:25<00:08,  8.36s/it]\n",
      "Classifying columns in training_ModernLarge/checkpoint-64230: 100%|███████████████| 4/4 [00:33<00:00,  8.40s/it]\n",
      "Processing models:  60%|██████████████████████████████████▏                      | 6/10 [03:26<02:17, 34.45s/it]"
     ]
    },
    {
     "name": "stdout",
     "output_type": "stream",
     "text": [
      "Checkpoint 64230: Stability = 0.03789903489235338\n"
     ]
    },
    {
     "name": "stderr",
     "output_type": "stream",
     "text": [
      "Device set to use cuda:0\n",
      "\n",
      "\u001b[AToken indices sequence length is longer than the specified maximum sequence length for this model (733 > 512). Running this sequence through the model will result in indexing errors\n",
      "<timed exec>:29: FutureWarning: A value is trying to be set on a copy of a DataFrame or Series through chained assignment using an inplace method.\n",
      "The behavior will change in pandas 3.0. This inplace method will never work because the intermediate object on which we are setting values always behaves as a copy.\n",
      "\n",
      "For example, when doing 'df[col].method(value, inplace=True)', try using 'df.method({col: value}, inplace=True)' or df[col] = df[col].method(value) instead, to perform the operation inplace on the original object.\n",
      "\n",
      "\n",
      "<timed exec>:29: FutureWarning: Downcasting behavior in `replace` is deprecated and will be removed in a future version. To retain the old behavior, explicitly call `result.infer_objects(copy=False)`. To opt-in to the future behavior, set `pd.set_option('future.no_silent_downcasting', True)`\n",
      "\n",
      "\u001b[Assifying columns in training_ModernLarge/checkpoint-74935:  25%|███▊           | 1/4 [00:08<00:24,  8.26s/it]\n",
      "\u001b[Assifying columns in training_ModernLarge/checkpoint-74935:  50%|███████▌       | 2/4 [00:16<00:16,  8.30s/it]\n",
      "\u001b[Assifying columns in training_ModernLarge/checkpoint-74935:  75%|███████████▎   | 3/4 [00:24<00:08,  8.34s/it]\n",
      "Classifying columns in training_ModernLarge/checkpoint-74935: 100%|███████████████| 4/4 [00:33<00:00,  8.37s/it]\n",
      "Processing models:  70%|███████████████████████████████████████▉                 | 7/10 [04:01<01:43, 34.55s/it]"
     ]
    },
    {
     "name": "stdout",
     "output_type": "stream",
     "text": [
      "Checkpoint 74935: Stability = 0.02969561989606533\n"
     ]
    },
    {
     "name": "stderr",
     "output_type": "stream",
     "text": [
      "Device set to use cuda:0\n",
      "\n",
      "\u001b[AToken indices sequence length is longer than the specified maximum sequence length for this model (733 > 512). Running this sequence through the model will result in indexing errors\n",
      "<timed exec>:29: FutureWarning: A value is trying to be set on a copy of a DataFrame or Series through chained assignment using an inplace method.\n",
      "The behavior will change in pandas 3.0. This inplace method will never work because the intermediate object on which we are setting values always behaves as a copy.\n",
      "\n",
      "For example, when doing 'df[col].method(value, inplace=True)', try using 'df.method({col: value}, inplace=True)' or df[col] = df[col].method(value) instead, to perform the operation inplace on the original object.\n",
      "\n",
      "\n",
      "<timed exec>:29: FutureWarning: Downcasting behavior in `replace` is deprecated and will be removed in a future version. To retain the old behavior, explicitly call `result.infer_objects(copy=False)`. To opt-in to the future behavior, set `pd.set_option('future.no_silent_downcasting', True)`\n",
      "\n",
      "\u001b[Assifying columns in training_ModernLarge/checkpoint-85640:  25%|███▊           | 1/4 [00:08<00:24,  8.29s/it]\n",
      "\u001b[Assifying columns in training_ModernLarge/checkpoint-85640:  50%|███████▌       | 2/4 [00:24<00:26, 13.13s/it]\n",
      "\u001b[Assifying columns in training_ModernLarge/checkpoint-85640:  75%|███████████▎   | 3/4 [00:45<00:16, 16.60s/it]\n",
      "Classifying columns in training_ModernLarge/checkpoint-85640: 100%|███████████████| 4/4 [01:06<00:00, 16.73s/it]\n",
      "Processing models:  80%|█████████████████████████████████████████████▌           | 8/10 [05:09<01:30, 45.19s/it]"
     ]
    },
    {
     "name": "stdout",
     "output_type": "stream",
     "text": [
      "Checkpoint 85640: Stability = 0.03275798069784707\n"
     ]
    },
    {
     "name": "stderr",
     "output_type": "stream",
     "text": [
      "Device set to use cuda:0\n",
      "\n",
      "\u001b[AToken indices sequence length is longer than the specified maximum sequence length for this model (733 > 512). Running this sequence through the model will result in indexing errors\n",
      "<timed exec>:29: FutureWarning: A value is trying to be set on a copy of a DataFrame or Series through chained assignment using an inplace method.\n",
      "The behavior will change in pandas 3.0. This inplace method will never work because the intermediate object on which we are setting values always behaves as a copy.\n",
      "\n",
      "For example, when doing 'df[col].method(value, inplace=True)', try using 'df.method({col: value}, inplace=True)' or df[col] = df[col].method(value) instead, to perform the operation inplace on the original object.\n",
      "\n",
      "\n",
      "<timed exec>:29: FutureWarning: Downcasting behavior in `replace` is deprecated and will be removed in a future version. To retain the old behavior, explicitly call `result.infer_objects(copy=False)`. To opt-in to the future behavior, set `pd.set_option('future.no_silent_downcasting', True)`\n",
      "\n",
      "\u001b[Assifying columns in training_ModernLarge/checkpoint-96345:  25%|███▊           | 1/4 [00:21<01:03, 21.19s/it]\n",
      "\u001b[Assifying columns in training_ModernLarge/checkpoint-96345:  50%|███████▌       | 2/4 [00:42<00:42, 21.11s/it]\n",
      "\u001b[Assifying columns in training_ModernLarge/checkpoint-96345:  75%|███████████▎   | 3/4 [01:02<00:20, 20.63s/it]\n",
      "Classifying columns in training_ModernLarge/checkpoint-96345: 100%|███████████████| 4/4 [01:23<00:00, 20.83s/it]\n",
      "Processing models:  90%|███████████████████████████████████████████████████▎     | 9/10 [06:33<00:57, 57.46s/it]"
     ]
    },
    {
     "name": "stdout",
     "output_type": "stream",
     "text": [
      "Checkpoint 96345: Stability = 0.030753526354862656\n"
     ]
    },
    {
     "name": "stderr",
     "output_type": "stream",
     "text": [
      "Device set to use cuda:0\n",
      "\n",
      "\u001b[AToken indices sequence length is longer than the specified maximum sequence length for this model (733 > 512). Running this sequence through the model will result in indexing errors\n",
      "<timed exec>:29: FutureWarning: A value is trying to be set on a copy of a DataFrame or Series through chained assignment using an inplace method.\n",
      "The behavior will change in pandas 3.0. This inplace method will never work because the intermediate object on which we are setting values always behaves as a copy.\n",
      "\n",
      "For example, when doing 'df[col].method(value, inplace=True)', try using 'df.method({col: value}, inplace=True)' or df[col] = df[col].method(value) instead, to perform the operation inplace on the original object.\n",
      "\n",
      "\n",
      "<timed exec>:29: FutureWarning: Downcasting behavior in `replace` is deprecated and will be removed in a future version. To retain the old behavior, explicitly call `result.infer_objects(copy=False)`. To opt-in to the future behavior, set `pd.set_option('future.no_silent_downcasting', True)`\n",
      "\n",
      "\u001b[Assifying columns in training_ModernLarge/checkpoint-107050:  25%|███▌          | 1/4 [00:20<01:01, 20.66s/it]\n",
      "\u001b[Assifying columns in training_ModernLarge/checkpoint-107050:  50%|███████       | 2/4 [00:42<00:42, 21.09s/it]\n",
      "\u001b[Assifying columns in training_ModernLarge/checkpoint-107050:  75%|██████████▌   | 3/4 [01:03<00:21, 21.28s/it]\n",
      "Classifying columns in training_ModernLarge/checkpoint-107050: 100%|██████████████| 4/4 [01:23<00:00, 20.85s/it]\n",
      "Processing models: 100%|████████████████████████████████████████████████████████| 10/10 [07:58<00:00, 47.81s/it]"
     ]
    },
    {
     "name": "stdout",
     "output_type": "stream",
     "text": [
      "Checkpoint 107050: Stability = 0.030957683741648107\n",
      "CPU times: user 8min 8s, sys: 10.7 s, total: 8min 18s\n",
      "Wall time: 7min 58s\n"
     ]
    },
    {
     "name": "stderr",
     "output_type": "stream",
     "text": [
      "\n"
     ]
    }
   ],
   "source": [
    "%%time\n",
    "# Path to the folder containing model checkpoints\n",
    "model_folder = \"training_ModernLarge\"\n",
    "\n",
    "# Get a sorted list of checkpoint folders\n",
    "checkpoints = sorted(\n",
    "    [\n",
    "        os.path.join(model_folder, d) for d in os.listdir(model_folder)\n",
    "        if os.path.isdir(os.path.join(model_folder, d)) and re.match(r'checkpoint-\\d+', d)\n",
    "    ],\n",
    "    key=lambda x: int(re.search(r'checkpoint-(\\d+)', x).group(1))\n",
    ")\n",
    "\n",
    "# Prepare to store stability results\n",
    "stability_results = []\n",
    "\n",
    "# Iterate over each checkpoint\n",
    "for model_path in tqdm(checkpoints, desc=\"Processing models\"):\n",
    "    # Load the pipeline for the current checkpoint\n",
    "    #pipe = pipeline(\"zero-shot-classification\", model=model_path, device='cuda', batch_size=64, torch_dtype = torch.bfloat16)\n",
    "    pipe = pipeline('text-classification', model = model_path, batch_size = 64, torch_dtype = torch.bfloat16)\n",
    "\n",
    "    colnames = ['hypothesis', 'alt1', 'alt2', 'alt3']\n",
    "    for col in tqdm(colnames, desc=f'Classifying columns in {model_path}'):\n",
    "        colname = col + '_label'\n",
    "        dicts = [{'text':test.loc[i, 'premise'], 'text_pair':test.loc[i, col]} for i in test.index]\n",
    "        res = pipe(dicts)\n",
    "        res = [result['label'] for result in res]\n",
    "        test[colname] = res\n",
    "        test[colname].replace({'entailment': 0, 'not_entailment': 1}, inplace=True)\n",
    "\n",
    "    stability = hypothesis_stability(test[['hypothesis_label', 'alt1_label', 'alt2_label', 'alt3_label']])\n",
    "    checkpoint_number = int(re.search(r'checkpoint-(\\d+)', model_path).group(1))\n",
    "    stability_results.append((checkpoint_number, stability))\n",
    "    # Print the result for the current model\n",
    "    print(f\"Checkpoint {checkpoint_number}: Stability = {stability}\")\n",
    "    # Convert results to a DataFrame\n",
    "    stability_df = pd.DataFrame(stability_results, columns=[\"Checkpoint\", \"Stability\"])\n",
    "    # Sort by checkpoint for plotting\n",
    "    stability_df.sort_values(\"Checkpoint\", inplace=True)"
   ]
  },
  {
   "cell_type": "code",
   "execution_count": 7,
   "metadata": {},
   "outputs": [
    {
     "data": {
      "image/png": "[encoded data removed]",
      "text/plain": [
       "<Figure size 1000x600 with 1 Axes>"
      ]
     },
     "metadata": {},
     "output_type": "display_data"
    }
   ],
   "source": [
    "# Plot the results\n",
    "plt.figure(figsize=(10, 6))\n",
    "plt.plot(stability_df[\"Checkpoint\"], stability_df[\"Stability\"], marker=\"o\")\n",
    "plt.title(\"Stability of Labels Across Checkpoints\", fontsize=14)\n",
    "plt.xlabel(\"Checkpoint\", fontsize=12)\n",
    "plt.ylabel(\"Stability Metric\", fontsize=12)\n",
    "plt.grid(True)\n",
    "plt.show()"
   ]
  },
  {
   "cell_type": "markdown",
   "metadata": {},
   "source": [
    "# DeBERTa Base"
   ]
  },
  {
   "cell_type": "code",
   "execution_count": 9,
   "metadata": {
    "scrolled": true
   },
   "outputs": [
    {
     "name": "stderr",
     "output_type": "stream",
     "text": [
      "Device set to use cuda:0                                                                 | 0/10 [00:00<?, ?it/s]\n",
      "\n",
      "\u001b[AToken indices sequence length is longer than the specified maximum sequence length for this model (670 > 512). Running this sequence through the model will result in indexing errors\n",
      "<timed exec>:29: FutureWarning: A value is trying to be set on a copy of a DataFrame or Series through chained assignment using an inplace method.\n",
      "The behavior will change in pandas 3.0. This inplace method will never work because the intermediate object on which we are setting values always behaves as a copy.\n",
      "\n",
      "For example, when doing 'df[col].method(value, inplace=True)', try using 'df.method({col: value}, inplace=True)' or df[col] = df[col].method(value) instead, to perform the operation inplace on the original object.\n",
      "\n",
      "\n",
      "<timed exec>:29: FutureWarning: Downcasting behavior in `replace` is deprecated and will be removed in a future version. To retain the old behavior, explicitly call `result.infer_objects(copy=False)`. To opt-in to the future behavior, set `pd.set_option('future.no_silent_downcasting', True)`\n",
      "\n",
      "\u001b[Assifying columns in training_base/checkpoint-10706:  25%|█████▌                | 1/4 [00:11<00:34, 11.61s/it]\n",
      "\u001b[Assifying columns in training_base/checkpoint-10706:  50%|███████████           | 2/4 [00:22<00:22, 11.21s/it]\n",
      "\u001b[Assifying columns in training_base/checkpoint-10706:  75%|████████████████▌     | 3/4 [00:33<00:11, 11.26s/it]\n",
      "Classifying columns in training_base/checkpoint-10706: 100%|██████████████████████| 4/4 [00:45<00:00, 11.26s/it]\n",
      "Processing models:  10%|█████▋                                                   | 1/10 [00:45<06:53, 45.90s/it]"
     ]
    },
    {
     "name": "stdout",
     "output_type": "stream",
     "text": [
      "Checkpoint 10706: Stability = 0.03945805493689681\n"
     ]
    },
    {
     "name": "stderr",
     "output_type": "stream",
     "text": [
      "Device set to use cuda:0\n",
      "\n",
      "\u001b[AToken indices sequence length is longer than the specified maximum sequence length for this model (670 > 512). Running this sequence through the model will result in indexing errors\n",
      "<timed exec>:29: FutureWarning: A value is trying to be set on a copy of a DataFrame or Series through chained assignment using an inplace method.\n",
      "The behavior will change in pandas 3.0. This inplace method will never work because the intermediate object on which we are setting values always behaves as a copy.\n",
      "\n",
      "For example, when doing 'df[col].method(value, inplace=True)', try using 'df.method({col: value}, inplace=True)' or df[col] = df[col].method(value) instead, to perform the operation inplace on the original object.\n",
      "\n",
      "\n",
      "<timed exec>:29: FutureWarning: Downcasting behavior in `replace` is deprecated and will be removed in a future version. To retain the old behavior, explicitly call `result.infer_objects(copy=False)`. To opt-in to the future behavior, set `pd.set_option('future.no_silent_downcasting', True)`\n",
      "\n",
      "\u001b[Assifying columns in training_base/checkpoint-21412:  25%|█████▌                | 1/4 [00:11<00:33, 11.09s/it]\n",
      "\u001b[Assifying columns in training_base/checkpoint-21412:  50%|███████████           | 2/4 [00:22<00:22, 11.23s/it]\n",
      "\u001b[Assifying columns in training_base/checkpoint-21412:  75%|████████████████▌     | 3/4 [00:33<00:11, 11.25s/it]\n",
      "Classifying columns in training_base/checkpoint-21412: 100%|██████████████████████| 4/4 [00:45<00:00, 11.26s/it]\n",
      "Processing models:  20%|███████████▍                                             | 2/10 [01:31<06:06, 45.82s/it]"
     ]
    },
    {
     "name": "stdout",
     "output_type": "stream",
     "text": [
      "Checkpoint 21412: Stability = 0.03303637713437268\n"
     ]
    },
    {
     "name": "stderr",
     "output_type": "stream",
     "text": [
      "Device set to use cuda:0\n",
      "\n",
      "\u001b[AToken indices sequence length is longer than the specified maximum sequence length for this model (670 > 512). Running this sequence through the model will result in indexing errors\n",
      "<timed exec>:29: FutureWarning: A value is trying to be set on a copy of a DataFrame or Series through chained assignment using an inplace method.\n",
      "The behavior will change in pandas 3.0. This inplace method will never work because the intermediate object on which we are setting values always behaves as a copy.\n",
      "\n",
      "For example, when doing 'df[col].method(value, inplace=True)', try using 'df.method({col: value}, inplace=True)' or df[col] = df[col].method(value) instead, to perform the operation inplace on the original object.\n",
      "\n",
      "\n",
      "<timed exec>:29: FutureWarning: Downcasting behavior in `replace` is deprecated and will be removed in a future version. To retain the old behavior, explicitly call `result.infer_objects(copy=False)`. To opt-in to the future behavior, set `pd.set_option('future.no_silent_downcasting', True)`\n",
      "\n",
      "\u001b[Assifying columns in training_base/checkpoint-32118:  25%|█████▌                | 1/4 [00:11<00:33, 11.12s/it]\n",
      "\u001b[Assifying columns in training_base/checkpoint-32118:  50%|███████████           | 2/4 [00:22<00:22, 11.13s/it]\n",
      "\u001b[Assifying columns in training_base/checkpoint-32118:  75%|████████████████▌     | 3/4 [00:33<00:11, 11.19s/it]\n",
      "Classifying columns in training_base/checkpoint-32118: 100%|██████████████████████| 4/4 [00:44<00:00, 11.21s/it]\n",
      "Processing models:  30%|█████████████████                                        | 3/10 [02:17<05:20, 45.72s/it]"
     ]
    },
    {
     "name": "stdout",
     "output_type": "stream",
     "text": [
      "Checkpoint 32118: Stability = 0.03771343726800297\n"
     ]
    },
    {
     "name": "stderr",
     "output_type": "stream",
     "text": [
      "Device set to use cuda:0\n",
      "\n",
      "\u001b[AToken indices sequence length is longer than the specified maximum sequence length for this model (670 > 512). Running this sequence through the model will result in indexing errors\n",
      "<timed exec>:29: FutureWarning: A value is trying to be set on a copy of a DataFrame or Series through chained assignment using an inplace method.\n",
      "The behavior will change in pandas 3.0. This inplace method will never work because the intermediate object on which we are setting values always behaves as a copy.\n",
      "\n",
      "For example, when doing 'df[col].method(value, inplace=True)', try using 'df.method({col: value}, inplace=True)' or df[col] = df[col].method(value) instead, to perform the operation inplace on the original object.\n",
      "\n",
      "\n",
      "<timed exec>:29: FutureWarning: Downcasting behavior in `replace` is deprecated and will be removed in a future version. To retain the old behavior, explicitly call `result.infer_objects(copy=False)`. To opt-in to the future behavior, set `pd.set_option('future.no_silent_downcasting', True)`\n",
      "\n",
      "\u001b[Assifying columns in training_base/checkpoint-42824:  25%|█████▌                | 1/4 [00:11<00:33, 11.18s/it]\n",
      "\u001b[Assifying columns in training_base/checkpoint-42824:  50%|███████████           | 2/4 [00:22<00:22, 11.17s/it]\n",
      "\u001b[Assifying columns in training_base/checkpoint-42824:  75%|████████████████▌     | 3/4 [00:33<00:11, 11.23s/it]\n",
      "Classifying columns in training_base/checkpoint-42824: 100%|██████████████████████| 4/4 [00:44<00:00, 11.25s/it]\n",
      "Processing models:  40%|██████████████████████▊                                  | 4/10 [03:03<04:34, 45.74s/it]"
     ]
    },
    {
     "name": "stdout",
     "output_type": "stream",
     "text": [
      "Checkpoint 42824: Stability = 0.026002227171492205\n"
     ]
    },
    {
     "name": "stderr",
     "output_type": "stream",
     "text": [
      "Device set to use cuda:0\n",
      "\n",
      "\u001b[AToken indices sequence length is longer than the specified maximum sequence length for this model (670 > 512). Running this sequence through the model will result in indexing errors\n",
      "<timed exec>:29: FutureWarning: A value is trying to be set on a copy of a DataFrame or Series through chained assignment using an inplace method.\n",
      "The behavior will change in pandas 3.0. This inplace method will never work because the intermediate object on which we are setting values always behaves as a copy.\n",
      "\n",
      "For example, when doing 'df[col].method(value, inplace=True)', try using 'df.method({col: value}, inplace=True)' or df[col] = df[col].method(value) instead, to perform the operation inplace on the original object.\n",
      "\n",
      "\n",
      "<timed exec>:29: FutureWarning: Downcasting behavior in `replace` is deprecated and will be removed in a future version. To retain the old behavior, explicitly call `result.infer_objects(copy=False)`. To opt-in to the future behavior, set `pd.set_option('future.no_silent_downcasting', True)`\n",
      "\n",
      "\u001b[Assifying columns in training_base/checkpoint-53530:  25%|█████▌                | 1/4 [00:11<00:33, 11.14s/it]\n",
      "\u001b[Assifying columns in training_base/checkpoint-53530:  50%|███████████           | 2/4 [00:22<00:22, 11.17s/it]\n",
      "\u001b[Assifying columns in training_base/checkpoint-53530:  75%|████████████████▌     | 3/4 [00:33<00:11, 11.22s/it]\n",
      "Classifying columns in training_base/checkpoint-53530: 100%|██████████████████████| 4/4 [00:44<00:00, 11.23s/it]\n",
      "Processing models:  50%|████████████████████████████▌                            | 5/10 [03:48<03:48, 45.71s/it]"
     ]
    },
    {
     "name": "stdout",
     "output_type": "stream",
     "text": [
      "Checkpoint 53530: Stability = 0.037379361544172235\n"
     ]
    },
    {
     "name": "stderr",
     "output_type": "stream",
     "text": [
      "Device set to use cuda:0\n",
      "\n",
      "\u001b[AToken indices sequence length is longer than the specified maximum sequence length for this model (670 > 512). Running this sequence through the model will result in indexing errors\n",
      "<timed exec>:29: FutureWarning: A value is trying to be set on a copy of a DataFrame or Series through chained assignment using an inplace method.\n",
      "The behavior will change in pandas 3.0. This inplace method will never work because the intermediate object on which we are setting values always behaves as a copy.\n",
      "\n",
      "For example, when doing 'df[col].method(value, inplace=True)', try using 'df.method({col: value}, inplace=True)' or df[col] = df[col].method(value) instead, to perform the operation inplace on the original object.\n",
      "\n",
      "\n",
      "<timed exec>:29: FutureWarning: Downcasting behavior in `replace` is deprecated and will be removed in a future version. To retain the old behavior, explicitly call `result.infer_objects(copy=False)`. To opt-in to the future behavior, set `pd.set_option('future.no_silent_downcasting', True)`\n",
      "\n",
      "\u001b[Assifying columns in training_base/checkpoint-64236:  25%|█████▌                | 1/4 [00:11<00:33, 11.15s/it]\n",
      "\u001b[Assifying columns in training_base/checkpoint-64236:  50%|███████████           | 2/4 [00:22<00:22, 11.15s/it]\n",
      "\u001b[Assifying columns in training_base/checkpoint-64236:  75%|████████████████▌     | 3/4 [00:33<00:11, 11.23s/it]\n",
      "Classifying columns in training_base/checkpoint-64236: 100%|██████████████████████| 4/4 [00:44<00:00, 11.25s/it]\n",
      "Processing models:  60%|██████████████████████████████████▏                      | 6/10 [04:34<03:02, 45.73s/it]"
     ]
    },
    {
     "name": "stdout",
     "output_type": "stream",
     "text": [
      "Checkpoint 64236: Stability = 0.04832962138084632\n"
     ]
    },
    {
     "name": "stderr",
     "output_type": "stream",
     "text": [
      "Device set to use cuda:0\n",
      "\n",
      "\u001b[AToken indices sequence length is longer than the specified maximum sequence length for this model (670 > 512). Running this sequence through the model will result in indexing errors\n",
      "<timed exec>:29: FutureWarning: A value is trying to be set on a copy of a DataFrame or Series through chained assignment using an inplace method.\n",
      "The behavior will change in pandas 3.0. This inplace method will never work because the intermediate object on which we are setting values always behaves as a copy.\n",
      "\n",
      "For example, when doing 'df[col].method(value, inplace=True)', try using 'df.method({col: value}, inplace=True)' or df[col] = df[col].method(value) instead, to perform the operation inplace on the original object.\n",
      "\n",
      "\n",
      "<timed exec>:29: FutureWarning: Downcasting behavior in `replace` is deprecated and will be removed in a future version. To retain the old behavior, explicitly call `result.infer_objects(copy=False)`. To opt-in to the future behavior, set `pd.set_option('future.no_silent_downcasting', True)`\n",
      "\n",
      "\u001b[Assifying columns in training_base/checkpoint-74942:  25%|█████▌                | 1/4 [00:11<00:33, 11.18s/it]\n",
      "\u001b[Assifying columns in training_base/checkpoint-74942:  50%|███████████           | 2/4 [00:22<00:22, 11.17s/it]\n",
      "\u001b[Assifying columns in training_base/checkpoint-74942:  75%|████████████████▌     | 3/4 [00:33<00:11, 11.24s/it]\n",
      "Classifying columns in training_base/checkpoint-74942: 100%|██████████████████████| 4/4 [00:45<00:00, 11.26s/it]\n",
      "Processing models:  70%|███████████████████████████████████████▉                 | 7/10 [05:20<02:17, 45.75s/it]"
     ]
    },
    {
     "name": "stdout",
     "output_type": "stream",
     "text": [
      "Checkpoint 74942: Stability = 0.04901633259094284\n"
     ]
    },
    {
     "name": "stderr",
     "output_type": "stream",
     "text": [
      "Device set to use cuda:0\n",
      "\n",
      "\u001b[AToken indices sequence length is longer than the specified maximum sequence length for this model (670 > 512). Running this sequence through the model will result in indexing errors\n",
      "<timed exec>:29: FutureWarning: A value is trying to be set on a copy of a DataFrame or Series through chained assignment using an inplace method.\n",
      "The behavior will change in pandas 3.0. This inplace method will never work because the intermediate object on which we are setting values always behaves as a copy.\n",
      "\n",
      "For example, when doing 'df[col].method(value, inplace=True)', try using 'df.method({col: value}, inplace=True)' or df[col] = df[col].method(value) instead, to perform the operation inplace on the original object.\n",
      "\n",
      "\n",
      "<timed exec>:29: FutureWarning: Downcasting behavior in `replace` is deprecated and will be removed in a future version. To retain the old behavior, explicitly call `result.infer_objects(copy=False)`. To opt-in to the future behavior, set `pd.set_option('future.no_silent_downcasting', True)`\n",
      "\n",
      "\u001b[Assifying columns in training_base/checkpoint-85648:  25%|█████▌                | 1/4 [00:11<00:33, 11.16s/it]\n",
      "\u001b[Assifying columns in training_base/checkpoint-85648:  50%|███████████           | 2/4 [00:22<00:22, 11.18s/it]\n",
      "\u001b[Assifying columns in training_base/checkpoint-85648:  75%|████████████████▌     | 3/4 [00:33<00:11, 11.24s/it]\n",
      "Classifying columns in training_base/checkpoint-85648: 100%|██████████████████████| 4/4 [00:45<00:00, 11.26s/it]\n",
      "Processing models:  80%|█████████████████████████████████████████████▌           | 8/10 [06:06<01:31, 45.77s/it]"
     ]
    },
    {
     "name": "stdout",
     "output_type": "stream",
     "text": [
      "Checkpoint 85648: Stability = 0.045805493689680774\n"
     ]
    },
    {
     "name": "stderr",
     "output_type": "stream",
     "text": [
      "Device set to use cuda:0\n",
      "\n",
      "\u001b[AToken indices sequence length is longer than the specified maximum sequence length for this model (670 > 512). Running this sequence through the model will result in indexing errors\n",
      "<timed exec>:29: FutureWarning: A value is trying to be set on a copy of a DataFrame or Series through chained assignment using an inplace method.\n",
      "The behavior will change in pandas 3.0. This inplace method will never work because the intermediate object on which we are setting values always behaves as a copy.\n",
      "\n",
      "For example, when doing 'df[col].method(value, inplace=True)', try using 'df.method({col: value}, inplace=True)' or df[col] = df[col].method(value) instead, to perform the operation inplace on the original object.\n",
      "\n",
      "\n",
      "<timed exec>:29: FutureWarning: Downcasting behavior in `replace` is deprecated and will be removed in a future version. To retain the old behavior, explicitly call `result.infer_objects(copy=False)`. To opt-in to the future behavior, set `pd.set_option('future.no_silent_downcasting', True)`\n",
      "\n",
      "\u001b[Assifying columns in training_base/checkpoint-96354:  25%|█████▌                | 1/4 [00:11<00:33, 11.19s/it]\n",
      "\u001b[Assifying columns in training_base/checkpoint-96354:  50%|███████████           | 2/4 [00:22<00:22, 11.18s/it]\n",
      "\u001b[Assifying columns in training_base/checkpoint-96354:  75%|████████████████▌     | 3/4 [00:33<00:11, 11.23s/it]\n",
      "Classifying columns in training_base/checkpoint-96354: 100%|██████████████████████| 4/4 [00:44<00:00, 11.25s/it]\n",
      "Processing models:  90%|███████████████████████████████████████████████████▎     | 9/10 [06:51<00:45, 45.77s/it]"
     ]
    },
    {
     "name": "stdout",
     "output_type": "stream",
     "text": [
      "Checkpoint 96354: Stability = 0.03693392724573125\n"
     ]
    },
    {
     "name": "stderr",
     "output_type": "stream",
     "text": [
      "Device set to use cuda:0\n",
      "\n",
      "\u001b[AToken indices sequence length is longer than the specified maximum sequence length for this model (670 > 512). Running this sequence through the model will result in indexing errors\n",
      "<timed exec>:29: FutureWarning: A value is trying to be set on a copy of a DataFrame or Series through chained assignment using an inplace method.\n",
      "The behavior will change in pandas 3.0. This inplace method will never work because the intermediate object on which we are setting values always behaves as a copy.\n",
      "\n",
      "For example, when doing 'df[col].method(value, inplace=True)', try using 'df.method({col: value}, inplace=True)' or df[col] = df[col].method(value) instead, to perform the operation inplace on the original object.\n",
      "\n",
      "\n",
      "<timed exec>:29: FutureWarning: Downcasting behavior in `replace` is deprecated and will be removed in a future version. To retain the old behavior, explicitly call `result.infer_objects(copy=False)`. To opt-in to the future behavior, set `pd.set_option('future.no_silent_downcasting', True)`\n",
      "\n",
      "\u001b[Assifying columns in training_base/checkpoint-107060:  25%|█████▎               | 1/4 [00:11<00:33, 11.18s/it]\n",
      "\u001b[Assifying columns in training_base/checkpoint-107060:  50%|██████████▌          | 2/4 [00:22<00:22, 11.18s/it]\n",
      "\u001b[Assifying columns in training_base/checkpoint-107060:  75%|███████████████▊     | 3/4 [00:33<00:11, 11.24s/it]\n",
      "Classifying columns in training_base/checkpoint-107060: 100%|█████████████████████| 4/4 [00:45<00:00, 11.26s/it]\n",
      "Processing models: 100%|████████████████████████████████████████████████████████| 10/10 [07:37<00:00, 45.76s/it]"
     ]
    },
    {
     "name": "stdout",
     "output_type": "stream",
     "text": [
      "Checkpoint 107060: Stability = 0.03533778767631774\n",
      "CPU times: user 7min 42s, sys: 7.99 s, total: 7min 50s\n",
      "Wall time: 7min 37s\n"
     ]
    },
    {
     "name": "stderr",
     "output_type": "stream",
     "text": [
      "\n"
     ]
    }
   ],
   "source": [
    "%%time\n",
    "# Path to the folder containing model checkpoints\n",
    "model_folder = \"training_base\"\n",
    "\n",
    "# Get a sorted list of checkpoint folders\n",
    "checkpoints = sorted(\n",
    "    [\n",
    "        os.path.join(model_folder, d) for d in os.listdir(model_folder)\n",
    "        if os.path.isdir(os.path.join(model_folder, d)) and re.match(r'checkpoint-\\d+', d)\n",
    "    ],\n",
    "    key=lambda x: int(re.search(r'checkpoint-(\\d+)', x).group(1))\n",
    ")\n",
    "\n",
    "# Prepare to store stability results\n",
    "stability_results = []\n",
    "\n",
    "# Iterate over each checkpoint\n",
    "for model_path in tqdm(checkpoints, desc=\"Processing models\"):\n",
    "    # Load the pipeline for the current checkpoint\n",
    "    #pipe = pipeline(\"zero-shot-classification\", model=model_path, device='cuda', batch_size=64, torch_dtype = torch.bfloat16)\n",
    "    pipe = pipeline('text-classification', model = model_path, batch_size = 64, torch_dtype = torch.bfloat16)\n",
    "\n",
    "    colnames = ['hypothesis', 'alt1', 'alt2', 'alt3']\n",
    "    for col in tqdm(colnames, desc=f'Classifying columns in {model_path}'):\n",
    "        colname = col + '_label'\n",
    "        dicts = [{'text':test.loc[i, 'premise'], 'text_pair':test.loc[i, col]} for i in test.index]\n",
    "        res = pipe(dicts)\n",
    "        res = [result['label'] for result in res]\n",
    "        test[colname] = res\n",
    "        test[colname].replace({'entailment': 0, 'not_entailment': 1}, inplace=True)\n",
    "\n",
    "    stability = hypothesis_stability(test[['hypothesis_label', 'alt1_label', 'alt2_label', 'alt3_label']])\n",
    "    checkpoint_number = int(re.search(r'checkpoint-(\\d+)', model_path).group(1))\n",
    "    stability_results.append((checkpoint_number, stability))\n",
    "    # Print the result for the current model\n",
    "    print(f\"Checkpoint {checkpoint_number}: Stability = {stability}\")\n",
    "    # Convert results to a DataFrame\n",
    "    stability_df = pd.DataFrame(stability_results, columns=[\"Checkpoint\", \"Stability\"])\n",
    "    # Sort by checkpoint for plotting\n",
    "    stability_df.sort_values(\"Checkpoint\", inplace=True)"
   ]
  },
  {
   "cell_type": "code",
   "execution_count": 10,
   "metadata": {},
   "outputs": [
    {
     "data": {
      "image/png": "[encoded data removed]",
      "text/plain": [
       "<Figure size 1000x600 with 1 Axes>"
      ]
     },
     "metadata": {},
     "output_type": "display_data"
    }
   ],
   "source": [
    "# Plot the results\n",
    "plt.figure(figsize=(10, 6))\n",
    "plt.plot(stability_df[\"Checkpoint\"], stability_df[\"Stability\"], marker=\"o\")\n",
    "plt.title(\"Stability of Labels Across Checkpoints\", fontsize=14)\n",
    "plt.xlabel(\"Checkpoint\", fontsize=12)\n",
    "plt.ylabel(\"Stability Metric\", fontsize=12)\n",
    "plt.grid(True)\n",
    "plt.show()"
   ]
  },
  {
   "cell_type": "code",
   "execution_count": 3,
   "metadata": {},
   "outputs": [],
   "source": [
    "from typing import Union, List, Tuple\n",
    "\n",
    "def calculate_model_stability(model_input, test_data, device='cuda', batch_size=64):\n",
    "    \"\"\"\n",
    "    Calculate stability metrics for transformer models.\n",
    "    \n",
    "    Args:\n",
    "        model_input: Either a path to folder containing checkpoints or a model name/path\n",
    "        test_data: DataFrame containing 'premise', 'hypothesis', 'alt1', 'alt2', 'alt3', 'alt4' columns\n",
    "        device: Device to run inference on ('cuda' or 'cpu')\n",
    "        batch_size: Batch size for inference\n",
    "    \n",
    "    Returns:\n",
    "        For single model: float representing stability score\n",
    "        For checkpoint directory: DataFrame containing checkpoint numbers and stability scores\n",
    "    \"\"\"\n",
    "    # Validate input data\n",
    "    required_columns = ['premise', 'hypothesis', 'alt1', 'alt2', 'alt3']\n",
    "    missing_columns = [col for col in required_columns if col not in test_data.columns]\n",
    "    if missing_columns:\n",
    "        raise ValueError(f\"Missing required columns in test_data: {missing_columns}\")\n",
    "    \n",
    "    def process_single_model(model_path, checkpoint_num=None):\n",
    "        \"\"\"Process a single model and return its stability metric\"\"\"\n",
    "        pipe = pipeline(\"zero-shot-classification\", \n",
    "                       model=model_path, \n",
    "                       device=device, \n",
    "                       batch_size=batch_size)\n",
    "        \n",
    "        # Create a copy of test data\n",
    "        test = test_data.copy()\n",
    "        \n",
    "        # Process each column\n",
    "        colnames = ['hypothesis', 'alt1', 'alt2', 'alt3']\n",
    "        for col in tqdm(colnames, desc=f'Classifying columns in {model_path}'):\n",
    "            colname = col + '_label'\n",
    "            test[colname] = 0\n",
    "            \n",
    "            for i in test.index:\n",
    "                hypothesis = test.loc[i, col]\n",
    "                sample = test.loc[i, 'premise']\n",
    "                res = pipe(sample, hypothesis, hypothesis_template='{}', multi_label=False)\n",
    "                test.loc[i, colname] = round(res['scores'][0])\n",
    "            \n",
    "            test[colname].replace({0: 1, 1: 0}, inplace=True)\n",
    "            test[colname] = test[colname].astype(int)\n",
    "        \n",
    "        # Calculate stability\n",
    "        alt_columns = ['alt1_label', 'alt2_label', 'alt3_label']\n",
    "        total_differences = sum((test[col] != test['hypothesis_label']).sum() \n",
    "                              for col in alt_columns)\n",
    "        stability = total_differences / (len(test) * 4)\n",
    "        \n",
    "        return checkpoint_num, stability\n",
    "    \n",
    "    # Handle different input types\n",
    "    if isinstance(model_input, str):\n",
    "        if os.path.isdir(model_input):\n",
    "            # Process folder of checkpoints\n",
    "            checkpoints = sorted(\n",
    "                [os.path.join(model_input, d) for d in os.listdir(model_input)\n",
    "                 if os.path.isdir(os.path.join(model_input, d)) \n",
    "                 and re.match(r'checkpoint-\\d+', d)],\n",
    "                key=lambda x: int(re.search(r'checkpoint-(\\d+)', x).group(1))\n",
    "            )\n",
    "            \n",
    "            if not checkpoints:\n",
    "                raise ValueError(f\"No checkpoint folders found in {model_input}\")\n",
    "            \n",
    "            stability_results = []\n",
    "            for model_path in tqdm(checkpoints, desc=\"Processing models\"):\n",
    "                checkpoint_num = int(re.search(r'checkpoint-(\\d+)', model_path).group(1))\n",
    "                checkpoint_num, stability = process_single_model(model_path, checkpoint_num)\n",
    "                stability_results.append((checkpoint_num, stability))\n",
    "                print(f\"Checkpoint {checkpoint_num}: Stability = {stability}\")\n",
    "            \n",
    "            # Return DataFrame for multiple checkpoints\n",
    "            stability_df = pd.DataFrame(stability_results, columns=[\"Checkpoint\", \"Stability\"])\n",
    "            stability_df.sort_values(\"Checkpoint\", inplace=True)\n",
    "            return stability_df\n",
    "        \n",
    "        else:\n",
    "            # Process single model and return just the stability score\n",
    "            _, stability = process_single_model(model_input)\n",
    "            print(f\"Model stability = {stability}\")\n",
    "            return stability"
   ]
  },
  {
   "cell_type": "code",
   "execution_count": 15,
   "metadata": {
    "scrolled": true
   },
   "outputs": [
    {
     "name": "stderr",
     "output_type": "stream",
     "text": [
      "Device set to use cuda%|                                                                 | 0/10 [00:00<?, ?it/s]\n",
      "\n",
      "\u001b[AAsking to truncate to max_length but no maximum length is provided and the model has no predefined maximum length. Default to no truncation.\n",
      "/tmp/ipykernel_7668/2325835054.py:37: FutureWarning: A value is trying to be set on a copy of a DataFrame or Series through chained assignment using an inplace method.\n",
      "The behavior will change in pandas 3.0. This inplace method will never work because the intermediate object on which we are setting values always behaves as a copy.\n",
      "\n",
      "For example, when doing 'df[col].method(value, inplace=True)', try using 'df.method({col: value}, inplace=True)' or df[col] = df[col].method(value) instead, to perform the operation inplace on the original object.\n",
      "\n",
      "\n",
      "  test[colname].replace({0: 1, 1: 0}, inplace=True)\n",
      "\n",
      "\u001b[A/tmp/ipykernel_7668/2325835054.py:37: FutureWarning: A value is trying to be set on a copy of a DataFrame or Series through chained assignment using an inplace method.\n",
      "The behavior will change in pandas 3.0. This inplace method will never work because the intermediate object on which we are setting values always behaves as a copy.\n",
      "\n",
      "For example, when doing 'df[col].method(value, inplace=True)', try using 'df.method({col: value}, inplace=True)' or df[col] = df[col].method(value) instead, to perform the operation inplace on the original object.\n",
      "\n",
      "\n",
      "  test[colname].replace({0: 1, 1: 0}, inplace=True)\n",
      "\n",
      "\u001b[A/tmp/ipykernel_7668/2325835054.py:37: FutureWarning: A value is trying to be set on a copy of a DataFrame or Series through chained assignment using an inplace method.\n",
      "The behavior will change in pandas 3.0. This inplace method will never work because the intermediate object on which we are setting values always behaves as a copy.\n",
      "\n",
      "For example, when doing 'df[col].method(value, inplace=True)', try using 'df.method({col: value}, inplace=True)' or df[col] = df[col].method(value) instead, to perform the operation inplace on the original object.\n",
      "\n",
      "\n",
      "  test[colname].replace({0: 1, 1: 0}, inplace=True)\n",
      "\n",
      "\u001b[A/tmp/ipykernel_7668/2325835054.py:37: FutureWarning: A value is trying to be set on a copy of a DataFrame or Series through chained assignment using an inplace method.\n",
      "The behavior will change in pandas 3.0. This inplace method will never work because the intermediate object on which we are setting values always behaves as a copy.\n",
      "\n",
      "For example, when doing 'df[col].method(value, inplace=True)', try using 'df.method({col: value}, inplace=True)' or df[col] = df[col].method(value) instead, to perform the operation inplace on the original object.\n",
      "\n",
      "\n",
      "  test[colname].replace({0: 1, 1: 0}, inplace=True)\n",
      "\n",
      "\u001b[A/tmp/ipykernel_7668/2325835054.py:37: FutureWarning: A value is trying to be set on a copy of a DataFrame or Series through chained assignment using an inplace method.\n",
      "The behavior will change in pandas 3.0. This inplace method will never work because the intermediate object on which we are setting values always behaves as a copy.\n",
      "\n",
      "For example, when doing 'df[col].method(value, inplace=True)', try using 'df.method({col: value}, inplace=True)' or df[col] = df[col].method(value) instead, to perform the operation inplace on the original object.\n",
      "\n",
      "\n",
      "  test[colname].replace({0: 1, 1: 0}, inplace=True)\n",
      "\n",
      "Classifying columns in training_Modern_tasksource2/checkpoint-10706: 100%|████████| 5/5 [05:20<00:00, 64.03s/it]\n",
      "Device set to use cuda%|█████▌                                                  | 1/10 [05:20<48:06, 320.72s/it]\n"
     ]
    },
    {
     "name": "stdout",
     "output_type": "stream",
     "text": [
      "Checkpoint 10706: Stability = 0.06366926503340757\n"
     ]
    },
    {
     "name": "stderr",
     "output_type": "stream",
     "text": [
      "\n",
      "\u001b[AAsking to truncate to max_length but no maximum length is provided and the model has no predefined maximum length. Default to no truncation.\n",
      "/tmp/ipykernel_7668/2325835054.py:37: FutureWarning: A value is trying to be set on a copy of a DataFrame or Series through chained assignment using an inplace method.\n",
      "The behavior will change in pandas 3.0. This inplace method will never work because the intermediate object on which we are setting values always behaves as a copy.\n",
      "\n",
      "For example, when doing 'df[col].method(value, inplace=True)', try using 'df.method({col: value}, inplace=True)' or df[col] = df[col].method(value) instead, to perform the operation inplace on the original object.\n",
      "\n",
      "\n",
      "  test[colname].replace({0: 1, 1: 0}, inplace=True)\n",
      "\n",
      "\u001b[A/tmp/ipykernel_7668/2325835054.py:37: FutureWarning: A value is trying to be set on a copy of a DataFrame or Series through chained assignment using an inplace method.\n",
      "The behavior will change in pandas 3.0. This inplace method will never work because the intermediate object on which we are setting values always behaves as a copy.\n",
      "\n",
      "For example, when doing 'df[col].method(value, inplace=True)', try using 'df.method({col: value}, inplace=True)' or df[col] = df[col].method(value) instead, to perform the operation inplace on the original object.\n",
      "\n",
      "\n",
      "  test[colname].replace({0: 1, 1: 0}, inplace=True)\n",
      "\n",
      "\u001b[A/tmp/ipykernel_7668/2325835054.py:37: FutureWarning: A value is trying to be set on a copy of a DataFrame or Series through chained assignment using an inplace method.\n",
      "The behavior will change in pandas 3.0. This inplace method will never work because the intermediate object on which we are setting values always behaves as a copy.\n",
      "\n",
      "For example, when doing 'df[col].method(value, inplace=True)', try using 'df.method({col: value}, inplace=True)' or df[col] = df[col].method(value) instead, to perform the operation inplace on the original object.\n",
      "\n",
      "\n",
      "  test[colname].replace({0: 1, 1: 0}, inplace=True)\n",
      "\n",
      "\u001b[A/tmp/ipykernel_7668/2325835054.py:37: FutureWarning: A value is trying to be set on a copy of a DataFrame or Series through chained assignment using an inplace method.\n",
      "The behavior will change in pandas 3.0. This inplace method will never work because the intermediate object on which we are setting values always behaves as a copy.\n",
      "\n",
      "For example, when doing 'df[col].method(value, inplace=True)', try using 'df.method({col: value}, inplace=True)' or df[col] = df[col].method(value) instead, to perform the operation inplace on the original object.\n",
      "\n",
      "\n",
      "  test[colname].replace({0: 1, 1: 0}, inplace=True)\n",
      "\n",
      "\u001b[A/tmp/ipykernel_7668/2325835054.py:37: FutureWarning: A value is trying to be set on a copy of a DataFrame or Series through chained assignment using an inplace method.\n",
      "The behavior will change in pandas 3.0. This inplace method will never work because the intermediate object on which we are setting values always behaves as a copy.\n",
      "\n",
      "For example, when doing 'df[col].method(value, inplace=True)', try using 'df.method({col: value}, inplace=True)' or df[col] = df[col].method(value) instead, to perform the operation inplace on the original object.\n",
      "\n",
      "\n",
      "  test[colname].replace({0: 1, 1: 0}, inplace=True)\n",
      "\n",
      "Classifying columns in training_Modern_tasksource2/checkpoint-21412: 100%|████████| 5/5 [05:14<00:00, 62.91s/it]\n",
      "Device set to use cuda%|███████████▏                                            | 2/10 [10:35<42:18, 317.36s/it]\n"
     ]
    },
    {
     "name": "stdout",
     "output_type": "stream",
     "text": [
      "Checkpoint 21412: Stability = 0.0388641425389755\n"
     ]
    },
    {
     "name": "stderr",
     "output_type": "stream",
     "text": [
      "\n",
      "\u001b[AAsking to truncate to max_length but no maximum length is provided and the model has no predefined maximum length. Default to no truncation.\n",
      "/tmp/ipykernel_7668/2325835054.py:37: FutureWarning: A value is trying to be set on a copy of a DataFrame or Series through chained assignment using an inplace method.\n",
      "The behavior will change in pandas 3.0. This inplace method will never work because the intermediate object on which we are setting values always behaves as a copy.\n",
      "\n",
      "For example, when doing 'df[col].method(value, inplace=True)', try using 'df.method({col: value}, inplace=True)' or df[col] = df[col].method(value) instead, to perform the operation inplace on the original object.\n",
      "\n",
      "\n",
      "  test[colname].replace({0: 1, 1: 0}, inplace=True)\n",
      "\n",
      "\u001b[A/tmp/ipykernel_7668/2325835054.py:37: FutureWarning: A value is trying to be set on a copy of a DataFrame or Series through chained assignment using an inplace method.\n",
      "The behavior will change in pandas 3.0. This inplace method will never work because the intermediate object on which we are setting values always behaves as a copy.\n",
      "\n",
      "For example, when doing 'df[col].method(value, inplace=True)', try using 'df.method({col: value}, inplace=True)' or df[col] = df[col].method(value) instead, to perform the operation inplace on the original object.\n",
      "\n",
      "\n",
      "  test[colname].replace({0: 1, 1: 0}, inplace=True)\n",
      "\n",
      "\u001b[A/tmp/ipykernel_7668/2325835054.py:37: FutureWarning: A value is trying to be set on a copy of a DataFrame or Series through chained assignment using an inplace method.\n",
      "The behavior will change in pandas 3.0. This inplace method will never work because the intermediate object on which we are setting values always behaves as a copy.\n",
      "\n",
      "For example, when doing 'df[col].method(value, inplace=True)', try using 'df.method({col: value}, inplace=True)' or df[col] = df[col].method(value) instead, to perform the operation inplace on the original object.\n",
      "\n",
      "\n",
      "  test[colname].replace({0: 1, 1: 0}, inplace=True)\n",
      "\n",
      "\u001b[A/tmp/ipykernel_7668/2325835054.py:37: FutureWarning: A value is trying to be set on a copy of a DataFrame or Series through chained assignment using an inplace method.\n",
      "The behavior will change in pandas 3.0. This inplace method will never work because the intermediate object on which we are setting values always behaves as a copy.\n",
      "\n",
      "For example, when doing 'df[col].method(value, inplace=True)', try using 'df.method({col: value}, inplace=True)' or df[col] = df[col].method(value) instead, to perform the operation inplace on the original object.\n",
      "\n",
      "\n",
      "  test[colname].replace({0: 1, 1: 0}, inplace=True)\n",
      "\n",
      "\u001b[A/tmp/ipykernel_7668/2325835054.py:37: FutureWarning: A value is trying to be set on a copy of a DataFrame or Series through chained assignment using an inplace method.\n",
      "The behavior will change in pandas 3.0. This inplace method will never work because the intermediate object on which we are setting values always behaves as a copy.\n",
      "\n",
      "For example, when doing 'df[col].method(value, inplace=True)', try using 'df.method({col: value}, inplace=True)' or df[col] = df[col].method(value) instead, to perform the operation inplace on the original object.\n",
      "\n",
      "\n",
      "  test[colname].replace({0: 1, 1: 0}, inplace=True)\n",
      "\n",
      "Classifying columns in training_Modern_tasksource2/checkpoint-32118: 100%|████████| 5/5 [05:15<00:00, 63.11s/it]\n",
      "Device set to use cuda%|████████████████▊                                       | 3/10 [15:51<36:57, 316.74s/it]\n"
     ]
    },
    {
     "name": "stdout",
     "output_type": "stream",
     "text": [
      "Checkpoint 32118: Stability = 0.03772271714922049\n"
     ]
    },
    {
     "name": "stderr",
     "output_type": "stream",
     "text": [
      "\n",
      "\u001b[AAsking to truncate to max_length but no maximum length is provided and the model has no predefined maximum length. Default to no truncation.\n",
      "/tmp/ipykernel_7668/2325835054.py:37: FutureWarning: A value is trying to be set on a copy of a DataFrame or Series through chained assignment using an inplace method.\n",
      "The behavior will change in pandas 3.0. This inplace method will never work because the intermediate object on which we are setting values always behaves as a copy.\n",
      "\n",
      "For example, when doing 'df[col].method(value, inplace=True)', try using 'df.method({col: value}, inplace=True)' or df[col] = df[col].method(value) instead, to perform the operation inplace on the original object.\n",
      "\n",
      "\n",
      "  test[colname].replace({0: 1, 1: 0}, inplace=True)\n",
      "\n",
      "\u001b[A/tmp/ipykernel_7668/2325835054.py:37: FutureWarning: A value is trying to be set on a copy of a DataFrame or Series through chained assignment using an inplace method.\n",
      "The behavior will change in pandas 3.0. This inplace method will never work because the intermediate object on which we are setting values always behaves as a copy.\n",
      "\n",
      "For example, when doing 'df[col].method(value, inplace=True)', try using 'df.method({col: value}, inplace=True)' or df[col] = df[col].method(value) instead, to perform the operation inplace on the original object.\n",
      "\n",
      "\n",
      "  test[colname].replace({0: 1, 1: 0}, inplace=True)\n",
      "\n",
      "\u001b[A/tmp/ipykernel_7668/2325835054.py:37: FutureWarning: A value is trying to be set on a copy of a DataFrame or Series through chained assignment using an inplace method.\n",
      "The behavior will change in pandas 3.0. This inplace method will never work because the intermediate object on which we are setting values always behaves as a copy.\n",
      "\n",
      "For example, when doing 'df[col].method(value, inplace=True)', try using 'df.method({col: value}, inplace=True)' or df[col] = df[col].method(value) instead, to perform the operation inplace on the original object.\n",
      "\n",
      "\n",
      "  test[colname].replace({0: 1, 1: 0}, inplace=True)\n",
      "\n",
      "\u001b[A/tmp/ipykernel_7668/2325835054.py:37: FutureWarning: A value is trying to be set on a copy of a DataFrame or Series through chained assignment using an inplace method.\n",
      "The behavior will change in pandas 3.0. This inplace method will never work because the intermediate object on which we are setting values always behaves as a copy.\n",
      "\n",
      "For example, when doing 'df[col].method(value, inplace=True)', try using 'df.method({col: value}, inplace=True)' or df[col] = df[col].method(value) instead, to perform the operation inplace on the original object.\n",
      "\n",
      "\n",
      "  test[colname].replace({0: 1, 1: 0}, inplace=True)\n",
      "\n",
      "\u001b[A/tmp/ipykernel_7668/2325835054.py:37: FutureWarning: A value is trying to be set on a copy of a DataFrame or Series through chained assignment using an inplace method.\n",
      "The behavior will change in pandas 3.0. This inplace method will never work because the intermediate object on which we are setting values always behaves as a copy.\n",
      "\n",
      "For example, when doing 'df[col].method(value, inplace=True)', try using 'df.method({col: value}, inplace=True)' or df[col] = df[col].method(value) instead, to perform the operation inplace on the original object.\n",
      "\n",
      "\n",
      "  test[colname].replace({0: 1, 1: 0}, inplace=True)\n",
      "\n",
      "Classifying columns in training_Modern_tasksource2/checkpoint-42824: 100%|████████| 5/5 [05:24<00:00, 64.90s/it]\n",
      "Device set to use cuda%|██████████████████████▍                                 | 4/10 [21:16<31:59, 319.99s/it]\n"
     ]
    },
    {
     "name": "stdout",
     "output_type": "stream",
     "text": [
      "Checkpoint 42824: Stability = 0.03635857461024499\n"
     ]
    },
    {
     "name": "stderr",
     "output_type": "stream",
     "text": [
      "\n",
      "\u001b[AAsking to truncate to max_length but no maximum length is provided and the model has no predefined maximum length. Default to no truncation.\n",
      "/tmp/ipykernel_7668/2325835054.py:37: FutureWarning: A value is trying to be set on a copy of a DataFrame or Series through chained assignment using an inplace method.\n",
      "The behavior will change in pandas 3.0. This inplace method will never work because the intermediate object on which we are setting values always behaves as a copy.\n",
      "\n",
      "For example, when doing 'df[col].method(value, inplace=True)', try using 'df.method({col: value}, inplace=True)' or df[col] = df[col].method(value) instead, to perform the operation inplace on the original object.\n",
      "\n",
      "\n",
      "  test[colname].replace({0: 1, 1: 0}, inplace=True)\n",
      "\n",
      "\u001b[A/tmp/ipykernel_7668/2325835054.py:37: FutureWarning: A value is trying to be set on a copy of a DataFrame or Series through chained assignment using an inplace method.\n",
      "The behavior will change in pandas 3.0. This inplace method will never work because the intermediate object on which we are setting values always behaves as a copy.\n",
      "\n",
      "For example, when doing 'df[col].method(value, inplace=True)', try using 'df.method({col: value}, inplace=True)' or df[col] = df[col].method(value) instead, to perform the operation inplace on the original object.\n",
      "\n",
      "\n",
      "  test[colname].replace({0: 1, 1: 0}, inplace=True)\n",
      "\n",
      "\u001b[A/tmp/ipykernel_7668/2325835054.py:37: FutureWarning: A value is trying to be set on a copy of a DataFrame or Series through chained assignment using an inplace method.\n",
      "The behavior will change in pandas 3.0. This inplace method will never work because the intermediate object on which we are setting values always behaves as a copy.\n",
      "\n",
      "For example, when doing 'df[col].method(value, inplace=True)', try using 'df.method({col: value}, inplace=True)' or df[col] = df[col].method(value) instead, to perform the operation inplace on the original object.\n",
      "\n",
      "\n",
      "  test[colname].replace({0: 1, 1: 0}, inplace=True)\n",
      "\n",
      "\u001b[A/tmp/ipykernel_7668/2325835054.py:37: FutureWarning: A value is trying to be set on a copy of a DataFrame or Series through chained assignment using an inplace method.\n",
      "The behavior will change in pandas 3.0. This inplace method will never work because the intermediate object on which we are setting values always behaves as a copy.\n",
      "\n",
      "For example, when doing 'df[col].method(value, inplace=True)', try using 'df.method({col: value}, inplace=True)' or df[col] = df[col].method(value) instead, to perform the operation inplace on the original object.\n",
      "\n",
      "\n",
      "  test[colname].replace({0: 1, 1: 0}, inplace=True)\n",
      "\n",
      "\u001b[A/tmp/ipykernel_7668/2325835054.py:37: FutureWarning: A value is trying to be set on a copy of a DataFrame or Series through chained assignment using an inplace method.\n",
      "The behavior will change in pandas 3.0. This inplace method will never work because the intermediate object on which we are setting values always behaves as a copy.\n",
      "\n",
      "For example, when doing 'df[col].method(value, inplace=True)', try using 'df.method({col: value}, inplace=True)' or df[col] = df[col].method(value) instead, to perform the operation inplace on the original object.\n",
      "\n",
      "\n",
      "  test[colname].replace({0: 1, 1: 0}, inplace=True)\n",
      "\n",
      "Classifying columns in training_Modern_tasksource2/checkpoint-53530: 100%|████████| 5/5 [05:23<00:00, 64.68s/it]\n",
      "Device set to use cuda%|████████████████████████████                            | 5/10 [26:40<26:46, 321.39s/it]\n"
     ]
    },
    {
     "name": "stdout",
     "output_type": "stream",
     "text": [
      "Checkpoint 53530: Stability = 0.03917037861915367\n"
     ]
    },
    {
     "name": "stderr",
     "output_type": "stream",
     "text": [
      "\n",
      "\u001b[AAsking to truncate to max_length but no maximum length is provided and the model has no predefined maximum length. Default to no truncation.\n",
      "/tmp/ipykernel_7668/2325835054.py:37: FutureWarning: A value is trying to be set on a copy of a DataFrame or Series through chained assignment using an inplace method.\n",
      "The behavior will change in pandas 3.0. This inplace method will never work because the intermediate object on which we are setting values always behaves as a copy.\n",
      "\n",
      "For example, when doing 'df[col].method(value, inplace=True)', try using 'df.method({col: value}, inplace=True)' or df[col] = df[col].method(value) instead, to perform the operation inplace on the original object.\n",
      "\n",
      "\n",
      "  test[colname].replace({0: 1, 1: 0}, inplace=True)\n",
      "\n",
      "\u001b[A/tmp/ipykernel_7668/2325835054.py:37: FutureWarning: A value is trying to be set on a copy of a DataFrame or Series through chained assignment using an inplace method.\n",
      "The behavior will change in pandas 3.0. This inplace method will never work because the intermediate object on which we are setting values always behaves as a copy.\n",
      "\n",
      "For example, when doing 'df[col].method(value, inplace=True)', try using 'df.method({col: value}, inplace=True)' or df[col] = df[col].method(value) instead, to perform the operation inplace on the original object.\n",
      "\n",
      "\n",
      "  test[colname].replace({0: 1, 1: 0}, inplace=True)\n",
      "\n",
      "\u001b[A/tmp/ipykernel_7668/2325835054.py:37: FutureWarning: A value is trying to be set on a copy of a DataFrame or Series through chained assignment using an inplace method.\n",
      "The behavior will change in pandas 3.0. This inplace method will never work because the intermediate object on which we are setting values always behaves as a copy.\n",
      "\n",
      "For example, when doing 'df[col].method(value, inplace=True)', try using 'df.method({col: value}, inplace=True)' or df[col] = df[col].method(value) instead, to perform the operation inplace on the original object.\n",
      "\n",
      "\n",
      "  test[colname].replace({0: 1, 1: 0}, inplace=True)\n",
      "\n",
      "\u001b[A/tmp/ipykernel_7668/2325835054.py:37: FutureWarning: A value is trying to be set on a copy of a DataFrame or Series through chained assignment using an inplace method.\n",
      "The behavior will change in pandas 3.0. This inplace method will never work because the intermediate object on which we are setting values always behaves as a copy.\n",
      "\n",
      "For example, when doing 'df[col].method(value, inplace=True)', try using 'df.method({col: value}, inplace=True)' or df[col] = df[col].method(value) instead, to perform the operation inplace on the original object.\n",
      "\n",
      "\n",
      "  test[colname].replace({0: 1, 1: 0}, inplace=True)\n",
      "\n",
      "\u001b[A/tmp/ipykernel_7668/2325835054.py:37: FutureWarning: A value is trying to be set on a copy of a DataFrame or Series through chained assignment using an inplace method.\n",
      "The behavior will change in pandas 3.0. This inplace method will never work because the intermediate object on which we are setting values always behaves as a copy.\n",
      "\n",
      "For example, when doing 'df[col].method(value, inplace=True)', try using 'df.method({col: value}, inplace=True)' or df[col] = df[col].method(value) instead, to perform the operation inplace on the original object.\n",
      "\n",
      "\n",
      "  test[colname].replace({0: 1, 1: 0}, inplace=True)\n",
      "\n",
      "Classifying columns in training_Modern_tasksource2/checkpoint-64236: 100%|████████| 5/5 [05:21<00:00, 64.24s/it]\n",
      "Device set to use cuda%|█████████████████████████████████▌                      | 6/10 [32:02<21:25, 321.48s/it]\n"
     ]
    },
    {
     "name": "stdout",
     "output_type": "stream",
     "text": [
      "Checkpoint 64236: Stability = 0.03744432071269488\n"
     ]
    },
    {
     "name": "stderr",
     "output_type": "stream",
     "text": [
      "\n",
      "\u001b[AAsking to truncate to max_length but no maximum length is provided and the model has no predefined maximum length. Default to no truncation.\n",
      "/tmp/ipykernel_7668/2325835054.py:37: FutureWarning: A value is trying to be set on a copy of a DataFrame or Series through chained assignment using an inplace method.\n",
      "The behavior will change in pandas 3.0. This inplace method will never work because the intermediate object on which we are setting values always behaves as a copy.\n",
      "\n",
      "For example, when doing 'df[col].method(value, inplace=True)', try using 'df.method({col: value}, inplace=True)' or df[col] = df[col].method(value) instead, to perform the operation inplace on the original object.\n",
      "\n",
      "\n",
      "  test[colname].replace({0: 1, 1: 0}, inplace=True)\n",
      "\n",
      "\u001b[A/tmp/ipykernel_7668/2325835054.py:37: FutureWarning: A value is trying to be set on a copy of a DataFrame or Series through chained assignment using an inplace method.\n",
      "The behavior will change in pandas 3.0. This inplace method will never work because the intermediate object on which we are setting values always behaves as a copy.\n",
      "\n",
      "For example, when doing 'df[col].method(value, inplace=True)', try using 'df.method({col: value}, inplace=True)' or df[col] = df[col].method(value) instead, to perform the operation inplace on the original object.\n",
      "\n",
      "\n",
      "  test[colname].replace({0: 1, 1: 0}, inplace=True)\n",
      "\n",
      "\u001b[A/tmp/ipykernel_7668/2325835054.py:37: FutureWarning: A value is trying to be set on a copy of a DataFrame or Series through chained assignment using an inplace method.\n",
      "The behavior will change in pandas 3.0. This inplace method will never work because the intermediate object on which we are setting values always behaves as a copy.\n",
      "\n",
      "For example, when doing 'df[col].method(value, inplace=True)', try using 'df.method({col: value}, inplace=True)' or df[col] = df[col].method(value) instead, to perform the operation inplace on the original object.\n",
      "\n",
      "\n",
      "  test[colname].replace({0: 1, 1: 0}, inplace=True)\n",
      "\n",
      "\u001b[A/tmp/ipykernel_7668/2325835054.py:37: FutureWarning: A value is trying to be set on a copy of a DataFrame or Series through chained assignment using an inplace method.\n",
      "The behavior will change in pandas 3.0. This inplace method will never work because the intermediate object on which we are setting values always behaves as a copy.\n",
      "\n",
      "For example, when doing 'df[col].method(value, inplace=True)', try using 'df.method({col: value}, inplace=True)' or df[col] = df[col].method(value) instead, to perform the operation inplace on the original object.\n",
      "\n",
      "\n",
      "  test[colname].replace({0: 1, 1: 0}, inplace=True)\n",
      "\n",
      "\u001b[A/tmp/ipykernel_7668/2325835054.py:37: FutureWarning: A value is trying to be set on a copy of a DataFrame or Series through chained assignment using an inplace method.\n",
      "The behavior will change in pandas 3.0. This inplace method will never work because the intermediate object on which we are setting values always behaves as a copy.\n",
      "\n",
      "For example, when doing 'df[col].method(value, inplace=True)', try using 'df.method({col: value}, inplace=True)' or df[col] = df[col].method(value) instead, to perform the operation inplace on the original object.\n",
      "\n",
      "\n",
      "  test[colname].replace({0: 1, 1: 0}, inplace=True)\n",
      "\n",
      "Classifying columns in training_Modern_tasksource2/checkpoint-74942: 100%|████████| 5/5 [05:22<00:00, 64.55s/it]\n",
      "Device set to use cuda%|███████████████████████████████████████▏                | 7/10 [37:25<16:06, 322.05s/it]\n"
     ]
    },
    {
     "name": "stdout",
     "output_type": "stream",
     "text": [
      "Checkpoint 74942: Stability = 0.03599665924276169\n"
     ]
    },
    {
     "name": "stderr",
     "output_type": "stream",
     "text": [
      "\n",
      "\u001b[AAsking to truncate to max_length but no maximum length is provided and the model has no predefined maximum length. Default to no truncation.\n",
      "/tmp/ipykernel_7668/2325835054.py:37: FutureWarning: A value is trying to be set on a copy of a DataFrame or Series through chained assignment using an inplace method.\n",
      "The behavior will change in pandas 3.0. This inplace method will never work because the intermediate object on which we are setting values always behaves as a copy.\n",
      "\n",
      "For example, when doing 'df[col].method(value, inplace=True)', try using 'df.method({col: value}, inplace=True)' or df[col] = df[col].method(value) instead, to perform the operation inplace on the original object.\n",
      "\n",
      "\n",
      "  test[colname].replace({0: 1, 1: 0}, inplace=True)\n",
      "\n",
      "\u001b[A/tmp/ipykernel_7668/2325835054.py:37: FutureWarning: A value is trying to be set on a copy of a DataFrame or Series through chained assignment using an inplace method.\n",
      "The behavior will change in pandas 3.0. This inplace method will never work because the intermediate object on which we are setting values always behaves as a copy.\n",
      "\n",
      "For example, when doing 'df[col].method(value, inplace=True)', try using 'df.method({col: value}, inplace=True)' or df[col] = df[col].method(value) instead, to perform the operation inplace on the original object.\n",
      "\n",
      "\n",
      "  test[colname].replace({0: 1, 1: 0}, inplace=True)\n",
      "\n",
      "\u001b[A/tmp/ipykernel_7668/2325835054.py:37: FutureWarning: A value is trying to be set on a copy of a DataFrame or Series through chained assignment using an inplace method.\n",
      "The behavior will change in pandas 3.0. This inplace method will never work because the intermediate object on which we are setting values always behaves as a copy.\n",
      "\n",
      "For example, when doing 'df[col].method(value, inplace=True)', try using 'df.method({col: value}, inplace=True)' or df[col] = df[col].method(value) instead, to perform the operation inplace on the original object.\n",
      "\n",
      "\n",
      "  test[colname].replace({0: 1, 1: 0}, inplace=True)\n",
      "\n",
      "\u001b[A/tmp/ipykernel_7668/2325835054.py:37: FutureWarning: A value is trying to be set on a copy of a DataFrame or Series through chained assignment using an inplace method.\n",
      "The behavior will change in pandas 3.0. This inplace method will never work because the intermediate object on which we are setting values always behaves as a copy.\n",
      "\n",
      "For example, when doing 'df[col].method(value, inplace=True)', try using 'df.method({col: value}, inplace=True)' or df[col] = df[col].method(value) instead, to perform the operation inplace on the original object.\n",
      "\n",
      "\n",
      "  test[colname].replace({0: 1, 1: 0}, inplace=True)\n",
      "\n",
      "\u001b[A/tmp/ipykernel_7668/2325835054.py:37: FutureWarning: A value is trying to be set on a copy of a DataFrame or Series through chained assignment using an inplace method.\n",
      "The behavior will change in pandas 3.0. This inplace method will never work because the intermediate object on which we are setting values always behaves as a copy.\n",
      "\n",
      "For example, when doing 'df[col].method(value, inplace=True)', try using 'df.method({col: value}, inplace=True)' or df[col] = df[col].method(value) instead, to perform the operation inplace on the original object.\n",
      "\n",
      "\n",
      "  test[colname].replace({0: 1, 1: 0}, inplace=True)\n",
      "\n",
      "Classifying columns in training_Modern_tasksource2/checkpoint-85648: 100%|████████| 5/5 [05:15<00:00, 63.14s/it]\n",
      "Device set to use cuda%|████████████████████████████████████████████▊           | 8/10 [42:41<10:40, 320.17s/it]\n"
     ]
    },
    {
     "name": "stdout",
     "output_type": "stream",
     "text": [
      "Checkpoint 85648: Stability = 0.03878062360801782\n"
     ]
    },
    {
     "name": "stderr",
     "output_type": "stream",
     "text": [
      "\n",
      "\u001b[AAsking to truncate to max_length but no maximum length is provided and the model has no predefined maximum length. Default to no truncation.\n",
      "/tmp/ipykernel_7668/2325835054.py:37: FutureWarning: A value is trying to be set on a copy of a DataFrame or Series through chained assignment using an inplace method.\n",
      "The behavior will change in pandas 3.0. This inplace method will never work because the intermediate object on which we are setting values always behaves as a copy.\n",
      "\n",
      "For example, when doing 'df[col].method(value, inplace=True)', try using 'df.method({col: value}, inplace=True)' or df[col] = df[col].method(value) instead, to perform the operation inplace on the original object.\n",
      "\n",
      "\n",
      "  test[colname].replace({0: 1, 1: 0}, inplace=True)\n",
      "\n",
      "\u001b[A/tmp/ipykernel_7668/2325835054.py:37: FutureWarning: A value is trying to be set on a copy of a DataFrame or Series through chained assignment using an inplace method.\n",
      "The behavior will change in pandas 3.0. This inplace method will never work because the intermediate object on which we are setting values always behaves as a copy.\n",
      "\n",
      "For example, when doing 'df[col].method(value, inplace=True)', try using 'df.method({col: value}, inplace=True)' or df[col] = df[col].method(value) instead, to perform the operation inplace on the original object.\n",
      "\n",
      "\n",
      "  test[colname].replace({0: 1, 1: 0}, inplace=True)\n",
      "\n",
      "\u001b[A/tmp/ipykernel_7668/2325835054.py:37: FutureWarning: A value is trying to be set on a copy of a DataFrame or Series through chained assignment using an inplace method.\n",
      "The behavior will change in pandas 3.0. This inplace method will never work because the intermediate object on which we are setting values always behaves as a copy.\n",
      "\n",
      "For example, when doing 'df[col].method(value, inplace=True)', try using 'df.method({col: value}, inplace=True)' or df[col] = df[col].method(value) instead, to perform the operation inplace on the original object.\n",
      "\n",
      "\n",
      "  test[colname].replace({0: 1, 1: 0}, inplace=True)\n",
      "\n",
      "\u001b[A/tmp/ipykernel_7668/2325835054.py:37: FutureWarning: A value is trying to be set on a copy of a DataFrame or Series through chained assignment using an inplace method.\n",
      "The behavior will change in pandas 3.0. This inplace method will never work because the intermediate object on which we are setting values always behaves as a copy.\n",
      "\n",
      "For example, when doing 'df[col].method(value, inplace=True)', try using 'df.method({col: value}, inplace=True)' or df[col] = df[col].method(value) instead, to perform the operation inplace on the original object.\n",
      "\n",
      "\n",
      "  test[colname].replace({0: 1, 1: 0}, inplace=True)\n",
      "\n",
      "\u001b[A/tmp/ipykernel_7668/2325835054.py:37: FutureWarning: A value is trying to be set on a copy of a DataFrame or Series through chained assignment using an inplace method.\n",
      "The behavior will change in pandas 3.0. This inplace method will never work because the intermediate object on which we are setting values always behaves as a copy.\n",
      "\n",
      "For example, when doing 'df[col].method(value, inplace=True)', try using 'df.method({col: value}, inplace=True)' or df[col] = df[col].method(value) instead, to perform the operation inplace on the original object.\n",
      "\n",
      "\n",
      "  test[colname].replace({0: 1, 1: 0}, inplace=True)\n",
      "\n",
      "Classifying columns in training_Modern_tasksource2/checkpoint-96354: 100%|████████| 5/5 [05:21<00:00, 64.29s/it]\n",
      "Device set to use cuda%|██████████████████████████████████████████████████▍     | 9/10 [48:03<05:20, 320.71s/it]\n"
     ]
    },
    {
     "name": "stdout",
     "output_type": "stream",
     "text": [
      "Checkpoint 96354: Stability = 0.036442093541202675\n"
     ]
    },
    {
     "name": "stderr",
     "output_type": "stream",
     "text": [
      "\n",
      "\u001b[AAsking to truncate to max_length but no maximum length is provided and the model has no predefined maximum length. Default to no truncation.\n",
      "/tmp/ipykernel_7668/2325835054.py:37: FutureWarning: A value is trying to be set on a copy of a DataFrame or Series through chained assignment using an inplace method.\n",
      "The behavior will change in pandas 3.0. This inplace method will never work because the intermediate object on which we are setting values always behaves as a copy.\n",
      "\n",
      "For example, when doing 'df[col].method(value, inplace=True)', try using 'df.method({col: value}, inplace=True)' or df[col] = df[col].method(value) instead, to perform the operation inplace on the original object.\n",
      "\n",
      "\n",
      "  test[colname].replace({0: 1, 1: 0}, inplace=True)\n",
      "\n",
      "\u001b[A/tmp/ipykernel_7668/2325835054.py:37: FutureWarning: A value is trying to be set on a copy of a DataFrame or Series through chained assignment using an inplace method.\n",
      "The behavior will change in pandas 3.0. This inplace method will never work because the intermediate object on which we are setting values always behaves as a copy.\n",
      "\n",
      "For example, when doing 'df[col].method(value, inplace=True)', try using 'df.method({col: value}, inplace=True)' or df[col] = df[col].method(value) instead, to perform the operation inplace on the original object.\n",
      "\n",
      "\n",
      "  test[colname].replace({0: 1, 1: 0}, inplace=True)\n",
      "\n",
      "\u001b[A/tmp/ipykernel_7668/2325835054.py:37: FutureWarning: A value is trying to be set on a copy of a DataFrame or Series through chained assignment using an inplace method.\n",
      "The behavior will change in pandas 3.0. This inplace method will never work because the intermediate object on which we are setting values always behaves as a copy.\n",
      "\n",
      "For example, when doing 'df[col].method(value, inplace=True)', try using 'df.method({col: value}, inplace=True)' or df[col] = df[col].method(value) instead, to perform the operation inplace on the original object.\n",
      "\n",
      "\n",
      "  test[colname].replace({0: 1, 1: 0}, inplace=True)\n",
      "\n",
      "\u001b[A/tmp/ipykernel_7668/2325835054.py:37: FutureWarning: A value is trying to be set on a copy of a DataFrame or Series through chained assignment using an inplace method.\n",
      "The behavior will change in pandas 3.0. This inplace method will never work because the intermediate object on which we are setting values always behaves as a copy.\n",
      "\n",
      "For example, when doing 'df[col].method(value, inplace=True)', try using 'df.method({col: value}, inplace=True)' or df[col] = df[col].method(value) instead, to perform the operation inplace on the original object.\n",
      "\n",
      "\n",
      "  test[colname].replace({0: 1, 1: 0}, inplace=True)\n",
      "\n",
      "\u001b[A/tmp/ipykernel_7668/2325835054.py:37: FutureWarning: A value is trying to be set on a copy of a DataFrame or Series through chained assignment using an inplace method.\n",
      "The behavior will change in pandas 3.0. This inplace method will never work because the intermediate object on which we are setting values always behaves as a copy.\n",
      "\n",
      "For example, when doing 'df[col].method(value, inplace=True)', try using 'df.method({col: value}, inplace=True)' or df[col] = df[col].method(value) instead, to perform the operation inplace on the original object.\n",
      "\n",
      "\n",
      "  test[colname].replace({0: 1, 1: 0}, inplace=True)\n",
      "\n",
      "Classifying columns in training_Modern_tasksource2/checkpoint-107060: 100%|███████| 5/5 [05:21<00:00, 64.32s/it]\n",
      "Processing models: 100%|███████████████████████████████████████████████████████| 10/10 [53:25<00:00, 320.56s/it]"
     ]
    },
    {
     "name": "stdout",
     "output_type": "stream",
     "text": [
      "Checkpoint 107060: Stability = 0.038084632516703784\n"
     ]
    },
    {
     "name": "stderr",
     "output_type": "stream",
     "text": [
      "\n"
     ]
    },
    {
     "data": {
      "image/png": "[encoded data removed]",
      "text/plain": [
       "<Figure size 1000x600 with 1 Axes>"
      ]
     },
     "metadata": {},
     "output_type": "display_data"
    }
   ],
   "source": [
    "import os\n",
    "import re\n",
    "import matplotlib.pyplot as plt\n",
    "from transformers import pipeline\n",
    "from tqdm import tqdm\n",
    "import pandas as pd\n",
    "\n",
    "# Path to the folder containing model checkpoints\n",
    "model_folder = \"training_Modern_tasksource2\"\n",
    "\n",
    "# Get a sorted list of checkpoint folders\n",
    "checkpoints = sorted(\n",
    "    [\n",
    "        os.path.join(model_folder, d) for d in os.listdir(model_folder)\n",
    "        if os.path.isdir(os.path.join(model_folder, d)) and re.match(r'checkpoint-\\d+', d)\n",
    "    ],\n",
    "    key=lambda x: int(re.search(r'checkpoint-(\\d+)', x).group(1))\n",
    ")\n",
    "\n",
    "# Prepare to store stability results\n",
    "stability_results = []\n",
    "\n",
    "# Iterate over each checkpoint\n",
    "for model_path in tqdm(checkpoints, desc=\"Processing models\"):\n",
    "    # Load the pipeline for the current checkpoint\n",
    "    pipe = pipeline(\"zero-shot-classification\", model=model_path, device='cuda', batch_size=64)\n",
    "\n",
    "    colnames = ['hypothesis', 'alt1', 'alt2', 'alt3']\n",
    "    for col in tqdm(colnames, desc=f'Classifying columns in {model_path}'):\n",
    "        colname = col + '_label'\n",
    "        test[colname] = 0\n",
    "        for i in test.index:\n",
    "            hypothesis = test.loc[i, col]\n",
    "            sample = test.loc[i, 'premise']\n",
    "            res = pipe(sample, hypothesis, hypothesis_template='{}', multi_label=False)\n",
    "            test.loc[i, colname] = round(res['scores'][0])\n",
    "        test[colname].replace({0: 1, 1: 0}, inplace=True)\n",
    "        test[colname] = test[colname].astype(int)\n",
    "\n",
    "    # Calculate the total number of differences\n",
    "    alt_columns = ['alt1_label', 'alt2_label', 'alt3_label']\n",
    "    total_differences = 0\n",
    "\n",
    "    for col in alt_columns:\n",
    "        total_differences += (test[col] != test['hypothesis_label']).sum()\n",
    "\n",
    "    # Calculate stability metric\n",
    "    stability = total_differences / (len(test) * 4)\n",
    "\n",
    "    # Extract checkpoint number and store results\n",
    "    checkpoint_number = int(re.search(r'checkpoint-(\\d+)', model_path).group(1))\n",
    "    stability_results.append((checkpoint_number, stability))\n",
    "\n",
    "    # Print the result for the current model\n",
    "    print(f\"Checkpoint {checkpoint_number}: Stability = {stability}\")\n",
    "\n",
    "# Convert results to a DataFrame\n",
    "stability_df = pd.DataFrame(stability_results, columns=[\"Checkpoint\", \"Stability\"])\n",
    "\n",
    "# Sort by checkpoint for plotting\n",
    "stability_df.sort_values(\"Checkpoint\", inplace=True)\n",
    "\n",
    "# Plot the results\n",
    "plt.figure(figsize=(10, 6))\n",
    "plt.plot(stability_df[\"Checkpoint\"], stability_df[\"Stability\"], marker=\"o\")\n",
    "plt.title(\"Stability of Labels Across Checkpoints\", fontsize=14)\n",
    "plt.xlabel(\"Checkpoint\", fontsize=12)\n",
    "plt.ylabel(\"Stability Metric\", fontsize=12)\n",
    "plt.grid(True)\n",
    "plt.show()"
   ]
  },
  {
   "cell_type": "markdown",
   "metadata": {},
   "source": [
    "# DEBATE 1.1"
   ]
  },
  {
   "cell_type": "code",
   "execution_count": 13,
   "metadata": {},
   "outputs": [
    {
     "name": "stderr",
     "output_type": "stream",
     "text": [
      "You are attempting to use Flash Attention 2.0 with a model not initialized on GPU. Make sure to move the model to GPU after initializing it on CPU with `model.to('cuda')`.\n",
      "Device set to use cuda\n",
      "\n",
      "\u001b[AYou seem to be using the pipelines sequentially on GPU. In order to maximize efficiency please use a dataset]\n",
      "/tmp/ipykernel_8992/3146739129.py:30: FutureWarning: A value is trying to be set on a copy of a DataFrame or Series through chained assignment using an inplace method.\n",
      "The behavior will change in pandas 3.0. This inplace method will never work because the intermediate object on which we are setting values always behaves as a copy.\n",
      "\n",
      "For example, when doing 'df[col].method(value, inplace=True)', try using 'df.method({col: value}, inplace=True)' or df[col] = df[col].method(value) instead, to perform the operation inplace on the original object.\n",
      "\n",
      "\n",
      "  test[colname].replace({0: 1, 1: 0}, inplace=True)\n",
      "\n",
      "\u001b[A/tmp/ipykernel_8992/3146739129.py:30: FutureWarning: A value is trying to be set on a copy of a DataFrame or Series through chained assignment using an inplace method.\n",
      "The behavior will change in pandas 3.0. This inplace method will never work because the intermediate object on which we are setting values always behaves as a copy.\n",
      "\n",
      "For example, when doing 'df[col].method(value, inplace=True)', try using 'df.method({col: value}, inplace=True)' or df[col] = df[col].method(value) instead, to perform the operation inplace on the original object.\n",
      "\n",
      "\n",
      "  test[colname].replace({0: 1, 1: 0}, inplace=True)\n",
      "\n",
      "\u001b[A/tmp/ipykernel_8992/3146739129.py:30: FutureWarning: A value is trying to be set on a copy of a DataFrame or Series through chained assignment using an inplace method.\n",
      "The behavior will change in pandas 3.0. This inplace method will never work because the intermediate object on which we are setting values always behaves as a copy.\n",
      "\n",
      "For example, when doing 'df[col].method(value, inplace=True)', try using 'df.method({col: value}, inplace=True)' or df[col] = df[col].method(value) instead, to perform the operation inplace on the original object.\n",
      "\n",
      "\n",
      "  test[colname].replace({0: 1, 1: 0}, inplace=True)\n",
      "\n",
      "\u001b[A/tmp/ipykernel_8992/3146739129.py:30: FutureWarning: A value is trying to be set on a copy of a DataFrame or Series through chained assignment using an inplace method.\n",
      "The behavior will change in pandas 3.0. This inplace method will never work because the intermediate object on which we are setting values always behaves as a copy.\n",
      "\n",
      "For example, when doing 'df[col].method(value, inplace=True)', try using 'df.method({col: value}, inplace=True)' or df[col] = df[col].method(value) instead, to perform the operation inplace on the original object.\n",
      "\n",
      "\n",
      "  test[colname].replace({0: 1, 1: 0}, inplace=True)\n",
      "\n",
      "\u001b[A/tmp/ipykernel_8992/3146739129.py:30: FutureWarning: A value is trying to be set on a copy of a DataFrame or Series through chained assignment using an inplace method.\n",
      "The behavior will change in pandas 3.0. This inplace method will never work because the intermediate object on which we are setting values always behaves as a copy.\n",
      "\n",
      "For example, when doing 'df[col].method(value, inplace=True)', try using 'df.method({col: value}, inplace=True)' or df[col] = df[col].method(value) instead, to perform the operation inplace on the original object.\n",
      "\n",
      "\n",
      "  test[colname].replace({0: 1, 1: 0}, inplace=True)\n",
      "\n",
      "Classifying columns in training_ModernBase/checkpoint-10706: 100%|████████████████| 5/5 [04:54<00:00, 58.83s/it]\n",
      "Processing models:  10%|█████▌                                                  | 1/10 [04:55<44:18, 295.41s/it]"
     ]
    },
    {
     "name": "stdout",
     "output_type": "stream",
     "text": [
      "Checkpoint 10706: Stability = 0.05155902004454343\n"
     ]
    },
    {
     "name": "stderr",
     "output_type": "stream",
     "text": [
      "Device set to use cuda\n",
      "\n",
      "\u001b[A/tmp/ipykernel_8992/3146739129.py:30: FutureWarning: A value is trying to be set on a copy of a DataFrame or Series through chained assignment using an inplace method.\n",
      "The behavior will change in pandas 3.0. This inplace method will never work because the intermediate object on which we are setting values always behaves as a copy.\n",
      "\n",
      "For example, when doing 'df[col].method(value, inplace=True)', try using 'df.method({col: value}, inplace=True)' or df[col] = df[col].method(value) instead, to perform the operation inplace on the original object.\n",
      "\n",
      "\n",
      "  test[colname].replace({0: 1, 1: 0}, inplace=True)\n",
      "\n",
      "\u001b[A/tmp/ipykernel_8992/3146739129.py:30: FutureWarning: A value is trying to be set on a copy of a DataFrame or Series through chained assignment using an inplace method.\n",
      "The behavior will change in pandas 3.0. This inplace method will never work because the intermediate object on which we are setting values always behaves as a copy.\n",
      "\n",
      "For example, when doing 'df[col].method(value, inplace=True)', try using 'df.method({col: value}, inplace=True)' or df[col] = df[col].method(value) instead, to perform the operation inplace on the original object.\n",
      "\n",
      "\n",
      "  test[colname].replace({0: 1, 1: 0}, inplace=True)\n",
      "\n",
      "\u001b[A/tmp/ipykernel_8992/3146739129.py:30: FutureWarning: A value is trying to be set on a copy of a DataFrame or Series through chained assignment using an inplace method.\n",
      "The behavior will change in pandas 3.0. This inplace method will never work because the intermediate object on which we are setting values always behaves as a copy.\n",
      "\n",
      "For example, when doing 'df[col].method(value, inplace=True)', try using 'df.method({col: value}, inplace=True)' or df[col] = df[col].method(value) instead, to perform the operation inplace on the original object.\n",
      "\n",
      "\n",
      "  test[colname].replace({0: 1, 1: 0}, inplace=True)\n",
      "\n",
      "\u001b[A/tmp/ipykernel_8992/3146739129.py:30: FutureWarning: A value is trying to be set on a copy of a DataFrame or Series through chained assignment using an inplace method.\n",
      "The behavior will change in pandas 3.0. This inplace method will never work because the intermediate object on which we are setting values always behaves as a copy.\n",
      "\n",
      "For example, when doing 'df[col].method(value, inplace=True)', try using 'df.method({col: value}, inplace=True)' or df[col] = df[col].method(value) instead, to perform the operation inplace on the original object.\n",
      "\n",
      "\n",
      "  test[colname].replace({0: 1, 1: 0}, inplace=True)\n",
      "\n",
      "\u001b[A/tmp/ipykernel_8992/3146739129.py:30: FutureWarning: A value is trying to be set on a copy of a DataFrame or Series through chained assignment using an inplace method.\n",
      "The behavior will change in pandas 3.0. This inplace method will never work because the intermediate object on which we are setting values always behaves as a copy.\n",
      "\n",
      "For example, when doing 'df[col].method(value, inplace=True)', try using 'df.method({col: value}, inplace=True)' or df[col] = df[col].method(value) instead, to perform the operation inplace on the original object.\n",
      "\n",
      "\n",
      "  test[colname].replace({0: 1, 1: 0}, inplace=True)\n",
      "\n",
      "Classifying columns in training_ModernBase/checkpoint-21412: 100%|████████████████| 5/5 [04:52<00:00, 58.55s/it]\n",
      "Processing models:  20%|███████████▏                                            | 2/10 [09:48<39:12, 294.08s/it]"
     ]
    },
    {
     "name": "stdout",
     "output_type": "stream",
     "text": [
      "Checkpoint 21412: Stability = 0.03535634743875279\n"
     ]
    },
    {
     "name": "stderr",
     "output_type": "stream",
     "text": [
      "Device set to use cuda\n",
      "\n",
      "\u001b[A/tmp/ipykernel_8992/3146739129.py:30: FutureWarning: A value is trying to be set on a copy of a DataFrame or Series through chained assignment using an inplace method.\n",
      "The behavior will change in pandas 3.0. This inplace method will never work because the intermediate object on which we are setting values always behaves as a copy.\n",
      "\n",
      "For example, when doing 'df[col].method(value, inplace=True)', try using 'df.method({col: value}, inplace=True)' or df[col] = df[col].method(value) instead, to perform the operation inplace on the original object.\n",
      "\n",
      "\n",
      "  test[colname].replace({0: 1, 1: 0}, inplace=True)\n",
      "\n",
      "\u001b[A/tmp/ipykernel_8992/3146739129.py:30: FutureWarning: A value is trying to be set on a copy of a DataFrame or Series through chained assignment using an inplace method.\n",
      "The behavior will change in pandas 3.0. This inplace method will never work because the intermediate object on which we are setting values always behaves as a copy.\n",
      "\n",
      "For example, when doing 'df[col].method(value, inplace=True)', try using 'df.method({col: value}, inplace=True)' or df[col] = df[col].method(value) instead, to perform the operation inplace on the original object.\n",
      "\n",
      "\n",
      "  test[colname].replace({0: 1, 1: 0}, inplace=True)\n",
      "\n",
      "\u001b[A/tmp/ipykernel_8992/3146739129.py:30: FutureWarning: A value is trying to be set on a copy of a DataFrame or Series through chained assignment using an inplace method.\n",
      "The behavior will change in pandas 3.0. This inplace method will never work because the intermediate object on which we are setting values always behaves as a copy.\n",
      "\n",
      "For example, when doing 'df[col].method(value, inplace=True)', try using 'df.method({col: value}, inplace=True)' or df[col] = df[col].method(value) instead, to perform the operation inplace on the original object.\n",
      "\n",
      "\n",
      "  test[colname].replace({0: 1, 1: 0}, inplace=True)\n",
      "\n",
      "\u001b[A/tmp/ipykernel_8992/3146739129.py:30: FutureWarning: A value is trying to be set on a copy of a DataFrame or Series through chained assignment using an inplace method.\n",
      "The behavior will change in pandas 3.0. This inplace method will never work because the intermediate object on which we are setting values always behaves as a copy.\n",
      "\n",
      "For example, when doing 'df[col].method(value, inplace=True)', try using 'df.method({col: value}, inplace=True)' or df[col] = df[col].method(value) instead, to perform the operation inplace on the original object.\n",
      "\n",
      "\n",
      "  test[colname].replace({0: 1, 1: 0}, inplace=True)\n",
      "\n",
      "\u001b[A/tmp/ipykernel_8992/3146739129.py:30: FutureWarning: A value is trying to be set on a copy of a DataFrame or Series through chained assignment using an inplace method.\n",
      "The behavior will change in pandas 3.0. This inplace method will never work because the intermediate object on which we are setting values always behaves as a copy.\n",
      "\n",
      "For example, when doing 'df[col].method(value, inplace=True)', try using 'df.method({col: value}, inplace=True)' or df[col] = df[col].method(value) instead, to perform the operation inplace on the original object.\n",
      "\n",
      "\n",
      "  test[colname].replace({0: 1, 1: 0}, inplace=True)\n",
      "\n",
      "Classifying columns in training_ModernBase/checkpoint-32118: 100%|████████████████| 5/5 [04:53<00:00, 58.72s/it]\n",
      "Processing models:  30%|████████████████▊                                       | 3/10 [14:42<34:18, 294.05s/it]"
     ]
    },
    {
     "name": "stdout",
     "output_type": "stream",
     "text": [
      "Checkpoint 32118: Stability = 0.04768930957683742\n"
     ]
    },
    {
     "name": "stderr",
     "output_type": "stream",
     "text": [
      "Device set to use cuda\n",
      "\n",
      "\u001b[A/tmp/ipykernel_8992/3146739129.py:30: FutureWarning: A value is trying to be set on a copy of a DataFrame or Series through chained assignment using an inplace method.\n",
      "The behavior will change in pandas 3.0. This inplace method will never work because the intermediate object on which we are setting values always behaves as a copy.\n",
      "\n",
      "For example, when doing 'df[col].method(value, inplace=True)', try using 'df.method({col: value}, inplace=True)' or df[col] = df[col].method(value) instead, to perform the operation inplace on the original object.\n",
      "\n",
      "\n",
      "  test[colname].replace({0: 1, 1: 0}, inplace=True)\n",
      "\n",
      "\u001b[A/tmp/ipykernel_8992/3146739129.py:30: FutureWarning: A value is trying to be set on a copy of a DataFrame or Series through chained assignment using an inplace method.\n",
      "The behavior will change in pandas 3.0. This inplace method will never work because the intermediate object on which we are setting values always behaves as a copy.\n",
      "\n",
      "For example, when doing 'df[col].method(value, inplace=True)', try using 'df.method({col: value}, inplace=True)' or df[col] = df[col].method(value) instead, to perform the operation inplace on the original object.\n",
      "\n",
      "\n",
      "  test[colname].replace({0: 1, 1: 0}, inplace=True)\n",
      "\n",
      "\u001b[A/tmp/ipykernel_8992/3146739129.py:30: FutureWarning: A value is trying to be set on a copy of a DataFrame or Series through chained assignment using an inplace method.\n",
      "The behavior will change in pandas 3.0. This inplace method will never work because the intermediate object on which we are setting values always behaves as a copy.\n",
      "\n",
      "For example, when doing 'df[col].method(value, inplace=True)', try using 'df.method({col: value}, inplace=True)' or df[col] = df[col].method(value) instead, to perform the operation inplace on the original object.\n",
      "\n",
      "\n",
      "  test[colname].replace({0: 1, 1: 0}, inplace=True)\n",
      "\n",
      "\u001b[A/tmp/ipykernel_8992/3146739129.py:30: FutureWarning: A value is trying to be set on a copy of a DataFrame or Series through chained assignment using an inplace method.\n",
      "The behavior will change in pandas 3.0. This inplace method will never work because the intermediate object on which we are setting values always behaves as a copy.\n",
      "\n",
      "For example, when doing 'df[col].method(value, inplace=True)', try using 'df.method({col: value}, inplace=True)' or df[col] = df[col].method(value) instead, to perform the operation inplace on the original object.\n",
      "\n",
      "\n",
      "  test[colname].replace({0: 1, 1: 0}, inplace=True)\n",
      "\n",
      "\u001b[A/tmp/ipykernel_8992/3146739129.py:30: FutureWarning: A value is trying to be set on a copy of a DataFrame or Series through chained assignment using an inplace method.\n",
      "The behavior will change in pandas 3.0. This inplace method will never work because the intermediate object on which we are setting values always behaves as a copy.\n",
      "\n",
      "For example, when doing 'df[col].method(value, inplace=True)', try using 'df.method({col: value}, inplace=True)' or df[col] = df[col].method(value) instead, to perform the operation inplace on the original object.\n",
      "\n",
      "\n",
      "  test[colname].replace({0: 1, 1: 0}, inplace=True)\n",
      "\n",
      "Classifying columns in training_ModernBase/checkpoint-42824: 100%|████████████████| 5/5 [04:53<00:00, 58.63s/it]\n",
      "Processing models:  40%|██████████████████████▍                                 | 4/10 [19:36<29:23, 293.93s/it]"
     ]
    },
    {
     "name": "stdout",
     "output_type": "stream",
     "text": [
      "Checkpoint 42824: Stability = 0.0446826280623608\n"
     ]
    },
    {
     "name": "stderr",
     "output_type": "stream",
     "text": [
      "Device set to use cuda\n",
      "\n",
      "\u001b[A/tmp/ipykernel_8992/3146739129.py:30: FutureWarning: A value is trying to be set on a copy of a DataFrame or Series through chained assignment using an inplace method.\n",
      "The behavior will change in pandas 3.0. This inplace method will never work because the intermediate object on which we are setting values always behaves as a copy.\n",
      "\n",
      "For example, when doing 'df[col].method(value, inplace=True)', try using 'df.method({col: value}, inplace=True)' or df[col] = df[col].method(value) instead, to perform the operation inplace on the original object.\n",
      "\n",
      "\n",
      "  test[colname].replace({0: 1, 1: 0}, inplace=True)\n",
      "\n",
      "\u001b[A/tmp/ipykernel_8992/3146739129.py:30: FutureWarning: A value is trying to be set on a copy of a DataFrame or Series through chained assignment using an inplace method.\n",
      "The behavior will change in pandas 3.0. This inplace method will never work because the intermediate object on which we are setting values always behaves as a copy.\n",
      "\n",
      "For example, when doing 'df[col].method(value, inplace=True)', try using 'df.method({col: value}, inplace=True)' or df[col] = df[col].method(value) instead, to perform the operation inplace on the original object.\n",
      "\n",
      "\n",
      "  test[colname].replace({0: 1, 1: 0}, inplace=True)\n",
      "\n",
      "\u001b[A/tmp/ipykernel_8992/3146739129.py:30: FutureWarning: A value is trying to be set on a copy of a DataFrame or Series through chained assignment using an inplace method.\n",
      "The behavior will change in pandas 3.0. This inplace method will never work because the intermediate object on which we are setting values always behaves as a copy.\n",
      "\n",
      "For example, when doing 'df[col].method(value, inplace=True)', try using 'df.method({col: value}, inplace=True)' or df[col] = df[col].method(value) instead, to perform the operation inplace on the original object.\n",
      "\n",
      "\n",
      "  test[colname].replace({0: 1, 1: 0}, inplace=True)\n",
      "\n",
      "\u001b[A/tmp/ipykernel_8992/3146739129.py:30: FutureWarning: A value is trying to be set on a copy of a DataFrame or Series through chained assignment using an inplace method.\n",
      "The behavior will change in pandas 3.0. This inplace method will never work because the intermediate object on which we are setting values always behaves as a copy.\n",
      "\n",
      "For example, when doing 'df[col].method(value, inplace=True)', try using 'df.method({col: value}, inplace=True)' or df[col] = df[col].method(value) instead, to perform the operation inplace on the original object.\n",
      "\n",
      "\n",
      "  test[colname].replace({0: 1, 1: 0}, inplace=True)\n",
      "\n",
      "\u001b[A/tmp/ipykernel_8992/3146739129.py:30: FutureWarning: A value is trying to be set on a copy of a DataFrame or Series through chained assignment using an inplace method.\n",
      "The behavior will change in pandas 3.0. This inplace method will never work because the intermediate object on which we are setting values always behaves as a copy.\n",
      "\n",
      "For example, when doing 'df[col].method(value, inplace=True)', try using 'df.method({col: value}, inplace=True)' or df[col] = df[col].method(value) instead, to perform the operation inplace on the original object.\n",
      "\n",
      "\n",
      "  test[colname].replace({0: 1, 1: 0}, inplace=True)\n",
      "\n",
      "Classifying columns in training_ModernBase/checkpoint-53530: 100%|████████████████| 5/5 [04:53<00:00, 58.61s/it]\n",
      "Processing models:  50%|████████████████████████████                            | 5/10 [24:29<24:28, 293.76s/it]"
     ]
    },
    {
     "name": "stdout",
     "output_type": "stream",
     "text": [
      "Checkpoint 53530: Stability = 0.046575723830734966\n"
     ]
    },
    {
     "name": "stderr",
     "output_type": "stream",
     "text": [
      "Device set to use cuda\n",
      "\n",
      "\u001b[A/tmp/ipykernel_8992/3146739129.py:30: FutureWarning: A value is trying to be set on a copy of a DataFrame or Series through chained assignment using an inplace method.\n",
      "The behavior will change in pandas 3.0. This inplace method will never work because the intermediate object on which we are setting values always behaves as a copy.\n",
      "\n",
      "For example, when doing 'df[col].method(value, inplace=True)', try using 'df.method({col: value}, inplace=True)' or df[col] = df[col].method(value) instead, to perform the operation inplace on the original object.\n",
      "\n",
      "\n",
      "  test[colname].replace({0: 1, 1: 0}, inplace=True)\n",
      "\n",
      "\u001b[A/tmp/ipykernel_8992/3146739129.py:30: FutureWarning: A value is trying to be set on a copy of a DataFrame or Series through chained assignment using an inplace method.\n",
      "The behavior will change in pandas 3.0. This inplace method will never work because the intermediate object on which we are setting values always behaves as a copy.\n",
      "\n",
      "For example, when doing 'df[col].method(value, inplace=True)', try using 'df.method({col: value}, inplace=True)' or df[col] = df[col].method(value) instead, to perform the operation inplace on the original object.\n",
      "\n",
      "\n",
      "  test[colname].replace({0: 1, 1: 0}, inplace=True)\n",
      "\n",
      "\u001b[A/tmp/ipykernel_8992/3146739129.py:30: FutureWarning: A value is trying to be set on a copy of a DataFrame or Series through chained assignment using an inplace method.\n",
      "The behavior will change in pandas 3.0. This inplace method will never work because the intermediate object on which we are setting values always behaves as a copy.\n",
      "\n",
      "For example, when doing 'df[col].method(value, inplace=True)', try using 'df.method({col: value}, inplace=True)' or df[col] = df[col].method(value) instead, to perform the operation inplace on the original object.\n",
      "\n",
      "\n",
      "  test[colname].replace({0: 1, 1: 0}, inplace=True)\n",
      "\n",
      "\u001b[A/tmp/ipykernel_8992/3146739129.py:30: FutureWarning: A value is trying to be set on a copy of a DataFrame or Series through chained assignment using an inplace method.\n",
      "The behavior will change in pandas 3.0. This inplace method will never work because the intermediate object on which we are setting values always behaves as a copy.\n",
      "\n",
      "For example, when doing 'df[col].method(value, inplace=True)', try using 'df.method({col: value}, inplace=True)' or df[col] = df[col].method(value) instead, to perform the operation inplace on the original object.\n",
      "\n",
      "\n",
      "  test[colname].replace({0: 1, 1: 0}, inplace=True)\n",
      "\n",
      "\u001b[A/tmp/ipykernel_8992/3146739129.py:30: FutureWarning: A value is trying to be set on a copy of a DataFrame or Series through chained assignment using an inplace method.\n",
      "The behavior will change in pandas 3.0. This inplace method will never work because the intermediate object on which we are setting values always behaves as a copy.\n",
      "\n",
      "For example, when doing 'df[col].method(value, inplace=True)', try using 'df.method({col: value}, inplace=True)' or df[col] = df[col].method(value) instead, to perform the operation inplace on the original object.\n",
      "\n",
      "\n",
      "  test[colname].replace({0: 1, 1: 0}, inplace=True)\n",
      "\n",
      "Classifying columns in training_ModernBase/checkpoint-64236: 100%|████████████████| 5/5 [04:53<00:00, 58.62s/it]\n",
      "Processing models:  60%|█████████████████████████████████▌                      | 6/10 [29:23<19:34, 293.66s/it]"
     ]
    },
    {
     "name": "stdout",
     "output_type": "stream",
     "text": [
      "Checkpoint 64236: Stability = 0.045155902004454344\n"
     ]
    },
    {
     "name": "stderr",
     "output_type": "stream",
     "text": [
      "Device set to use cuda\n",
      "\n",
      "\u001b[A/tmp/ipykernel_8992/3146739129.py:30: FutureWarning: A value is trying to be set on a copy of a DataFrame or Series through chained assignment using an inplace method.\n",
      "The behavior will change in pandas 3.0. This inplace method will never work because the intermediate object on which we are setting values always behaves as a copy.\n",
      "\n",
      "For example, when doing 'df[col].method(value, inplace=True)', try using 'df.method({col: value}, inplace=True)' or df[col] = df[col].method(value) instead, to perform the operation inplace on the original object.\n",
      "\n",
      "\n",
      "  test[colname].replace({0: 1, 1: 0}, inplace=True)\n",
      "\n",
      "\u001b[A/tmp/ipykernel_8992/3146739129.py:30: FutureWarning: A value is trying to be set on a copy of a DataFrame or Series through chained assignment using an inplace method.\n",
      "The behavior will change in pandas 3.0. This inplace method will never work because the intermediate object on which we are setting values always behaves as a copy.\n",
      "\n",
      "For example, when doing 'df[col].method(value, inplace=True)', try using 'df.method({col: value}, inplace=True)' or df[col] = df[col].method(value) instead, to perform the operation inplace on the original object.\n",
      "\n",
      "\n",
      "  test[colname].replace({0: 1, 1: 0}, inplace=True)\n",
      "\n",
      "\u001b[A/tmp/ipykernel_8992/3146739129.py:30: FutureWarning: A value is trying to be set on a copy of a DataFrame or Series through chained assignment using an inplace method.\n",
      "The behavior will change in pandas 3.0. This inplace method will never work because the intermediate object on which we are setting values always behaves as a copy.\n",
      "\n",
      "For example, when doing 'df[col].method(value, inplace=True)', try using 'df.method({col: value}, inplace=True)' or df[col] = df[col].method(value) instead, to perform the operation inplace on the original object.\n",
      "\n",
      "\n",
      "  test[colname].replace({0: 1, 1: 0}, inplace=True)\n",
      "\n",
      "\u001b[A/tmp/ipykernel_8992/3146739129.py:30: FutureWarning: A value is trying to be set on a copy of a DataFrame or Series through chained assignment using an inplace method.\n",
      "The behavior will change in pandas 3.0. This inplace method will never work because the intermediate object on which we are setting values always behaves as a copy.\n",
      "\n",
      "For example, when doing 'df[col].method(value, inplace=True)', try using 'df.method({col: value}, inplace=True)' or df[col] = df[col].method(value) instead, to perform the operation inplace on the original object.\n",
      "\n",
      "\n",
      "  test[colname].replace({0: 1, 1: 0}, inplace=True)\n",
      "\n",
      "\u001b[A/tmp/ipykernel_8992/3146739129.py:30: FutureWarning: A value is trying to be set on a copy of a DataFrame or Series through chained assignment using an inplace method.\n",
      "The behavior will change in pandas 3.0. This inplace method will never work because the intermediate object on which we are setting values always behaves as a copy.\n",
      "\n",
      "For example, when doing 'df[col].method(value, inplace=True)', try using 'df.method({col: value}, inplace=True)' or df[col] = df[col].method(value) instead, to perform the operation inplace on the original object.\n",
      "\n",
      "\n",
      "  test[colname].replace({0: 1, 1: 0}, inplace=True)\n",
      "\n",
      "Classifying columns in training_ModernBase/checkpoint-74942: 100%|████████████████| 5/5 [04:54<00:00, 58.95s/it]\n",
      "Processing models:  70%|███████████████████████████████████████▏                | 7/10 [34:18<14:42, 294.15s/it]"
     ]
    },
    {
     "name": "stdout",
     "output_type": "stream",
     "text": [
      "Checkpoint 74942: Stability = 0.04665924276169265\n"
     ]
    },
    {
     "name": "stderr",
     "output_type": "stream",
     "text": [
      "Device set to use cuda\n",
      "\n",
      "\u001b[A/tmp/ipykernel_8992/3146739129.py:30: FutureWarning: A value is trying to be set on a copy of a DataFrame or Series through chained assignment using an inplace method.\n",
      "The behavior will change in pandas 3.0. This inplace method will never work because the intermediate object on which we are setting values always behaves as a copy.\n",
      "\n",
      "For example, when doing 'df[col].method(value, inplace=True)', try using 'df.method({col: value}, inplace=True)' or df[col] = df[col].method(value) instead, to perform the operation inplace on the original object.\n",
      "\n",
      "\n",
      "  test[colname].replace({0: 1, 1: 0}, inplace=True)\n",
      "\n",
      "\u001b[A/tmp/ipykernel_8992/3146739129.py:30: FutureWarning: A value is trying to be set on a copy of a DataFrame or Series through chained assignment using an inplace method.\n",
      "The behavior will change in pandas 3.0. This inplace method will never work because the intermediate object on which we are setting values always behaves as a copy.\n",
      "\n",
      "For example, when doing 'df[col].method(value, inplace=True)', try using 'df.method({col: value}, inplace=True)' or df[col] = df[col].method(value) instead, to perform the operation inplace on the original object.\n",
      "\n",
      "\n",
      "  test[colname].replace({0: 1, 1: 0}, inplace=True)\n",
      "\n",
      "\u001b[A/tmp/ipykernel_8992/3146739129.py:30: FutureWarning: A value is trying to be set on a copy of a DataFrame or Series through chained assignment using an inplace method.\n",
      "The behavior will change in pandas 3.0. This inplace method will never work because the intermediate object on which we are setting values always behaves as a copy.\n",
      "\n",
      "For example, when doing 'df[col].method(value, inplace=True)', try using 'df.method({col: value}, inplace=True)' or df[col] = df[col].method(value) instead, to perform the operation inplace on the original object.\n",
      "\n",
      "\n",
      "  test[colname].replace({0: 1, 1: 0}, inplace=True)\n",
      "\n",
      "\u001b[A/tmp/ipykernel_8992/3146739129.py:30: FutureWarning: A value is trying to be set on a copy of a DataFrame or Series through chained assignment using an inplace method.\n",
      "The behavior will change in pandas 3.0. This inplace method will never work because the intermediate object on which we are setting values always behaves as a copy.\n",
      "\n",
      "For example, when doing 'df[col].method(value, inplace=True)', try using 'df.method({col: value}, inplace=True)' or df[col] = df[col].method(value) instead, to perform the operation inplace on the original object.\n",
      "\n",
      "\n",
      "  test[colname].replace({0: 1, 1: 0}, inplace=True)\n",
      "\n",
      "\u001b[A/tmp/ipykernel_8992/3146739129.py:30: FutureWarning: A value is trying to be set on a copy of a DataFrame or Series through chained assignment using an inplace method.\n",
      "The behavior will change in pandas 3.0. This inplace method will never work because the intermediate object on which we are setting values always behaves as a copy.\n",
      "\n",
      "For example, when doing 'df[col].method(value, inplace=True)', try using 'df.method({col: value}, inplace=True)' or df[col] = df[col].method(value) instead, to perform the operation inplace on the original object.\n",
      "\n",
      "\n",
      "  test[colname].replace({0: 1, 1: 0}, inplace=True)\n",
      "\n",
      "Classifying columns in training_ModernBase/checkpoint-85648: 100%|████████████████| 5/5 [04:57<00:00, 59.42s/it]\n",
      "Processing models:  80%|████████████████████████████████████████████▊           | 8/10 [39:15<09:50, 295.22s/it]"
     ]
    },
    {
     "name": "stdout",
     "output_type": "stream",
     "text": [
      "Checkpoint 85648: Stability = 0.04665924276169265\n"
     ]
    },
    {
     "name": "stderr",
     "output_type": "stream",
     "text": [
      "Device set to use cuda\n",
      "\n",
      "\u001b[A/tmp/ipykernel_8992/3146739129.py:30: FutureWarning: A value is trying to be set on a copy of a DataFrame or Series through chained assignment using an inplace method.\n",
      "The behavior will change in pandas 3.0. This inplace method will never work because the intermediate object on which we are setting values always behaves as a copy.\n",
      "\n",
      "For example, when doing 'df[col].method(value, inplace=True)', try using 'df.method({col: value}, inplace=True)' or df[col] = df[col].method(value) instead, to perform the operation inplace on the original object.\n",
      "\n",
      "\n",
      "  test[colname].replace({0: 1, 1: 0}, inplace=True)\n",
      "\n",
      "\u001b[A/tmp/ipykernel_8992/3146739129.py:30: FutureWarning: A value is trying to be set on a copy of a DataFrame or Series through chained assignment using an inplace method.\n",
      "The behavior will change in pandas 3.0. This inplace method will never work because the intermediate object on which we are setting values always behaves as a copy.\n",
      "\n",
      "For example, when doing 'df[col].method(value, inplace=True)', try using 'df.method({col: value}, inplace=True)' or df[col] = df[col].method(value) instead, to perform the operation inplace on the original object.\n",
      "\n",
      "\n",
      "  test[colname].replace({0: 1, 1: 0}, inplace=True)\n",
      "\n",
      "\u001b[A/tmp/ipykernel_8992/3146739129.py:30: FutureWarning: A value is trying to be set on a copy of a DataFrame or Series through chained assignment using an inplace method.\n",
      "The behavior will change in pandas 3.0. This inplace method will never work because the intermediate object on which we are setting values always behaves as a copy.\n",
      "\n",
      "For example, when doing 'df[col].method(value, inplace=True)', try using 'df.method({col: value}, inplace=True)' or df[col] = df[col].method(value) instead, to perform the operation inplace on the original object.\n",
      "\n",
      "\n",
      "  test[colname].replace({0: 1, 1: 0}, inplace=True)\n",
      "\n",
      "\u001b[A/tmp/ipykernel_8992/3146739129.py:30: FutureWarning: A value is trying to be set on a copy of a DataFrame or Series through chained assignment using an inplace method.\n",
      "The behavior will change in pandas 3.0. This inplace method will never work because the intermediate object on which we are setting values always behaves as a copy.\n",
      "\n",
      "For example, when doing 'df[col].method(value, inplace=True)', try using 'df.method({col: value}, inplace=True)' or df[col] = df[col].method(value) instead, to perform the operation inplace on the original object.\n",
      "\n",
      "\n",
      "  test[colname].replace({0: 1, 1: 0}, inplace=True)\n",
      "\n",
      "\u001b[A/tmp/ipykernel_8992/3146739129.py:30: FutureWarning: A value is trying to be set on a copy of a DataFrame or Series through chained assignment using an inplace method.\n",
      "The behavior will change in pandas 3.0. This inplace method will never work because the intermediate object on which we are setting values always behaves as a copy.\n",
      "\n",
      "For example, when doing 'df[col].method(value, inplace=True)', try using 'df.method({col: value}, inplace=True)' or df[col] = df[col].method(value) instead, to perform the operation inplace on the original object.\n",
      "\n",
      "\n",
      "  test[colname].replace({0: 1, 1: 0}, inplace=True)\n",
      "\n",
      "Classifying columns in training_ModernBase/checkpoint-96354: 100%|████████████████| 5/5 [04:58<00:00, 59.80s/it]\n",
      "Processing models:  90%|██████████████████████████████████████████████████▍     | 9/10 [44:15<04:56, 296.54s/it]"
     ]
    },
    {
     "name": "stdout",
     "output_type": "stream",
     "text": [
      "Checkpoint 96354: Stability = 0.04821826280623608\n"
     ]
    },
    {
     "name": "stderr",
     "output_type": "stream",
     "text": [
      "Device set to use cuda\n",
      "\n",
      "Classifying columns in training_ModernBase/checkpoint-107060:   0%|                       | 0/5 [00:22<?, ?it/s]\n",
      "Processing models:  90%|██████████████████████████████████████████████████▍     | 9/10 [44:38<04:57, 297.60s/it]\n"
     ]
    },
    {
     "ename": "KeyboardInterrupt",
     "evalue": "",
     "output_type": "error",
     "traceback": [
      "\u001b[0;31m---------------------------------------------------------------------------\u001b[0m",
      "\u001b[0;31mKeyboardInterrupt\u001b[0m                         Traceback (most recent call last)",
      "Cell \u001b[0;32mIn[13], line 28\u001b[0m\n\u001b[1;32m     26\u001b[0m     hypothesis \u001b[38;5;241m=\u001b[39m test\u001b[38;5;241m.\u001b[39mloc[i, col]\n\u001b[1;32m     27\u001b[0m     sample \u001b[38;5;241m=\u001b[39m test\u001b[38;5;241m.\u001b[39mloc[i, \u001b[38;5;124m'\u001b[39m\u001b[38;5;124mpremise\u001b[39m\u001b[38;5;124m'\u001b[39m]\n\u001b[0;32m---> 28\u001b[0m     res \u001b[38;5;241m=\u001b[39m \u001b[43mpipe\u001b[49m\u001b[43m(\u001b[49m\u001b[43msample\u001b[49m\u001b[43m,\u001b[49m\u001b[43m \u001b[49m\u001b[43mhypothesis\u001b[49m\u001b[43m,\u001b[49m\u001b[43m \u001b[49m\u001b[43mhypothesis_template\u001b[49m\u001b[38;5;241;43m=\u001b[39;49m\u001b[38;5;124;43m'\u001b[39;49m\u001b[38;5;132;43;01m{}\u001b[39;49;00m\u001b[38;5;124;43m'\u001b[39;49m\u001b[43m,\u001b[49m\u001b[43m \u001b[49m\u001b[43mmulti_label\u001b[49m\u001b[38;5;241;43m=\u001b[39;49m\u001b[38;5;28;43;01mFalse\u001b[39;49;00m\u001b[43m)\u001b[49m\n\u001b[1;32m     29\u001b[0m     test\u001b[38;5;241m.\u001b[39mloc[i, colname] \u001b[38;5;241m=\u001b[39m \u001b[38;5;28mround\u001b[39m(res[\u001b[38;5;124m'\u001b[39m\u001b[38;5;124mscores\u001b[39m\u001b[38;5;124m'\u001b[39m][\u001b[38;5;241m0\u001b[39m])\n\u001b[1;32m     30\u001b[0m test[colname]\u001b[38;5;241m.\u001b[39mreplace({\u001b[38;5;241m0\u001b[39m: \u001b[38;5;241m1\u001b[39m, \u001b[38;5;241m1\u001b[39m: \u001b[38;5;241m0\u001b[39m}, inplace\u001b[38;5;241m=\u001b[39m\u001b[38;5;28;01mTrue\u001b[39;00m)\n",
      "File \u001b[0;32m~/miniforge3/envs/modern/lib/python3.12/site-packages/transformers/pipelines/zero_shot_classification.py:206\u001b[0m, in \u001b[0;36mZeroShotClassificationPipeline.__call__\u001b[0;34m(self, sequences, *args, **kwargs)\u001b[0m\n\u001b[1;32m    203\u001b[0m \u001b[38;5;28;01melse\u001b[39;00m:\n\u001b[1;32m    204\u001b[0m     \u001b[38;5;28;01mraise\u001b[39;00m \u001b[38;5;167;01mValueError\u001b[39;00m(\u001b[38;5;124mf\u001b[39m\u001b[38;5;124m\"\u001b[39m\u001b[38;5;124mUnable to understand extra arguments \u001b[39m\u001b[38;5;132;01m{\u001b[39;00margs\u001b[38;5;132;01m}\u001b[39;00m\u001b[38;5;124m\"\u001b[39m)\n\u001b[0;32m--> 206\u001b[0m \u001b[38;5;28;01mreturn\u001b[39;00m \u001b[38;5;28;43msuper\u001b[39;49m\u001b[43m(\u001b[49m\u001b[43m)\u001b[49m\u001b[38;5;241;43m.\u001b[39;49m\u001b[38;5;21;43m__call__\u001b[39;49m\u001b[43m(\u001b[49m\u001b[43msequences\u001b[49m\u001b[43m,\u001b[49m\u001b[43m \u001b[49m\u001b[38;5;241;43m*\u001b[39;49m\u001b[38;5;241;43m*\u001b[39;49m\u001b[43mkwargs\u001b[49m\u001b[43m)\u001b[49m\n",
      "File \u001b[0;32m~/miniforge3/envs/modern/lib/python3.12/site-packages/transformers/pipelines/base.py:1293\u001b[0m, in \u001b[0;36mPipeline.__call__\u001b[0;34m(self, inputs, num_workers, batch_size, *args, **kwargs)\u001b[0m\n\u001b[1;32m   1291\u001b[0m     \u001b[38;5;28;01mreturn\u001b[39;00m \u001b[38;5;28mself\u001b[39m\u001b[38;5;241m.\u001b[39miterate(inputs, preprocess_params, forward_params, postprocess_params)\n\u001b[1;32m   1292\u001b[0m \u001b[38;5;28;01melif\u001b[39;00m \u001b[38;5;28mself\u001b[39m\u001b[38;5;241m.\u001b[39mframework \u001b[38;5;241m==\u001b[39m \u001b[38;5;124m\"\u001b[39m\u001b[38;5;124mpt\u001b[39m\u001b[38;5;124m\"\u001b[39m \u001b[38;5;129;01mand\u001b[39;00m \u001b[38;5;28misinstance\u001b[39m(\u001b[38;5;28mself\u001b[39m, ChunkPipeline):\n\u001b[0;32m-> 1293\u001b[0m     \u001b[38;5;28;01mreturn\u001b[39;00m \u001b[38;5;28;43mnext\u001b[39;49m\u001b[43m(\u001b[49m\n\u001b[1;32m   1294\u001b[0m \u001b[43m        \u001b[49m\u001b[38;5;28;43miter\u001b[39;49m\u001b[43m(\u001b[49m\n\u001b[1;32m   1295\u001b[0m \u001b[43m            \u001b[49m\u001b[38;5;28;43mself\u001b[39;49m\u001b[38;5;241;43m.\u001b[39;49m\u001b[43mget_iterator\u001b[49m\u001b[43m(\u001b[49m\n\u001b[1;32m   1296\u001b[0m \u001b[43m                \u001b[49m\u001b[43m[\u001b[49m\u001b[43minputs\u001b[49m\u001b[43m]\u001b[49m\u001b[43m,\u001b[49m\u001b[43m \u001b[49m\u001b[43mnum_workers\u001b[49m\u001b[43m,\u001b[49m\u001b[43m \u001b[49m\u001b[43mbatch_size\u001b[49m\u001b[43m,\u001b[49m\u001b[43m \u001b[49m\u001b[43mpreprocess_params\u001b[49m\u001b[43m,\u001b[49m\u001b[43m \u001b[49m\u001b[43mforward_params\u001b[49m\u001b[43m,\u001b[49m\u001b[43m \u001b[49m\u001b[43mpostprocess_params\u001b[49m\n\u001b[1;32m   1297\u001b[0m \u001b[43m            \u001b[49m\u001b[43m)\u001b[49m\n\u001b[1;32m   1298\u001b[0m \u001b[43m        \u001b[49m\u001b[43m)\u001b[49m\n\u001b[1;32m   1299\u001b[0m \u001b[43m    \u001b[49m\u001b[43m)\u001b[49m\n\u001b[1;32m   1300\u001b[0m \u001b[38;5;28;01melse\u001b[39;00m:\n\u001b[1;32m   1301\u001b[0m     \u001b[38;5;28;01mreturn\u001b[39;00m \u001b[38;5;28mself\u001b[39m\u001b[38;5;241m.\u001b[39mrun_single(inputs, preprocess_params, forward_params, postprocess_params)\n",
      "File \u001b[0;32m~/miniforge3/envs/modern/lib/python3.12/site-packages/transformers/pipelines/pt_utils.py:124\u001b[0m, in \u001b[0;36mPipelineIterator.__next__\u001b[0;34m(self)\u001b[0m\n\u001b[1;32m    121\u001b[0m     \u001b[38;5;28;01mreturn\u001b[39;00m \u001b[38;5;28mself\u001b[39m\u001b[38;5;241m.\u001b[39mloader_batch_item()\n\u001b[1;32m    123\u001b[0m \u001b[38;5;66;03m# We're out of items within a batch\u001b[39;00m\n\u001b[0;32m--> 124\u001b[0m item \u001b[38;5;241m=\u001b[39m \u001b[38;5;28;43mnext\u001b[39;49m\u001b[43m(\u001b[49m\u001b[38;5;28;43mself\u001b[39;49m\u001b[38;5;241;43m.\u001b[39;49m\u001b[43miterator\u001b[49m\u001b[43m)\u001b[49m\n\u001b[1;32m    125\u001b[0m processed \u001b[38;5;241m=\u001b[39m \u001b[38;5;28mself\u001b[39m\u001b[38;5;241m.\u001b[39minfer(item, \u001b[38;5;241m*\u001b[39m\u001b[38;5;241m*\u001b[39m\u001b[38;5;28mself\u001b[39m\u001b[38;5;241m.\u001b[39mparams)\n\u001b[1;32m    126\u001b[0m \u001b[38;5;66;03m# We now have a batch of \"inferred things\".\u001b[39;00m\n",
      "File \u001b[0;32m~/miniforge3/envs/modern/lib/python3.12/site-packages/transformers/pipelines/pt_utils.py:269\u001b[0m, in \u001b[0;36mPipelinePackIterator.__next__\u001b[0;34m(self)\u001b[0m\n\u001b[1;32m    266\u001b[0m             \u001b[38;5;28;01mreturn\u001b[39;00m accumulator\n\u001b[1;32m    268\u001b[0m \u001b[38;5;28;01mwhile\u001b[39;00m \u001b[38;5;129;01mnot\u001b[39;00m is_last:\n\u001b[0;32m--> 269\u001b[0m     processed \u001b[38;5;241m=\u001b[39m \u001b[38;5;28;43mself\u001b[39;49m\u001b[38;5;241;43m.\u001b[39;49m\u001b[43minfer\u001b[49m\u001b[43m(\u001b[49m\u001b[38;5;28;43mnext\u001b[39;49m\u001b[43m(\u001b[49m\u001b[38;5;28;43mself\u001b[39;49m\u001b[38;5;241;43m.\u001b[39;49m\u001b[43miterator\u001b[49m\u001b[43m)\u001b[49m\u001b[43m,\u001b[49m\u001b[43m \u001b[49m\u001b[38;5;241;43m*\u001b[39;49m\u001b[38;5;241;43m*\u001b[39;49m\u001b[38;5;28;43mself\u001b[39;49m\u001b[38;5;241;43m.\u001b[39;49m\u001b[43mparams\u001b[49m\u001b[43m)\u001b[49m\n\u001b[1;32m    270\u001b[0m     \u001b[38;5;28;01mif\u001b[39;00m \u001b[38;5;28mself\u001b[39m\u001b[38;5;241m.\u001b[39mloader_batch_size \u001b[38;5;129;01mis\u001b[39;00m \u001b[38;5;129;01mnot\u001b[39;00m \u001b[38;5;28;01mNone\u001b[39;00m:\n\u001b[1;32m    271\u001b[0m         \u001b[38;5;28;01mif\u001b[39;00m \u001b[38;5;28misinstance\u001b[39m(processed, torch\u001b[38;5;241m.\u001b[39mTensor):\n",
      "File \u001b[0;32m~/miniforge3/envs/modern/lib/python3.12/site-packages/transformers/pipelines/base.py:1208\u001b[0m, in \u001b[0;36mPipeline.forward\u001b[0;34m(self, model_inputs, **forward_params)\u001b[0m\n\u001b[1;32m   1206\u001b[0m     \u001b[38;5;28;01mwith\u001b[39;00m inference_context():\n\u001b[1;32m   1207\u001b[0m         model_inputs \u001b[38;5;241m=\u001b[39m \u001b[38;5;28mself\u001b[39m\u001b[38;5;241m.\u001b[39m_ensure_tensor_on_device(model_inputs, device\u001b[38;5;241m=\u001b[39m\u001b[38;5;28mself\u001b[39m\u001b[38;5;241m.\u001b[39mdevice)\n\u001b[0;32m-> 1208\u001b[0m         model_outputs \u001b[38;5;241m=\u001b[39m \u001b[38;5;28;43mself\u001b[39;49m\u001b[38;5;241;43m.\u001b[39;49m\u001b[43m_forward\u001b[49m\u001b[43m(\u001b[49m\u001b[43mmodel_inputs\u001b[49m\u001b[43m,\u001b[49m\u001b[43m \u001b[49m\u001b[38;5;241;43m*\u001b[39;49m\u001b[38;5;241;43m*\u001b[39;49m\u001b[43mforward_params\u001b[49m\u001b[43m)\u001b[49m\n\u001b[1;32m   1209\u001b[0m         model_outputs \u001b[38;5;241m=\u001b[39m \u001b[38;5;28mself\u001b[39m\u001b[38;5;241m.\u001b[39m_ensure_tensor_on_device(model_outputs, device\u001b[38;5;241m=\u001b[39mtorch\u001b[38;5;241m.\u001b[39mdevice(\u001b[38;5;124m\"\u001b[39m\u001b[38;5;124mcpu\u001b[39m\u001b[38;5;124m\"\u001b[39m))\n\u001b[1;32m   1210\u001b[0m \u001b[38;5;28;01melse\u001b[39;00m:\n",
      "File \u001b[0;32m~/miniforge3/envs/modern/lib/python3.12/site-packages/transformers/pipelines/zero_shot_classification.py:229\u001b[0m, in \u001b[0;36mZeroShotClassificationPipeline._forward\u001b[0;34m(self, inputs)\u001b[0m\n\u001b[1;32m    227\u001b[0m \u001b[38;5;28;01mif\u001b[39;00m \u001b[38;5;124m\"\u001b[39m\u001b[38;5;124muse_cache\u001b[39m\u001b[38;5;124m\"\u001b[39m \u001b[38;5;129;01min\u001b[39;00m inspect\u001b[38;5;241m.\u001b[39msignature(model_forward)\u001b[38;5;241m.\u001b[39mparameters\u001b[38;5;241m.\u001b[39mkeys():\n\u001b[1;32m    228\u001b[0m     model_inputs[\u001b[38;5;124m\"\u001b[39m\u001b[38;5;124muse_cache\u001b[39m\u001b[38;5;124m\"\u001b[39m] \u001b[38;5;241m=\u001b[39m \u001b[38;5;28;01mFalse\u001b[39;00m\n\u001b[0;32m--> 229\u001b[0m outputs \u001b[38;5;241m=\u001b[39m \u001b[38;5;28;43mself\u001b[39;49m\u001b[38;5;241;43m.\u001b[39;49m\u001b[43mmodel\u001b[49m\u001b[43m(\u001b[49m\u001b[38;5;241;43m*\u001b[39;49m\u001b[38;5;241;43m*\u001b[39;49m\u001b[43mmodel_inputs\u001b[49m\u001b[43m)\u001b[49m\n\u001b[1;32m    231\u001b[0m model_outputs \u001b[38;5;241m=\u001b[39m {\n\u001b[1;32m    232\u001b[0m     \u001b[38;5;124m\"\u001b[39m\u001b[38;5;124mcandidate_label\u001b[39m\u001b[38;5;124m\"\u001b[39m: candidate_label,\n\u001b[1;32m    233\u001b[0m     \u001b[38;5;124m\"\u001b[39m\u001b[38;5;124msequence\u001b[39m\u001b[38;5;124m\"\u001b[39m: sequence,\n\u001b[1;32m    234\u001b[0m     \u001b[38;5;124m\"\u001b[39m\u001b[38;5;124mis_last\u001b[39m\u001b[38;5;124m\"\u001b[39m: inputs[\u001b[38;5;124m\"\u001b[39m\u001b[38;5;124mis_last\u001b[39m\u001b[38;5;124m\"\u001b[39m],\n\u001b[1;32m    235\u001b[0m     \u001b[38;5;241m*\u001b[39m\u001b[38;5;241m*\u001b[39moutputs,\n\u001b[1;32m    236\u001b[0m }\n\u001b[1;32m    237\u001b[0m \u001b[38;5;28;01mreturn\u001b[39;00m model_outputs\n",
      "File \u001b[0;32m~/miniforge3/envs/modern/lib/python3.12/site-packages/torch/nn/modules/module.py:1739\u001b[0m, in \u001b[0;36mModule._wrapped_call_impl\u001b[0;34m(self, *args, **kwargs)\u001b[0m\n\u001b[1;32m   1737\u001b[0m     \u001b[38;5;28;01mreturn\u001b[39;00m \u001b[38;5;28mself\u001b[39m\u001b[38;5;241m.\u001b[39m_compiled_call_impl(\u001b[38;5;241m*\u001b[39margs, \u001b[38;5;241m*\u001b[39m\u001b[38;5;241m*\u001b[39mkwargs)  \u001b[38;5;66;03m# type: ignore[misc]\u001b[39;00m\n\u001b[1;32m   1738\u001b[0m \u001b[38;5;28;01melse\u001b[39;00m:\n\u001b[0;32m-> 1739\u001b[0m     \u001b[38;5;28;01mreturn\u001b[39;00m \u001b[38;5;28;43mself\u001b[39;49m\u001b[38;5;241;43m.\u001b[39;49m\u001b[43m_call_impl\u001b[49m\u001b[43m(\u001b[49m\u001b[38;5;241;43m*\u001b[39;49m\u001b[43margs\u001b[49m\u001b[43m,\u001b[49m\u001b[43m \u001b[49m\u001b[38;5;241;43m*\u001b[39;49m\u001b[38;5;241;43m*\u001b[39;49m\u001b[43mkwargs\u001b[49m\u001b[43m)\u001b[49m\n",
      "File \u001b[0;32m~/miniforge3/envs/modern/lib/python3.12/site-packages/torch/nn/modules/module.py:1750\u001b[0m, in \u001b[0;36mModule._call_impl\u001b[0;34m(self, *args, **kwargs)\u001b[0m\n\u001b[1;32m   1745\u001b[0m \u001b[38;5;66;03m# If we don't have any hooks, we want to skip the rest of the logic in\u001b[39;00m\n\u001b[1;32m   1746\u001b[0m \u001b[38;5;66;03m# this function, and just call forward.\u001b[39;00m\n\u001b[1;32m   1747\u001b[0m \u001b[38;5;28;01mif\u001b[39;00m \u001b[38;5;129;01mnot\u001b[39;00m (\u001b[38;5;28mself\u001b[39m\u001b[38;5;241m.\u001b[39m_backward_hooks \u001b[38;5;129;01mor\u001b[39;00m \u001b[38;5;28mself\u001b[39m\u001b[38;5;241m.\u001b[39m_backward_pre_hooks \u001b[38;5;129;01mor\u001b[39;00m \u001b[38;5;28mself\u001b[39m\u001b[38;5;241m.\u001b[39m_forward_hooks \u001b[38;5;129;01mor\u001b[39;00m \u001b[38;5;28mself\u001b[39m\u001b[38;5;241m.\u001b[39m_forward_pre_hooks\n\u001b[1;32m   1748\u001b[0m         \u001b[38;5;129;01mor\u001b[39;00m _global_backward_pre_hooks \u001b[38;5;129;01mor\u001b[39;00m _global_backward_hooks\n\u001b[1;32m   1749\u001b[0m         \u001b[38;5;129;01mor\u001b[39;00m _global_forward_hooks \u001b[38;5;129;01mor\u001b[39;00m _global_forward_pre_hooks):\n\u001b[0;32m-> 1750\u001b[0m     \u001b[38;5;28;01mreturn\u001b[39;00m \u001b[43mforward_call\u001b[49m\u001b[43m(\u001b[49m\u001b[38;5;241;43m*\u001b[39;49m\u001b[43margs\u001b[49m\u001b[43m,\u001b[49m\u001b[43m \u001b[49m\u001b[38;5;241;43m*\u001b[39;49m\u001b[38;5;241;43m*\u001b[39;49m\u001b[43mkwargs\u001b[49m\u001b[43m)\u001b[49m\n\u001b[1;32m   1752\u001b[0m result \u001b[38;5;241m=\u001b[39m \u001b[38;5;28;01mNone\u001b[39;00m\n\u001b[1;32m   1753\u001b[0m called_always_called_hooks \u001b[38;5;241m=\u001b[39m \u001b[38;5;28mset\u001b[39m()\n",
      "File \u001b[0;32m~/miniforge3/envs/modern/lib/python3.12/site-packages/transformers/models/modernbert/modeling_modernbert.py:1160\u001b[0m, in \u001b[0;36mModernBertForSequenceClassification.forward\u001b[0;34m(self, input_ids, attention_mask, sliding_window_mask, position_ids, labels, indices, cu_seqlens, max_seqlen, batch_size, seq_len, output_attentions, output_hidden_states, return_dict, **kwargs)\u001b[0m\n\u001b[1;32m   1157\u001b[0m return_dict \u001b[38;5;241m=\u001b[39m return_dict \u001b[38;5;28;01mif\u001b[39;00m return_dict \u001b[38;5;129;01mis\u001b[39;00m \u001b[38;5;129;01mnot\u001b[39;00m \u001b[38;5;28;01mNone\u001b[39;00m \u001b[38;5;28;01melse\u001b[39;00m \u001b[38;5;28mself\u001b[39m\u001b[38;5;241m.\u001b[39mconfig\u001b[38;5;241m.\u001b[39muse_return_dict\n\u001b[1;32m   1158\u001b[0m \u001b[38;5;28mself\u001b[39m\u001b[38;5;241m.\u001b[39m_maybe_set_compile()\n\u001b[0;32m-> 1160\u001b[0m outputs \u001b[38;5;241m=\u001b[39m \u001b[38;5;28;43mself\u001b[39;49m\u001b[38;5;241;43m.\u001b[39;49m\u001b[43mmodel\u001b[49m\u001b[43m(\u001b[49m\n\u001b[1;32m   1161\u001b[0m \u001b[43m    \u001b[49m\u001b[43minput_ids\u001b[49m\u001b[43m,\u001b[49m\n\u001b[1;32m   1162\u001b[0m \u001b[43m    \u001b[49m\u001b[43mattention_mask\u001b[49m\u001b[38;5;241;43m=\u001b[39;49m\u001b[43mattention_mask\u001b[49m\u001b[43m,\u001b[49m\n\u001b[1;32m   1163\u001b[0m \u001b[43m    \u001b[49m\u001b[43msliding_window_mask\u001b[49m\u001b[38;5;241;43m=\u001b[39;49m\u001b[43msliding_window_mask\u001b[49m\u001b[43m,\u001b[49m\n\u001b[1;32m   1164\u001b[0m \u001b[43m    \u001b[49m\u001b[43mposition_ids\u001b[49m\u001b[38;5;241;43m=\u001b[39;49m\u001b[43mposition_ids\u001b[49m\u001b[43m,\u001b[49m\n\u001b[1;32m   1165\u001b[0m \u001b[43m    \u001b[49m\u001b[43mindices\u001b[49m\u001b[38;5;241;43m=\u001b[39;49m\u001b[43mindices\u001b[49m\u001b[43m,\u001b[49m\n\u001b[1;32m   1166\u001b[0m \u001b[43m    \u001b[49m\u001b[43mcu_seqlens\u001b[49m\u001b[38;5;241;43m=\u001b[39;49m\u001b[43mcu_seqlens\u001b[49m\u001b[43m,\u001b[49m\n\u001b[1;32m   1167\u001b[0m \u001b[43m    \u001b[49m\u001b[43mmax_seqlen\u001b[49m\u001b[38;5;241;43m=\u001b[39;49m\u001b[43mmax_seqlen\u001b[49m\u001b[43m,\u001b[49m\n\u001b[1;32m   1168\u001b[0m \u001b[43m    \u001b[49m\u001b[43mbatch_size\u001b[49m\u001b[38;5;241;43m=\u001b[39;49m\u001b[43mbatch_size\u001b[49m\u001b[43m,\u001b[49m\n\u001b[1;32m   1169\u001b[0m \u001b[43m    \u001b[49m\u001b[43mseq_len\u001b[49m\u001b[38;5;241;43m=\u001b[39;49m\u001b[43mseq_len\u001b[49m\u001b[43m,\u001b[49m\n\u001b[1;32m   1170\u001b[0m \u001b[43m    \u001b[49m\u001b[43moutput_attentions\u001b[49m\u001b[38;5;241;43m=\u001b[39;49m\u001b[43moutput_attentions\u001b[49m\u001b[43m,\u001b[49m\n\u001b[1;32m   1171\u001b[0m \u001b[43m    \u001b[49m\u001b[43moutput_hidden_states\u001b[49m\u001b[38;5;241;43m=\u001b[39;49m\u001b[43moutput_hidden_states\u001b[49m\u001b[43m,\u001b[49m\n\u001b[1;32m   1172\u001b[0m \u001b[43m    \u001b[49m\u001b[43mreturn_dict\u001b[49m\u001b[38;5;241;43m=\u001b[39;49m\u001b[43mreturn_dict\u001b[49m\u001b[43m,\u001b[49m\n\u001b[1;32m   1173\u001b[0m \u001b[43m\u001b[49m\u001b[43m)\u001b[49m\n\u001b[1;32m   1174\u001b[0m last_hidden_state \u001b[38;5;241m=\u001b[39m outputs[\u001b[38;5;241m0\u001b[39m]\n\u001b[1;32m   1176\u001b[0m \u001b[38;5;28;01mif\u001b[39;00m \u001b[38;5;28mself\u001b[39m\u001b[38;5;241m.\u001b[39mconfig\u001b[38;5;241m.\u001b[39mclassifier_pooling \u001b[38;5;241m==\u001b[39m \u001b[38;5;124m\"\u001b[39m\u001b[38;5;124mcls\u001b[39m\u001b[38;5;124m\"\u001b[39m:\n",
      "File \u001b[0;32m~/miniforge3/envs/modern/lib/python3.12/site-packages/torch/nn/modules/module.py:1739\u001b[0m, in \u001b[0;36mModule._wrapped_call_impl\u001b[0;34m(self, *args, **kwargs)\u001b[0m\n\u001b[1;32m   1737\u001b[0m     \u001b[38;5;28;01mreturn\u001b[39;00m \u001b[38;5;28mself\u001b[39m\u001b[38;5;241m.\u001b[39m_compiled_call_impl(\u001b[38;5;241m*\u001b[39margs, \u001b[38;5;241m*\u001b[39m\u001b[38;5;241m*\u001b[39mkwargs)  \u001b[38;5;66;03m# type: ignore[misc]\u001b[39;00m\n\u001b[1;32m   1738\u001b[0m \u001b[38;5;28;01melse\u001b[39;00m:\n\u001b[0;32m-> 1739\u001b[0m     \u001b[38;5;28;01mreturn\u001b[39;00m \u001b[38;5;28;43mself\u001b[39;49m\u001b[38;5;241;43m.\u001b[39;49m\u001b[43m_call_impl\u001b[49m\u001b[43m(\u001b[49m\u001b[38;5;241;43m*\u001b[39;49m\u001b[43margs\u001b[49m\u001b[43m,\u001b[49m\u001b[43m \u001b[49m\u001b[38;5;241;43m*\u001b[39;49m\u001b[38;5;241;43m*\u001b[39;49m\u001b[43mkwargs\u001b[49m\u001b[43m)\u001b[49m\n",
      "File \u001b[0;32m~/miniforge3/envs/modern/lib/python3.12/site-packages/torch/nn/modules/module.py:1750\u001b[0m, in \u001b[0;36mModule._call_impl\u001b[0;34m(self, *args, **kwargs)\u001b[0m\n\u001b[1;32m   1745\u001b[0m \u001b[38;5;66;03m# If we don't have any hooks, we want to skip the rest of the logic in\u001b[39;00m\n\u001b[1;32m   1746\u001b[0m \u001b[38;5;66;03m# this function, and just call forward.\u001b[39;00m\n\u001b[1;32m   1747\u001b[0m \u001b[38;5;28;01mif\u001b[39;00m \u001b[38;5;129;01mnot\u001b[39;00m (\u001b[38;5;28mself\u001b[39m\u001b[38;5;241m.\u001b[39m_backward_hooks \u001b[38;5;129;01mor\u001b[39;00m \u001b[38;5;28mself\u001b[39m\u001b[38;5;241m.\u001b[39m_backward_pre_hooks \u001b[38;5;129;01mor\u001b[39;00m \u001b[38;5;28mself\u001b[39m\u001b[38;5;241m.\u001b[39m_forward_hooks \u001b[38;5;129;01mor\u001b[39;00m \u001b[38;5;28mself\u001b[39m\u001b[38;5;241m.\u001b[39m_forward_pre_hooks\n\u001b[1;32m   1748\u001b[0m         \u001b[38;5;129;01mor\u001b[39;00m _global_backward_pre_hooks \u001b[38;5;129;01mor\u001b[39;00m _global_backward_hooks\n\u001b[1;32m   1749\u001b[0m         \u001b[38;5;129;01mor\u001b[39;00m _global_forward_hooks \u001b[38;5;129;01mor\u001b[39;00m _global_forward_pre_hooks):\n\u001b[0;32m-> 1750\u001b[0m     \u001b[38;5;28;01mreturn\u001b[39;00m \u001b[43mforward_call\u001b[49m\u001b[43m(\u001b[49m\u001b[38;5;241;43m*\u001b[39;49m\u001b[43margs\u001b[49m\u001b[43m,\u001b[49m\u001b[43m \u001b[49m\u001b[38;5;241;43m*\u001b[39;49m\u001b[38;5;241;43m*\u001b[39;49m\u001b[43mkwargs\u001b[49m\u001b[43m)\u001b[49m\n\u001b[1;32m   1752\u001b[0m result \u001b[38;5;241m=\u001b[39m \u001b[38;5;28;01mNone\u001b[39;00m\n\u001b[1;32m   1753\u001b[0m called_always_called_hooks \u001b[38;5;241m=\u001b[39m \u001b[38;5;28mset\u001b[39m()\n",
      "File \u001b[0;32m~/miniforge3/envs/modern/lib/python3.12/site-packages/transformers/models/modernbert/modeling_modernbert.py:913\u001b[0m, in \u001b[0;36mModernBertModel.forward\u001b[0;34m(self, input_ids, attention_mask, sliding_window_mask, position_ids, indices, cu_seqlens, max_seqlen, batch_size, seq_len, output_attentions, output_hidden_states, return_dict)\u001b[0m\n\u001b[1;32m    902\u001b[0m     layer_outputs \u001b[38;5;241m=\u001b[39m \u001b[38;5;28mself\u001b[39m\u001b[38;5;241m.\u001b[39m_gradient_checkpointing_func(\n\u001b[1;32m    903\u001b[0m         encoder_layer\u001b[38;5;241m.\u001b[39m\u001b[38;5;21m__call__\u001b[39m,\n\u001b[1;32m    904\u001b[0m         hidden_states,\n\u001b[0;32m   (...)\u001b[0m\n\u001b[1;32m    910\u001b[0m         output_attentions,\n\u001b[1;32m    911\u001b[0m     )\n\u001b[1;32m    912\u001b[0m \u001b[38;5;28;01melse\u001b[39;00m:\n\u001b[0;32m--> 913\u001b[0m     layer_outputs \u001b[38;5;241m=\u001b[39m \u001b[43mencoder_layer\u001b[49m\u001b[43m(\u001b[49m\n\u001b[1;32m    914\u001b[0m \u001b[43m        \u001b[49m\u001b[43mhidden_states\u001b[49m\u001b[43m,\u001b[49m\n\u001b[1;32m    915\u001b[0m \u001b[43m        \u001b[49m\u001b[43mattention_mask\u001b[49m\u001b[38;5;241;43m=\u001b[39;49m\u001b[43mattention_mask\u001b[49m\u001b[43m,\u001b[49m\n\u001b[1;32m    916\u001b[0m \u001b[43m        \u001b[49m\u001b[43msliding_window_mask\u001b[49m\u001b[38;5;241;43m=\u001b[39;49m\u001b[43msliding_window_mask\u001b[49m\u001b[43m,\u001b[49m\n\u001b[1;32m    917\u001b[0m \u001b[43m        \u001b[49m\u001b[43mposition_ids\u001b[49m\u001b[38;5;241;43m=\u001b[39;49m\u001b[43mposition_ids\u001b[49m\u001b[43m,\u001b[49m\n\u001b[1;32m    918\u001b[0m \u001b[43m        \u001b[49m\u001b[43mcu_seqlens\u001b[49m\u001b[38;5;241;43m=\u001b[39;49m\u001b[43mcu_seqlens\u001b[49m\u001b[43m,\u001b[49m\n\u001b[1;32m    919\u001b[0m \u001b[43m        \u001b[49m\u001b[43mmax_seqlen\u001b[49m\u001b[38;5;241;43m=\u001b[39;49m\u001b[43mmax_seqlen\u001b[49m\u001b[43m,\u001b[49m\n\u001b[1;32m    920\u001b[0m \u001b[43m        \u001b[49m\u001b[43moutput_attentions\u001b[49m\u001b[38;5;241;43m=\u001b[39;49m\u001b[43moutput_attentions\u001b[49m\u001b[43m,\u001b[49m\n\u001b[1;32m    921\u001b[0m \u001b[43m    \u001b[49m\u001b[43m)\u001b[49m\n\u001b[1;32m    922\u001b[0m hidden_states \u001b[38;5;241m=\u001b[39m layer_outputs[\u001b[38;5;241m0\u001b[39m]\n\u001b[1;32m    923\u001b[0m \u001b[38;5;28;01mif\u001b[39;00m output_attentions \u001b[38;5;129;01mand\u001b[39;00m \u001b[38;5;28mlen\u001b[39m(layer_outputs) \u001b[38;5;241m>\u001b[39m \u001b[38;5;241m1\u001b[39m:\n",
      "File \u001b[0;32m~/miniforge3/envs/modern/lib/python3.12/site-packages/torch/nn/modules/module.py:1739\u001b[0m, in \u001b[0;36mModule._wrapped_call_impl\u001b[0;34m(self, *args, **kwargs)\u001b[0m\n\u001b[1;32m   1737\u001b[0m     \u001b[38;5;28;01mreturn\u001b[39;00m \u001b[38;5;28mself\u001b[39m\u001b[38;5;241m.\u001b[39m_compiled_call_impl(\u001b[38;5;241m*\u001b[39margs, \u001b[38;5;241m*\u001b[39m\u001b[38;5;241m*\u001b[39mkwargs)  \u001b[38;5;66;03m# type: ignore[misc]\u001b[39;00m\n\u001b[1;32m   1738\u001b[0m \u001b[38;5;28;01melse\u001b[39;00m:\n\u001b[0;32m-> 1739\u001b[0m     \u001b[38;5;28;01mreturn\u001b[39;00m \u001b[38;5;28;43mself\u001b[39;49m\u001b[38;5;241;43m.\u001b[39;49m\u001b[43m_call_impl\u001b[49m\u001b[43m(\u001b[49m\u001b[38;5;241;43m*\u001b[39;49m\u001b[43margs\u001b[49m\u001b[43m,\u001b[49m\u001b[43m \u001b[49m\u001b[38;5;241;43m*\u001b[39;49m\u001b[38;5;241;43m*\u001b[39;49m\u001b[43mkwargs\u001b[49m\u001b[43m)\u001b[49m\n",
      "File \u001b[0;32m~/miniforge3/envs/modern/lib/python3.12/site-packages/torch/nn/modules/module.py:1750\u001b[0m, in \u001b[0;36mModule._call_impl\u001b[0;34m(self, *args, **kwargs)\u001b[0m\n\u001b[1;32m   1745\u001b[0m \u001b[38;5;66;03m# If we don't have any hooks, we want to skip the rest of the logic in\u001b[39;00m\n\u001b[1;32m   1746\u001b[0m \u001b[38;5;66;03m# this function, and just call forward.\u001b[39;00m\n\u001b[1;32m   1747\u001b[0m \u001b[38;5;28;01mif\u001b[39;00m \u001b[38;5;129;01mnot\u001b[39;00m (\u001b[38;5;28mself\u001b[39m\u001b[38;5;241m.\u001b[39m_backward_hooks \u001b[38;5;129;01mor\u001b[39;00m \u001b[38;5;28mself\u001b[39m\u001b[38;5;241m.\u001b[39m_backward_pre_hooks \u001b[38;5;129;01mor\u001b[39;00m \u001b[38;5;28mself\u001b[39m\u001b[38;5;241m.\u001b[39m_forward_hooks \u001b[38;5;129;01mor\u001b[39;00m \u001b[38;5;28mself\u001b[39m\u001b[38;5;241m.\u001b[39m_forward_pre_hooks\n\u001b[1;32m   1748\u001b[0m         \u001b[38;5;129;01mor\u001b[39;00m _global_backward_pre_hooks \u001b[38;5;129;01mor\u001b[39;00m _global_backward_hooks\n\u001b[1;32m   1749\u001b[0m         \u001b[38;5;129;01mor\u001b[39;00m _global_forward_hooks \u001b[38;5;129;01mor\u001b[39;00m _global_forward_pre_hooks):\n\u001b[0;32m-> 1750\u001b[0m     \u001b[38;5;28;01mreturn\u001b[39;00m \u001b[43mforward_call\u001b[49m\u001b[43m(\u001b[49m\u001b[38;5;241;43m*\u001b[39;49m\u001b[43margs\u001b[49m\u001b[43m,\u001b[49m\u001b[43m \u001b[49m\u001b[38;5;241;43m*\u001b[39;49m\u001b[38;5;241;43m*\u001b[39;49m\u001b[43mkwargs\u001b[49m\u001b[43m)\u001b[49m\n\u001b[1;32m   1752\u001b[0m result \u001b[38;5;241m=\u001b[39m \u001b[38;5;28;01mNone\u001b[39;00m\n\u001b[1;32m   1753\u001b[0m called_always_called_hooks \u001b[38;5;241m=\u001b[39m \u001b[38;5;28mset\u001b[39m()\n",
      "File \u001b[0;32m~/miniforge3/envs/modern/lib/python3.12/site-packages/transformers/models/modernbert/modeling_modernbert.py:541\u001b[0m, in \u001b[0;36mModernBertEncoderLayer.forward\u001b[0;34m(self, hidden_states, attention_mask, sliding_window_mask, position_ids, cu_seqlens, max_seqlen, output_attentions)\u001b[0m\n\u001b[1;32m    529\u001b[0m attn_outputs \u001b[38;5;241m=\u001b[39m \u001b[38;5;28mself\u001b[39m\u001b[38;5;241m.\u001b[39mattn(\n\u001b[1;32m    530\u001b[0m     \u001b[38;5;28mself\u001b[39m\u001b[38;5;241m.\u001b[39mattn_norm(hidden_states),\n\u001b[1;32m    531\u001b[0m     attention_mask\u001b[38;5;241m=\u001b[39mattention_mask,\n\u001b[0;32m   (...)\u001b[0m\n\u001b[1;32m    536\u001b[0m     output_attentions\u001b[38;5;241m=\u001b[39moutput_attentions,\n\u001b[1;32m    537\u001b[0m )\n\u001b[1;32m    538\u001b[0m hidden_states \u001b[38;5;241m=\u001b[39m hidden_states \u001b[38;5;241m+\u001b[39m attn_outputs[\u001b[38;5;241m0\u001b[39m]\n\u001b[1;32m    539\u001b[0m mlp_output \u001b[38;5;241m=\u001b[39m (\n\u001b[1;32m    540\u001b[0m     \u001b[38;5;28mself\u001b[39m\u001b[38;5;241m.\u001b[39mcompiled_mlp(hidden_states)\n\u001b[0;32m--> 541\u001b[0m     \u001b[38;5;28;01mif\u001b[39;00m \u001b[38;5;28;43mself\u001b[39;49m\u001b[38;5;241;43m.\u001b[39;49m\u001b[43mconfig\u001b[49m\u001b[38;5;241;43m.\u001b[39;49m\u001b[43mreference_compile\u001b[49m\n\u001b[1;32m    542\u001b[0m     \u001b[38;5;28;01melse\u001b[39;00m \u001b[38;5;28mself\u001b[39m\u001b[38;5;241m.\u001b[39mmlp(\u001b[38;5;28mself\u001b[39m\u001b[38;5;241m.\u001b[39mmlp_norm(hidden_states))\n\u001b[1;32m    543\u001b[0m )\n\u001b[1;32m    544\u001b[0m hidden_states \u001b[38;5;241m=\u001b[39m hidden_states \u001b[38;5;241m+\u001b[39m mlp_output\n\u001b[1;32m    546\u001b[0m \u001b[38;5;28;01mreturn\u001b[39;00m (hidden_states,) \u001b[38;5;241m+\u001b[39m attn_outputs[\u001b[38;5;241m1\u001b[39m:]\n",
      "File \u001b[0;32m~/miniforge3/envs/modern/lib/python3.12/site-packages/transformers/configuration_utils.py:208\u001b[0m, in \u001b[0;36mPretrainedConfig.__getattribute__\u001b[0;34m(self, key)\u001b[0m\n\u001b[1;32m    205\u001b[0m         key \u001b[38;5;241m=\u001b[39m \u001b[38;5;28msuper\u001b[39m()\u001b[38;5;241m.\u001b[39m\u001b[38;5;21m__getattribute__\u001b[39m(\u001b[38;5;124m\"\u001b[39m\u001b[38;5;124mattribute_map\u001b[39m\u001b[38;5;124m\"\u001b[39m)[key]\n\u001b[1;32m    206\u001b[0m     \u001b[38;5;28msuper\u001b[39m()\u001b[38;5;241m.\u001b[39m\u001b[38;5;21m__setattr__\u001b[39m(key, value)\n\u001b[0;32m--> 208\u001b[0m \u001b[38;5;28;01mdef\u001b[39;00m \u001b[38;5;21m__getattribute__\u001b[39m(\u001b[38;5;28mself\u001b[39m, key):\n\u001b[1;32m    209\u001b[0m     \u001b[38;5;28;01mif\u001b[39;00m key \u001b[38;5;241m!=\u001b[39m \u001b[38;5;124m\"\u001b[39m\u001b[38;5;124mattribute_map\u001b[39m\u001b[38;5;124m\"\u001b[39m \u001b[38;5;129;01mand\u001b[39;00m key \u001b[38;5;129;01min\u001b[39;00m \u001b[38;5;28msuper\u001b[39m()\u001b[38;5;241m.\u001b[39m\u001b[38;5;21m__getattribute__\u001b[39m(\u001b[38;5;124m\"\u001b[39m\u001b[38;5;124mattribute_map\u001b[39m\u001b[38;5;124m\"\u001b[39m):\n\u001b[1;32m    210\u001b[0m         key \u001b[38;5;241m=\u001b[39m \u001b[38;5;28msuper\u001b[39m()\u001b[38;5;241m.\u001b[39m\u001b[38;5;21m__getattribute__\u001b[39m(\u001b[38;5;124m\"\u001b[39m\u001b[38;5;124mattribute_map\u001b[39m\u001b[38;5;124m\"\u001b[39m)[key]\n",
      "\u001b[0;31mKeyboardInterrupt\u001b[0m: "
     ]
    }
   ],
   "source": [
    "# Path to the folder containing model checkpoints\n",
    "model_folder = \"training_ModernBase\"\n",
    "\n",
    "# Get a sorted list of checkpoint folders\n",
    "checkpoints = sorted(\n",
    "    [\n",
    "        os.path.join(model_folder, d) for d in os.listdir(model_folder)\n",
    "        if os.path.isdir(os.path.join(model_folder, d)) and re.match(r'checkpoint-\\d+', d)\n",
    "    ],\n",
    "    key=lambda x: int(re.search(r'checkpoint-(\\d+)', x).group(1))\n",
    ")\n",
    "\n",
    "# Prepare to store stability results\n",
    "stability_results = []\n",
    "\n",
    "# Iterate over each checkpoint\n",
    "for model_path in tqdm(checkpoints, desc=\"Processing models\"):\n",
    "    # Load the pipeline for the current checkpoint\n",
    "    pipe = pipeline(\"zero-shot-classification\", model=model_path, device='cuda', batch_size=64, torch_dtype=torch.bfloat16)\n",
    "\n",
    "    colnames = ['hypothesis', 'alt1', 'alt2', 'alt3', 'alt4']\n",
    "    for col in tqdm(colnames, desc=f'Classifying columns in {model_path}'):\n",
    "        colname = col + '_label'\n",
    "        test[colname] = 0\n",
    "        for i in test.index:\n",
    "            hypothesis = test.loc[i, col]\n",
    "            sample = test.loc[i, 'premise']\n",
    "            res = pipe(sample, hypothesis, hypothesis_template='{}', multi_label=False)\n",
    "            test.loc[i, colname] = round(res['scores'][0])\n",
    "        test[colname].replace({0: 1, 1: 0}, inplace=True)\n",
    "        test[colname] = test[colname].astype(int)\n",
    "\n",
    "    # Calculate the total number of differences\n",
    "    alt_columns = ['alt1_label', 'alt2_label', 'alt3_label', 'alt4_label']\n",
    "    total_differences = 0\n",
    "\n",
    "    for col in alt_columns:\n",
    "        total_differences += (test[col] != test['hypothesis_label']).sum()\n",
    "\n",
    "    # Calculate stability metric\n",
    "    stability = total_differences / (len(test) * 4)\n",
    "\n",
    "    # Extract checkpoint number and store results\n",
    "    checkpoint_number = int(re.search(r'checkpoint-(\\d+)', model_path).group(1))\n",
    "    stability_results.append((checkpoint_number, stability))\n",
    "\n",
    "    # Print the result for the current model\n",
    "    print(f\"Checkpoint {checkpoint_number}: Stability = {stability}\")\n",
    "\n",
    "# Convert results to a DataFrame\n",
    "stability_df = pd.DataFrame(stability_results, columns=[\"Checkpoint\", \"Stability\"])\n",
    "\n",
    "# Sort by checkpoint for plotting\n",
    "stability_df.sort_values(\"Checkpoint\", inplace=True)\n",
    "\n",
    "# Plot the results\n",
    "plt.figure(figsize=(10, 6))\n",
    "plt.plot(stability_df[\"Checkpoint\"], stability_df[\"Stability\"], marker=\"o\")\n",
    "plt.title(\"Stability of Labels Across Checkpoints\", fontsize=14)\n",
    "plt.xlabel(\"Checkpoint\", fontsize=12)\n",
    "plt.ylabel(\"Stability Metric\", fontsize=12)\n",
    "plt.grid(True)\n",
    "plt.show()"
   ]
  },
  {
   "cell_type": "markdown",
   "metadata": {},
   "source": [
    "# DEBATE Base"
   ]
  },
  {
   "cell_type": "code",
   "execution_count": null,
   "metadata": {},
   "outputs": [],
   "source": [
    "#model = \"mlburnham/Political_DEBATE_base_v1.0\"\n",
    "model = \"training_Modern_tasksource2/checkpoint-85648\"\n",
    "pipe = pipeline(\"zero-shot-classification\", model = model, device = 'cuda', batch_size = 64)\n",
    "\n",
    "colnames = ['hypothesis', 'alt1', 'alt2', 'alt3', 'alt4']\n",
    "for col in tqdm(colnames, desc = 'Classifying columns'):\n",
    "    colname = col + '_label'\n",
    "    test[colname] = 0\n",
    "    for i in test.index:\n",
    "        hypothesis = test.loc[i, col]\n",
    "        sample = test.loc[i, 'premise']\n",
    "        res = pipe(sample, hypothesis, hypothesis_template = '{}', multi_label = False)\n",
    "        test.loc[i, colname] = round(res['scores'][0])\n",
    "    test[colname].replace({0:1, 1:0}, inplace = True)\n",
    "\n",
    "    test[colname] = test[colname].astype(int)\n",
    "\n",
    "# Add labels to dataframe and count the number of differences\n",
    "alt_columns = ['alt1_label', 'alt2_label', 'alt3_label', 'alt4_label']\n",
    "# Initialize a counter for differences\n",
    "total_differences = 0\n",
    "\n",
    "# Iterate through each alternative label column\n",
    "for col in alt_columns:\n",
    "    # Compare the values with 'hypothesis_label' and sum the differences\n",
    "    total_differences += (test[col] != test['hypothesis_label']).sum()\n",
    "\n",
    "# Print the result\n",
    "print(f\"Total number of differences: {total_differences}\")\n",
    "\n",
    "print(total_differences/(8980*4))"
   ]
  },
  {
   "cell_type": "code",
   "execution_count": 8,
   "metadata": {},
   "outputs": [
    {
     "name": "stdout",
     "output_type": "stream",
     "text": [
      "Total number of differences: 894\n",
      "Total number of differences: 894\n"
     ]
    }
   ],
   "source": [
    "alt_columns = ['alt1_label', 'alt2_label', 'alt3_label', 'alt4_label']\n",
    "\n",
    "# Initialize a counter for differences\n",
    "total_differences = 0\n",
    "\n",
    "# Iterate through each alternative label column\n",
    "for col in alt_columns:\n",
    "    # Compare the values with 'hypothesis_label' and sum the differences\n",
    "    total_differences += (test[col] != test['hypothesis_label']).sum()\n",
    "\n",
    "# Print the result\n",
    "print(f\"Total number of differences: {total_differences}\")"
   ]
  },
  {
   "cell_type": "code",
   "execution_count": 11,
   "metadata": {},
   "outputs": [
    {
     "data": {
      "text/plain": [
       "0.024888641425389754"
      ]
     },
     "execution_count": null,
     "metadata": {},
     "output_type": "execute_result"
    }
   ],
   "source": [
    "total_differences/(8980*4)"
   ]
  },
  {
   "cell_type": "code",
   "execution_count": 12,
   "metadata": {},
   "outputs": [],
   "source": [
    "test.to_csv('hypothesis_stability.csv', index = False)"
   ]
  },
  {
   "cell_type": "markdown",
   "metadata": {},
   "source": [
    "# DEBATE Large"
   ]
  },
  {
   "cell_type": "code",
   "execution_count": 23,
   "metadata": {},
   "outputs": [],
   "source": [
    "model = \"mlburnham/Political_DEBATE_large_v1.0\"\n",
    "pipe = pipeline(\"zero-shot-classification\", model = model, device = 'mps', batch_size = 64)"
   ]
  },
  {
   "cell_type": "code",
   "execution_count": 24,
   "metadata": {},
   "outputs": [
    {
     "name": "stdout",
     "output_type": "stream",
     "text": [
      "CPU times: user 9min 19s, sys: 54.9 s, total: 10min 14s\n",
      "Wall time: 24min 4s\n",
      "CPU times: user 9min 19s, sys: 54.9 s, total: 10min 14s\n",
      "Wall time: 24min 4s\n"
     ]
    },
    {
     "name": "stderr",
     "output_type": "stream",
     "text": [
      "<timed exec>:9: FutureWarning: A value is trying to be set on a copy of a DataFrame or Series through chained assignment using an inplace method.\n",
      "The behavior will change in pandas 3.0. This inplace method will never work because the intermediate object on which we are setting values always behaves as a copy.\n",
      "\n",
      "For example, when doing 'df[col].method(value, inplace=True)', try using 'df.method({col: value}, inplace=True)' or df[col] = df[col].method(value) instead, to perform the operation inplace on the original object.\n",
      "\n",
      "\n"
     ]
    }
   ],
   "source": [
    "%%time\n",
    "colname = 'original_label'\n",
    "test[colname] = 0\n",
    "\n",
    "for i in test.index:\n",
    "    hypothesis = test.loc[i, 'hypothesis']\n",
    "    sample = test.loc[i, 'premise']\n",
    "    res = pipe(sample, hypothesis, hypothesis_template = '{}', multi_label = False)\n",
    "    test.loc[i, colname] = round(res['scores'][0])\n",
    "test[colname].replace({0:1, 1:0}, inplace = True)\n",
    "\n",
    "test[colname] = test[colname].astype(int)"
   ]
  },
  {
   "cell_type": "code",
   "execution_count": 25,
   "metadata": {},
   "outputs": [
    {
     "data": {
      "text/html": [
       "<div>\n",
       "<style scoped>\n",
       "    .dataframe tbody tr th:only-of-type {\n",
       "        vertical-align: middle;\n",
       "    }\n",
       "\n",
       "    .dataframe tbody tr th {\n",
       "        vertical-align: top;\n",
       "    }\n",
       "\n",
       "    .dataframe thead th {\n",
       "        text-align: right;\n",
       "    }\n",
       "</style>\n",
       "<table border=\"1\" class=\"dataframe\">\n",
       "  <thead>\n",
       "    <tr style=\"text-align: right;\">\n",
       "      <th></th>\n",
       "      <th>premise</th>\n",
       "      <th>hypothesis</th>\n",
       "      <th>entailment</th>\n",
       "      <th>dataset</th>\n",
       "      <th>task</th>\n",
       "      <th>alt1</th>\n",
       "      <th>alt2</th>\n",
       "      <th>alt3</th>\n",
       "      <th>alt4</th>\n",
       "      <th>original_label</th>\n",
       "    </tr>\n",
       "  </thead>\n",
       "  <tbody>\n",
       "    <tr>\n",
       "      <th>0</th>\n",
       "      <td>Transport workers strike to protest rising fue...</td>\n",
       "      <td>The event described in this text is a strike.</td>\n",
       "      <td>0</td>\n",
       "      <td>mlburnham/scad_event_entailment</td>\n",
       "      <td>event extraction</td>\n",
       "      <td>The occurrence detailed in this passage is a s...</td>\n",
       "      <td>The situation outlined in this document is a s...</td>\n",
       "      <td>The incident mentioned in this text is a strike.</td>\n",
       "      <td>The event described in this text is a strike.</td>\n",
       "      <td>0</td>\n",
       "    </tr>\n",
       "    <tr>\n",
       "      <th>1</th>\n",
       "      <td>Municipal workers strike over pay.</td>\n",
       "      <td>The event described in this text is a strike.</td>\n",
       "      <td>0</td>\n",
       "      <td>mlburnham/scad_event_entailment</td>\n",
       "      <td>event extraction</td>\n",
       "      <td>The occurrence detailed in this passage is a s...</td>\n",
       "      <td>The situation outlined in this document is a s...</td>\n",
       "      <td>The incident mentioned in this text is a strike.</td>\n",
       "      <td>The event described in this text is a strike.</td>\n",
       "      <td>0</td>\n",
       "    </tr>\n",
       "    <tr>\n",
       "      <th>2</th>\n",
       "      <td>Niger's mining sector strikes.</td>\n",
       "      <td>The event described in this text is a strike.</td>\n",
       "      <td>0</td>\n",
       "      <td>mlburnham/scad_event_entailment</td>\n",
       "      <td>event extraction</td>\n",
       "      <td>The occurrence detailed in this passage is a s...</td>\n",
       "      <td>The situation outlined in this document is a s...</td>\n",
       "      <td>The incident mentioned in this text is a strike.</td>\n",
       "      <td>The event described in this text is a strike.</td>\n",
       "      <td>0</td>\n",
       "    </tr>\n",
       "    <tr>\n",
       "      <th>3</th>\n",
       "      <td>Separatist movement protests detention of lead...</td>\n",
       "      <td>The event described in this text is a strike.</td>\n",
       "      <td>0</td>\n",
       "      <td>mlburnham/scad_event_entailment</td>\n",
       "      <td>event extraction</td>\n",
       "      <td>The occurrence detailed in this passage is a s...</td>\n",
       "      <td>The situation outlined in this document is a s...</td>\n",
       "      <td>The incident mentioned in this text is a strike.</td>\n",
       "      <td>The event described in this text is a strike.</td>\n",
       "      <td>0</td>\n",
       "    </tr>\n",
       "    <tr>\n",
       "      <th>4</th>\n",
       "      <td>Janitors and hospital support staff staged a s...</td>\n",
       "      <td>The event described in this text is a strike.</td>\n",
       "      <td>0</td>\n",
       "      <td>mlburnham/scad_event_entailment</td>\n",
       "      <td>event extraction</td>\n",
       "      <td>The occurrence detailed in this passage is a s...</td>\n",
       "      <td>The situation outlined in this document is a s...</td>\n",
       "      <td>The incident mentioned in this text is a strike.</td>\n",
       "      <td>The event described in this text is a strike.</td>\n",
       "      <td>0</td>\n",
       "    </tr>\n",
       "    <tr>\n",
       "      <th>...</th>\n",
       "      <td>...</td>\n",
       "      <td>...</td>\n",
       "      <td>...</td>\n",
       "      <td>...</td>\n",
       "      <td>...</td>\n",
       "      <td>...</td>\n",
       "      <td>...</td>\n",
       "      <td>...</td>\n",
       "      <td>...</td>\n",
       "      <td>...</td>\n",
       "    </tr>\n",
       "    <tr>\n",
       "      <th>8975</th>\n",
       "      <td>Encouraging Public Offerings Act of 2019\\nThis...</td>\n",
       "      <td>This text is about finance and financial sector.</td>\n",
       "      <td>0</td>\n",
       "      <td>mlburnham/bill_summary_entailment</td>\n",
       "      <td>topic classification</td>\n",
       "      <td>This document discusses finance and the financ...</td>\n",
       "      <td>The content here pertains to finance and the f...</td>\n",
       "      <td>This writing covers topics related to finance ...</td>\n",
       "      <td>This text is about finance and financial sector.</td>\n",
       "      <td>0</td>\n",
       "    </tr>\n",
       "    <tr>\n",
       "      <th>8976</th>\n",
       "      <td>Cesar Chavez Commemorative Coin Act\\nThis bill...</td>\n",
       "      <td>This text is about finance and financial sector.</td>\n",
       "      <td>0</td>\n",
       "      <td>mlburnham/bill_summary_entailment</td>\n",
       "      <td>topic classification</td>\n",
       "      <td>This document discusses finance and the financ...</td>\n",
       "      <td>The content here pertains to finance and the f...</td>\n",
       "      <td>This writing covers topics related to finance ...</td>\n",
       "      <td>This text is about finance and financial sector.</td>\n",
       "      <td>1</td>\n",
       "    </tr>\n",
       "    <tr>\n",
       "      <th>8977</th>\n",
       "      <td>Outsourcing Accountability Act of 2017\\nThis b...</td>\n",
       "      <td>This text is about finance and financial sector.</td>\n",
       "      <td>0</td>\n",
       "      <td>mlburnham/bill_summary_entailment</td>\n",
       "      <td>topic classification</td>\n",
       "      <td>This document discusses finance and the financ...</td>\n",
       "      <td>The content here pertains to finance and the f...</td>\n",
       "      <td>This writing covers topics related to finance ...</td>\n",
       "      <td>This text is about finance and financial sector.</td>\n",
       "      <td>0</td>\n",
       "    </tr>\n",
       "    <tr>\n",
       "      <th>8978</th>\n",
       "      <td>Prioritizing Our Workers Act\\nThis bill includ...</td>\n",
       "      <td>This text is about finance and financial sector.</td>\n",
       "      <td>0</td>\n",
       "      <td>mlburnham/bill_summary_entailment</td>\n",
       "      <td>topic classification</td>\n",
       "      <td>This document discusses finance and the financ...</td>\n",
       "      <td>The content here pertains to finance and the f...</td>\n",
       "      <td>This writing covers topics related to finance ...</td>\n",
       "      <td>This text is about finance and financial sector.</td>\n",
       "      <td>0</td>\n",
       "    </tr>\n",
       "    <tr>\n",
       "      <th>8979</th>\n",
       "      <td>Flood Insurance Market Parity and Modernizatio...</td>\n",
       "      <td>This text is about finance and financial sector.</td>\n",
       "      <td>0</td>\n",
       "      <td>mlburnham/bill_summary_entailment</td>\n",
       "      <td>topic classification</td>\n",
       "      <td>This document discusses finance and the financ...</td>\n",
       "      <td>The content here pertains to finance and the f...</td>\n",
       "      <td>This writing covers topics related to finance ...</td>\n",
       "      <td>This text is about finance and financial sector.</td>\n",
       "      <td>0</td>\n",
       "    </tr>\n",
       "  </tbody>\n",
       "</table>\n",
       "<p>8980 rows × 10 columns</p>\n",
       "</div>"
      ],
      "text/plain": [
       "                                                premise                                        hypothesis  entailment  ...                                               alt3                                              alt4 original_label\n",
       "0     Transport workers strike to protest rising fue...     The event described in this text is a strike.           0  ...   The incident mentioned in this text is a strike.     The event described in this text is a strike.              0\n",
       "1                    Municipal workers strike over pay.     The event described in this text is a strike.           0  ...   The incident mentioned in this text is a strike.     The event described in this text is a strike.              0\n",
       "2                        Niger's mining sector strikes.     The event described in this text is a strike.           0  ...   The incident mentioned in this text is a strike.     The event described in this text is a strike.              0\n",
       "3     Separatist movement protests detention of lead...     The event described in this text is a strike.           0  ...   The incident mentioned in this text is a strike.     The event described in this text is a strike.              0\n",
       "4     Janitors and hospital support staff staged a s...     The event described in this text is a strike.           0  ...   The incident mentioned in this text is a strike.     The event described in this text is a strike.              0\n",
       "...                                                 ...                                               ...         ...  ...                                                ...                                               ...            ...\n",
       "8975  Encouraging Public Offerings Act of 2019\\nThis...  This text is about finance and financial sector.           0  ...  This writing covers topics related to finance ...  This text is about finance and financial sector.              0\n",
       "8976  Cesar Chavez Commemorative Coin Act\\nThis bill...  This text is about finance and financial sector.           0  ...  This writing covers topics related to finance ...  This text is about finance and financial sector.              1\n",
       "8977  Outsourcing Accountability Act of 2017\\nThis b...  This text is about finance and financial sector.           0  ...  This writing covers topics related to finance ...  This text is about finance and financial sector.              0\n",
       "8978  Prioritizing Our Workers Act\\nThis bill includ...  This text is about finance and financial sector.           0  ...  This writing covers topics related to finance ...  This text is about finance and financial sector.              0\n",
       "8979  Flood Insurance Market Parity and Modernizatio...  This text is about finance and financial sector.           0  ...  This writing covers topics related to finance ...  This text is about finance and financial sector.              0\n",
       "\n",
       "[8980 rows x 10 columns]"
      ]
     },
     "execution_count": null,
     "metadata": {},
     "output_type": "execute_result"
    }
   ],
   "source": [
    "colnames = ['alt1', 'alt2', 'alt3', 'alt4']\n",
    "for col in colnames:\n",
    "    colname = col + '_label'\n",
    "    test[colname] = 0\n",
    "    for i in test.index:\n",
    "        hypothesis = test.loc[i, col]\n",
    "        sample = test.loc[i, 'premise']\n",
    "        res = pipe(sample, hypothesis, hypothesis_template = '{}', multi_label = False)\n",
    "        test.loc[i, colname] = round(res['scores'][0])\n",
    "    test[colname].replace({0:1, 1:0}, inplace = True)\n",
    "\n",
    "    test[colname] = test[colname].astype(int)"
   ]
  }
 ],
 "metadata": {
  "kernelspec": {
   "display_name": "Python 3 (ipykernel)",
   "language": "python",
   "name": "python3"
  },
  "language_info": {
   "codemirror_mode": {
    "name": "ipython",
    "version": 3
   },
   "file_extension": ".py",
   "mimetype": "text/x-python",
   "name": "python",
   "nbconvert_exporter": "python",
   "pygments_lexer": "ipython3",
   "version": "3.12.8"
  }
 },
 "nbformat": 4,
 "nbformat_minor": 4
}
