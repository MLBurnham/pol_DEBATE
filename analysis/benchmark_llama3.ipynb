{
 "cells": [
  {
   "cell_type": "code",
   "execution_count": 1,
   "id": "6e557fba-d678-473f-8341-2e87a04d74a8",
   "metadata": {},
   "outputs": [
    {
     "name": "stderr",
     "output_type": "stream",
     "text": [
      "C:\\Users\\mikeb\\.conda\\envs\\sandbox\\Lib\\site-packages\\tqdm\\auto.py:21: TqdmWarning: IProgress not found. Please update jupyter and ipywidgets. See https://ipywidgets.readthedocs.io/en/stable/user_install.html\n",
      "  from .autonotebook import tqdm as notebook_tqdm\n"
     ]
    }
   ],
   "source": [
    "import pandas as pd\n",
    "from sklearn.metrics import matthews_corrcoef\n",
    "from tqdm import tqdm\n",
    "import torch\n",
    "from transformers import pipeline, AutoTokenizer\n",
    "from sklearn.metrics import balanced_accuracy_score, precision_recall_fscore_support, accuracy_score, f1_score"
   ]
  },
  {
   "cell_type": "code",
   "execution_count": 2,
   "id": "055aad23-ec1d-416f-b905-5c9fd2be7c59",
   "metadata": {},
   "outputs": [],
   "source": [
    "test = pd.read_csv('polnli_test_results.csv')"
   ]
  },
  {
   "cell_type": "code",
   "execution_count": 3,
   "id": "79eef735-0e24-4d0d-9613-aa213ae0cafe",
   "metadata": {},
   "outputs": [],
   "source": [
    "def metrics(df, preds, group_by=None):\n",
    "    true_col = 'entailment'\n",
    "    \n",
    "    def get_metrics(y_true, y_pred):\n",
    "        return {\n",
    "            'MCC': matthews_corrcoef(y_true, y_pred),\n",
    "            'Accuracy': accuracy_score(y_true, y_pred),\n",
    "            'F1': f1_score(y_true, y_pred, average='weighted')\n",
    "        }\n",
    "    \n",
    "    results = []\n",
    "    \n",
    "    if group_by not in ['dataset', 'task']:\n",
    "        for col in preds:\n",
    "            metrics = get_metrics(df[true_col], df[col])\n",
    "            metrics['Column'] = col\n",
    "            results.append(metrics)\n",
    "    else:\n",
    "        for col in preds:\n",
    "            for group_name, group in df.groupby(group_by):\n",
    "                metrics = get_metrics(group[true_col], group[col])\n",
    "                metrics['Column'] = col\n",
    "                metrics[group_by.capitalize()] = group_name\n",
    "                results.append(metrics)\n",
    "    \n",
    "    results_df = pd.DataFrame(results)\n",
    "    \n",
    "    if group_by in ['dataset', 'task']:\n",
    "        return results_df.set_index(['Column', group_by.capitalize()])\n",
    "    else:\n",
    "        return results_df.set_index('Column')"
   ]
  },
  {
   "cell_type": "markdown",
   "id": "cd81c94c-915b-4809-9701-b86491309ecd",
   "metadata": {},
   "source": [
    "# Llama 3 8B"
   ]
  },
  {
   "cell_type": "code",
   "execution_count": 4,
   "id": "2a7ba688-d8d3-4741-933d-3a7de1779dbc",
   "metadata": {},
   "outputs": [
    {
     "name": "stderr",
     "output_type": "stream",
     "text": [
      "Loading checkpoint shards: 100%|██████████| 4/4 [00:42<00:00, 10.69s/it]\n"
     ]
    }
   ],
   "source": [
    "model_id = \"meta-llama/Meta-Llama-3.1-8B-Instruct\"\n",
    "\n",
    "pipe = pipeline(\n",
    "    \"text-generation\",\n",
    "    model=model_id,\n",
    "    model_kwargs={\"torch_dtype\": torch.bfloat16},\n",
    "    device_map=\"cuda\",\n",
    ")"
   ]
  },
  {
   "cell_type": "code",
   "execution_count": 8,
   "id": "57562690-c1d5-4d2f-b729-cb4b3260be35",
   "metadata": {},
   "outputs": [],
   "source": [
    "test['augmented_hypothesis'] = test['augmented_hypothesis'].str.lower()"
   ]
  },
  {
   "cell_type": "code",
   "execution_count": 9,
   "id": "5c952475-fd03-4c39-b286-e3fee73b565e",
   "metadata": {},
   "outputs": [],
   "source": [
    "user_message = \"\"\"You are a classifier that can only respond with 0 or 1. I'm going to show you a short text sample and I want you to determine if {hypothesis}. Here is the text:\n",
    "{doc}\n",
    "\n",
    "If it is true that {hypothesis}, return 0. If it is not true that {hypothesis}, return 1.\n",
    "Do not explain your answer, and only return 0 or 1.\n",
    "\"\"\""
   ]
  },
  {
   "cell_type": "code",
   "execution_count": 10,
   "id": "26329666-f583-4c08-a3ab-1d500022b69b",
   "metadata": {},
   "outputs": [
    {
     "name": "stderr",
     "output_type": "stream",
     "text": [
      "C:\\Users\\mikeb\\.conda\\envs\\sandbox\\Lib\\site-packages\\transformers\\generation\\configuration_utils.py:567: UserWarning: `do_sample` is set to `False`. However, `temperature` is set to `0` -- this flag is only used in sample-based generation modes. You should set `do_sample=True` or unset `temperature`.\n",
      "  warnings.warn(\n",
      "C:\\Users\\mikeb\\.conda\\envs\\sandbox\\Lib\\site-packages\\transformers\\generation\\configuration_utils.py:572: UserWarning: `do_sample` is set to `False`. However, `top_p` is set to `0.9` -- this flag is only used in sample-based generation modes. You should set `do_sample=True` or unset `top_p`.\n",
      "  warnings.warn(\n",
      "C:\\Users\\mikeb\\.conda\\envs\\sandbox\\Lib\\site-packages\\transformers\\models\\llama\\modeling_llama.py:603: UserWarning: 1Torch was not compiled with flash attention. (Triggered internally at C:\\cb\\pytorch_1000000000000\\work\\aten\\src\\ATen\\native\\transformers\\cuda\\sdp_utils.cpp:555.)\n",
      "  attn_output = torch.nn.functional.scaled_dot_product_attention(\n",
      "You seem to be using the pipelines sequentially on GPU. In order to maximize efficiency please use a dataset\n"
     ]
    },
    {
     "name": "stdout",
     "output_type": "stream",
     "text": [
      "{'0', '1'}\n",
      "CPU times: total: 24min 12s\n",
      "Wall time: 25min 51s\n"
     ]
    }
   ],
   "source": [
    "%%time\n",
    "data = test\n",
    "res = []\n",
    "\n",
    "for i in data.index:\n",
    "    doc = data.loc[i, 'premise']\n",
    "    hypothesis = data.loc[i, 'augmented_hypothesis']\n",
    "    messages = [\n",
    "        {\"role\": \"user\", \"content\": user_message.format(doc = doc, hypothesis = hypothesis)},\n",
    "    ]\n",
    "    prompt = pipe.tokenizer.apply_chat_template(messages, tokenize=False, add_generation_prompt=True)\n",
    "    outputs = pipe(prompt, max_new_tokens=2, do_sample=False, return_full_text = False, pad_token_id=pipe.tokenizer.eos_token_id, temperature = 0)\n",
    "    res.extend(outputs)\n",
    "\n",
    "res = [text['generated_text'] for text in res]\n",
    "# return a list of unique responses from the model\n",
    "print(set(res))"
   ]
  },
  {
   "cell_type": "code",
   "execution_count": null,
   "id": "ec762754-ce86-413b-b21b-6eb8cb0c97d0",
   "metadata": {},
   "outputs": [],
   "source": [
    "res = [num[0] for num in res]\n",
    "test['llama'] = [1 if '1' in text else 0 for text in res]\n",
    "test.to_csv('polnli_test_results.csv', index = False)"
   ]
  },
  {
   "cell_type": "code",
   "execution_count": 14,
   "id": "a5bfdeae-3a50-4ac3-9462-f5eefc3756e3",
   "metadata": {},
   "outputs": [
    {
     "data": {
      "text/html": [
       "<div>\n",
       "<style scoped>\n",
       "    .dataframe tbody tr th:only-of-type {\n",
       "        vertical-align: middle;\n",
       "    }\n",
       "\n",
       "    .dataframe tbody tr th {\n",
       "        vertical-align: top;\n",
       "    }\n",
       "\n",
       "    .dataframe thead th {\n",
       "        text-align: right;\n",
       "    }\n",
       "</style>\n",
       "<table border=\"1\" class=\"dataframe\">\n",
       "  <thead>\n",
       "    <tr style=\"text-align: right;\">\n",
       "      <th></th>\n",
       "      <th>MCC</th>\n",
       "      <th>Accuracy</th>\n",
       "      <th>F1</th>\n",
       "    </tr>\n",
       "    <tr>\n",
       "      <th>Column</th>\n",
       "      <th></th>\n",
       "      <th></th>\n",
       "      <th></th>\n",
       "    </tr>\n",
       "  </thead>\n",
       "  <tbody>\n",
       "    <tr>\n",
       "      <th>base_polnli</th>\n",
       "      <td>0.894269</td>\n",
       "      <td>0.948978</td>\n",
       "      <td>0.948852</td>\n",
       "    </tr>\n",
       "    <tr>\n",
       "      <th>base_nli</th>\n",
       "      <td>0.658454</td>\n",
       "      <td>0.834635</td>\n",
       "      <td>0.830205</td>\n",
       "    </tr>\n",
       "    <tr>\n",
       "      <th>large_nli</th>\n",
       "      <td>0.731021</td>\n",
       "      <td>0.869062</td>\n",
       "      <td>0.866256</td>\n",
       "    </tr>\n",
       "    <tr>\n",
       "      <th>llama</th>\n",
       "      <td>0.730997</td>\n",
       "      <td>0.862358</td>\n",
       "      <td>0.863467</td>\n",
       "    </tr>\n",
       "  </tbody>\n",
       "</table>\n",
       "</div>"
      ],
      "text/plain": [
       "                  MCC  Accuracy        F1\n",
       "Column                                   \n",
       "base_polnli  0.894269  0.948978  0.948852\n",
       "base_nli     0.658454  0.834635  0.830205\n",
       "large_nli    0.731021  0.869062  0.866256\n",
       "llama        0.730997  0.862358  0.863467"
      ]
     },
     "execution_count": 14,
     "metadata": {},
     "output_type": "execute_result"
    }
   ],
   "source": [
    "metrics(test, preds = ['base_polnli', 'base_nli', 'large_nli', 'llama'], group_by = None)"
   ]
  },
  {
   "cell_type": "code",
   "execution_count": 15,
   "id": "c528b0d7-2905-401b-bd3c-d9e7581923ff",
   "metadata": {},
   "outputs": [
    {
     "data": {
      "text/html": [
       "<div>\n",
       "<style scoped>\n",
       "    .dataframe tbody tr th:only-of-type {\n",
       "        vertical-align: middle;\n",
       "    }\n",
       "\n",
       "    .dataframe tbody tr th {\n",
       "        vertical-align: top;\n",
       "    }\n",
       "\n",
       "    .dataframe thead th {\n",
       "        text-align: right;\n",
       "    }\n",
       "</style>\n",
       "<table border=\"1\" class=\"dataframe\">\n",
       "  <thead>\n",
       "    <tr style=\"text-align: right;\">\n",
       "      <th></th>\n",
       "      <th></th>\n",
       "      <th>MCC</th>\n",
       "      <th>Accuracy</th>\n",
       "      <th>F1</th>\n",
       "    </tr>\n",
       "    <tr>\n",
       "      <th>Column</th>\n",
       "      <th>Task</th>\n",
       "      <th></th>\n",
       "      <th></th>\n",
       "      <th></th>\n",
       "    </tr>\n",
       "  </thead>\n",
       "  <tbody>\n",
       "    <tr>\n",
       "      <th rowspan=\"4\" valign=\"top\">base_polnli</th>\n",
       "      <th>event extraction</th>\n",
       "      <td>0.813742</td>\n",
       "      <td>0.906774</td>\n",
       "      <td>0.907042</td>\n",
       "    </tr>\n",
       "    <tr>\n",
       "      <th>hatespeech and toxicity</th>\n",
       "      <td>0.841410</td>\n",
       "      <td>0.946036</td>\n",
       "      <td>0.945248</td>\n",
       "    </tr>\n",
       "    <tr>\n",
       "      <th>stance detection</th>\n",
       "      <td>0.920600</td>\n",
       "      <td>0.961546</td>\n",
       "      <td>0.961488</td>\n",
       "    </tr>\n",
       "    <tr>\n",
       "      <th>topic classification</th>\n",
       "      <td>0.926241</td>\n",
       "      <td>0.963834</td>\n",
       "      <td>0.963826</td>\n",
       "    </tr>\n",
       "    <tr>\n",
       "      <th rowspan=\"4\" valign=\"top\">base_nli</th>\n",
       "      <th>event extraction</th>\n",
       "      <td>0.528918</td>\n",
       "      <td>0.746858</td>\n",
       "      <td>0.745710</td>\n",
       "    </tr>\n",
       "    <tr>\n",
       "      <th>hatespeech and toxicity</th>\n",
       "      <td>0.494319</td>\n",
       "      <td>0.844437</td>\n",
       "      <td>0.822392</td>\n",
       "    </tr>\n",
       "    <tr>\n",
       "      <th>stance detection</th>\n",
       "      <td>0.553824</td>\n",
       "      <td>0.786101</td>\n",
       "      <td>0.781703</td>\n",
       "    </tr>\n",
       "    <tr>\n",
       "      <th>topic classification</th>\n",
       "      <td>0.875762</td>\n",
       "      <td>0.937653</td>\n",
       "      <td>0.937047</td>\n",
       "    </tr>\n",
       "    <tr>\n",
       "      <th rowspan=\"4\" valign=\"top\">large_nli</th>\n",
       "      <th>event extraction</th>\n",
       "      <td>0.718805</td>\n",
       "      <td>0.850209</td>\n",
       "      <td>0.850508</td>\n",
       "    </tr>\n",
       "    <tr>\n",
       "      <th>hatespeech and toxicity</th>\n",
       "      <td>0.571824</td>\n",
       "      <td>0.861426</td>\n",
       "      <td>0.854152</td>\n",
       "    </tr>\n",
       "    <tr>\n",
       "      <th>stance detection</th>\n",
       "      <td>0.612922</td>\n",
       "      <td>0.811736</td>\n",
       "      <td>0.805470</td>\n",
       "    </tr>\n",
       "    <tr>\n",
       "      <th>topic classification</th>\n",
       "      <td>0.899292</td>\n",
       "      <td>0.949634</td>\n",
       "      <td>0.949257</td>\n",
       "    </tr>\n",
       "    <tr>\n",
       "      <th rowspan=\"4\" valign=\"top\">llama</th>\n",
       "      <th>event extraction</th>\n",
       "      <td>0.808244</td>\n",
       "      <td>0.905726</td>\n",
       "      <td>0.905480</td>\n",
       "    </tr>\n",
       "    <tr>\n",
       "      <th>hatespeech and toxicity</th>\n",
       "      <td>0.559060</td>\n",
       "      <td>0.782145</td>\n",
       "      <td>0.799067</td>\n",
       "    </tr>\n",
       "    <tr>\n",
       "      <th>stance detection</th>\n",
       "      <td>0.605609</td>\n",
       "      <td>0.798117</td>\n",
       "      <td>0.799651</td>\n",
       "    </tr>\n",
       "    <tr>\n",
       "      <th>topic classification</th>\n",
       "      <td>0.918734</td>\n",
       "      <td>0.959396</td>\n",
       "      <td>0.959505</td>\n",
       "    </tr>\n",
       "  </tbody>\n",
       "</table>\n",
       "</div>"
      ],
      "text/plain": [
       "                                          MCC  Accuracy        F1\n",
       "Column      Task                                                 \n",
       "base_polnli event extraction         0.813742  0.906774  0.907042\n",
       "            hatespeech and toxicity  0.841410  0.946036  0.945248\n",
       "            stance detection         0.920600  0.961546  0.961488\n",
       "            topic classification     0.926241  0.963834  0.963826\n",
       "base_nli    event extraction         0.528918  0.746858  0.745710\n",
       "            hatespeech and toxicity  0.494319  0.844437  0.822392\n",
       "            stance detection         0.553824  0.786101  0.781703\n",
       "            topic classification     0.875762  0.937653  0.937047\n",
       "large_nli   event extraction         0.718805  0.850209  0.850508\n",
       "            hatespeech and toxicity  0.571824  0.861426  0.854152\n",
       "            stance detection         0.612922  0.811736  0.805470\n",
       "            topic classification     0.899292  0.949634  0.949257\n",
       "llama       event extraction         0.808244  0.905726  0.905480\n",
       "            hatespeech and toxicity  0.559060  0.782145  0.799067\n",
       "            stance detection         0.605609  0.798117  0.799651\n",
       "            topic classification     0.918734  0.959396  0.959505"
      ]
     },
     "execution_count": 15,
     "metadata": {},
     "output_type": "execute_result"
    }
   ],
   "source": [
    "metrics(test, preds = ['base_polnli', 'base_nli', 'large_nli', 'llama'], group_by = 'task')"
   ]
  }
 ],
 "metadata": {
  "kernelspec": {
   "display_name": "Python 3 (ipykernel)",
   "language": "python",
   "name": "python3"
  },
  "language_info": {
   "codemirror_mode": {
    "name": "ipython",
    "version": 3
   },
   "file_extension": ".py",
   "mimetype": "text/x-python",
   "name": "python",
   "nbconvert_exporter": "python",
   "pygments_lexer": "ipython3",
   "version": "3.11.9"
  }
 },
 "nbformat": 4,
 "nbformat_minor": 5
}
