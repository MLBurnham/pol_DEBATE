{
 "cells": [
  {
   "cell_type": "code",
   "execution_count": 1,
   "id": "58833a02-0bd6-4414-b130-225bd714d0cf",
   "metadata": {},
   "outputs": [
    {
     "name": "stderr",
     "output_type": "stream",
     "text": [
      "/home/mike/miniforge3/envs/modern/lib/python3.12/site-packages/tqdm/auto.py:21: TqdmWarning: IProgress not found. Please update jupyter and ipywidgets. See https://ipywidgets.readthedocs.io/en/stable/user_install.html\n",
      "  from .autonotebook import tqdm as notebook_tqdm\n"
     ]
    }
   ],
   "source": [
    "from transformers import AutoTokenizer, AutoModelForSequenceClassification, TrainingArguments, Trainer\n",
    "import torch\n",
    "import gc\n",
    "from datasets import load_dataset, DatasetDict, Dataset\n",
    "import numpy as np\n",
    "from sklearn.metrics import balanced_accuracy_score, precision_recall_fscore_support, accuracy_score, classification_report, matthews_corrcoef\n",
    "import pandas as pd\n",
    "import wandb\n",
    "import os"
   ]
  },
  {
   "cell_type": "code",
   "execution_count": 2,
   "id": "fe20b867-1dfc-4ccc-80de-2c5a9cb7f134",
   "metadata": {},
   "outputs": [],
   "source": [
    "os.environ[\"WANDB_PROJECT\"] = \"DEBATE-ModernBERT-Base\"\n",
    "\n",
    "modname = \"MoritzLaurer/ModernBERT-base-zeroshot-v2.0\"\n",
    "training_directory ='training_ModernBase'\n",
    "device = \"cuda\" if torch.cuda.is_available() else \"cpu\"\n",
    "print(f\"Device: {device}\")"
   ]
  },
  {
   "cell_type": "code",
   "execution_count": null,
   "id": "206e381b-16d3-4410-825d-90607c9cc245",
   "metadata": {},
   "outputs": [],
   "source": [
    "ds = load_dataset(\"mlburnham/Pol_NLI\")"
   ]
  },
  {
   "cell_type": "code",
   "execution_count": 4,
   "id": "1d837109-a30e-4925-8d45-06ddbefe8436",
   "metadata": {},
   "outputs": [
    {
     "name": "stdout",
     "output_type": "stream",
     "text": [
      "Device: cuda\n"
     ]
    },
    {
     "name": "stderr",
     "output_type": "stream",
     "text": [
      "You are attempting to use Flash Attention 2.0 without specifying a torch dtype. This might lead to unexpected behaviour\n",
      "You are attempting to use Flash Attention 2.0 with a model not initialized on GPU. Make sure to move the model to GPU after initializing it on CPU with `model.to('cuda')`.\n",
      "Flash Attention 2.0 only supports torch.float16 and torch.bfloat16 dtypes, but the current dype in ModernBertForSequenceClassification is torch.float32. You should run training or inference using Automatic Mixed-Precision via the `with torch.autocast(device_type='torch_device'):` decorator, or load the model with the `torch_dtype` argument. Example: `model = AutoModel.from_pretrained(\"openai/whisper-tiny\", attn_implementation=\"flash_attention_2\", torch_dtype=torch.float16)`\n"
     ]
    }
   ],
   "source": [
    "tokenizer = AutoTokenizer.from_pretrained(modname)\n",
    "id2label = {0: \"entailment\", 1: \"not_entailment\"}\n",
    "label2id = {\"entailment\":0, \"not_entailment\":1}\n",
    "\n",
    "def tokenize_function(docs):\n",
    "    return tokenizer(docs['premise'], docs['augmented_hypothesis'], padding = False, truncation = False)\n",
    "def model_init():\n",
    "  return AutoModelForSequenceClassification.from_pretrained(modname, \n",
    "                                                           num_labels=2,\n",
    "                                                           ignore_mismatched_sizes=True,\n",
    "                                                           label2id = label2id, \n",
    "                                                           id2label = id2label)\n",
    "\n",
    "dstok = ds.map(tokenize_function, batched = True)\n",
    "dstok = dstok.rename_columns({'entailment':'label'})\n",
    "\n",
    "training_args = TrainingArguments(output_dir=training_directory,\n",
    "    logging_dir=f'{training_directory}/logs',\n",
    "    lr_scheduler_type= \"linear\",\n",
    "    group_by_length=True,\n",
    "    learning_rate=2e-5,\n",
    "    per_device_train_batch_size=16,\n",
    "    per_device_eval_batch_size=8,\n",
    "    gradient_accumulation_steps=1,\n",
    "    num_train_epochs=10,\n",
    "    warmup_ratio=0.06, \n",
    "    weight_decay=0.01,\n",
    "    fp16=True,\n",
    "    fp16_full_eval=True,\n",
    "    eval_strategy=\"epoch\",\n",
    "    seed=1,\n",
    "    save_strategy=\"epoch\",\n",
    "    dataloader_num_workers = 1\n",
    ")\n",
    "\n",
    "def compute_metrics_standard(eval_pred, label_text_alphabetical=list(id2label.values())):\n",
    "    labels = eval_pred.label_ids\n",
    "    pred_logits = eval_pred.predictions\n",
    "    preds_max = np.argmax(pred_logits, axis=1)\n",
    "\n",
    "    precision_macro, recall_macro, f1_macro, _ = precision_recall_fscore_support(labels, preds_max, average='macro')\n",
    "    precision_micro, recall_micro, f1_micro, _ = precision_recall_fscore_support(labels, preds_max, average='micro')\n",
    "    acc_balanced = balanced_accuracy_score(labels, preds_max)\n",
    "    acc_not_balanced = accuracy_score(labels, preds_max)\n",
    "    mcc = matthews_corrcoef(labels, preds_max)\n",
    "\n",
    "    metrics = {'MCC': mcc,\n",
    "            'f1_macro': f1_macro,\n",
    "            'f1_micro': f1_micro,\n",
    "            'accuracy_balanced': acc_balanced,\n",
    "            'accuracy': acc_not_balanced,\n",
    "            'precision_macro': precision_macro,\n",
    "            'recall_macro': recall_macro,\n",
    "            'precision_micro': precision_micro,\n",
    "            'recall_micro': recall_micro,\n",
    "            }\n",
    "    print(\"Aggregate metrics: \", {key: metrics[key] for key in metrics if key not in [\"label_gold_raw\", \"label_predicted_raw\"]} ) \n",
    "    print(\"Detailed metrics: \", classification_report(\n",
    "        labels, preds_max, labels=np.sort(pd.factorize(label_text_alphabetical, sort=True)[0]),\n",
    "        target_names=label_text_alphabetical, sample_weight=None,\n",
    "        digits=2, output_dict=True, zero_division='warn'),\n",
    "    \"\\n\")\n",
    "\n",
    "    return metrics\n",
    "\n",
    "trainer = Trainer(\n",
    "    model_init=model_init,\n",
    "    processing_class=tokenizer,\n",
    "    args=training_args,\n",
    "    train_dataset=dstok['train'],\n",
    "    eval_dataset=dstok['validation'],\n",
    "    compute_metrics=lambda x: compute_metrics_standard(x, label_text_alphabetical=list(id2label.values()))\n",
    ")"
   ]
  },
  {
   "cell_type": "code",
   "execution_count": 5,
   "id": "3332558c-0835-4484-b873-6e556a944f37",
   "metadata": {
    "collapsed": true,
    "jupyter": {
     "outputs_hidden": true
    },
    "scrolled": true
   },
   "outputs": [
    {
     "name": "stderr",
     "output_type": "stream",
     "text": [
      "\u001b[34m\u001b[1mwandb\u001b[0m: \u001b[33mWARNING\u001b[0m The `run_name` is currently set to the same value as `TrainingArguments.output_dir`. If this was not intended, please specify a different run name by setting the `TrainingArguments.run_name` parameter.\n"
     ]
    },
    {
     "data": {
      "text/html": [
       "Tracking run with wandb version 0.19.1"
      ],
      "text/plain": [
       "<IPython.core.display.HTML object>"
      ]
     },
     "metadata": {},
     "output_type": "display_data"
    },
    {
     "data": {
      "text/html": [
       "Run data is saved locally in <code>/home/mike/modernbert/wandb/run-20250107_202805-3ozy2bc7</code>"
      ],
      "text/plain": [
       "<IPython.core.display.HTML object>"
      ]
     },
     "metadata": {},
     "output_type": "display_data"
    },
    {
     "data": {
      "text/html": [
       "Syncing run <strong><a href='https://wandb.ai/mlburnham/DEBATE-ModernBase/runs/3ozy2bc7' target=\"_blank\">training_ModernBase</a></strong> to <a href='https://wandb.ai/mlburnham/DEBATE-ModernBase' target=\"_blank\">Weights & Biases</a> (<a href='https://wandb.me/developer-guide' target=\"_blank\">docs</a>)<br>"
      ],
      "text/plain": [
       "<IPython.core.display.HTML object>"
      ]
     },
     "metadata": {},
     "output_type": "display_data"
    },
    {
     "data": {
      "text/html": [
       " View project at <a href='https://wandb.ai/mlburnham/DEBATE-ModernBase' target=\"_blank\">https://wandb.ai/mlburnham/DEBATE-ModernBase</a>"
      ],
      "text/plain": [
       "<IPython.core.display.HTML object>"
      ]
     },
     "metadata": {},
     "output_type": "display_data"
    },
    {
     "data": {
      "text/html": [
       " View run at <a href='https://wandb.ai/mlburnham/DEBATE-ModernBase/runs/3ozy2bc7' target=\"_blank\">https://wandb.ai/mlburnham/DEBATE-ModernBase/runs/3ozy2bc7</a>"
      ],
      "text/plain": [
       "<IPython.core.display.HTML object>"
      ]
     },
     "metadata": {},
     "output_type": "display_data"
    },
    {
     "data": {
      "text/html": [
       "\n",
       "    <div>\n",
       "      \n",
       "      <progress value='107060' max='107060' style='width:300px; height:20px; vertical-align: middle;'></progress>\n",
       "      [107060/107060 1:47:24, Epoch 10/10]\n",
       "    </div>\n",
       "    <table border=\"1\" class=\"dataframe\">\n",
       "  <thead>\n",
       " <tr style=\"text-align: left;\">\n",
       "      <th>Epoch</th>\n",
       "      <th>Training Loss</th>\n",
       "      <th>Validation Loss</th>\n",
       "      <th>Mcc</th>\n",
       "      <th>F1 Macro</th>\n",
       "      <th>F1 Micro</th>\n",
       "      <th>Accuracy Balanced</th>\n",
       "      <th>Accuracy</th>\n",
       "      <th>Precision Macro</th>\n",
       "      <th>Recall Macro</th>\n",
       "      <th>Precision Micro</th>\n",
       "      <th>Recall Micro</th>\n",
       "    </tr>\n",
       "  </thead>\n",
       "  <tbody>\n",
       "    <tr>\n",
       "      <td>1</td>\n",
       "      <td>0.181800</td>\n",
       "      <td>0.216367</td>\n",
       "      <td>0.857730</td>\n",
       "      <td>0.928861</td>\n",
       "      <td>0.930567</td>\n",
       "      <td>0.929137</td>\n",
       "      <td>0.930567</td>\n",
       "      <td>0.928594</td>\n",
       "      <td>0.929137</td>\n",
       "      <td>0.930567</td>\n",
       "      <td>0.930567</td>\n",
       "    </tr>\n",
       "    <tr>\n",
       "      <td>2</td>\n",
       "      <td>0.102800</td>\n",
       "      <td>0.243936</td>\n",
       "      <td>0.876359</td>\n",
       "      <td>0.938165</td>\n",
       "      <td>0.939612</td>\n",
       "      <td>0.938709</td>\n",
       "      <td>0.939612</td>\n",
       "      <td>0.937650</td>\n",
       "      <td>0.938709</td>\n",
       "      <td>0.939612</td>\n",
       "      <td>0.939612</td>\n",
       "    </tr>\n",
       "    <tr>\n",
       "      <td>3</td>\n",
       "      <td>0.051000</td>\n",
       "      <td>0.291324</td>\n",
       "      <td>0.883721</td>\n",
       "      <td>0.941852</td>\n",
       "      <td>0.943336</td>\n",
       "      <td>0.941437</td>\n",
       "      <td>0.943336</td>\n",
       "      <td>0.942285</td>\n",
       "      <td>0.941437</td>\n",
       "      <td>0.943336</td>\n",
       "      <td>0.943336</td>\n",
       "    </tr>\n",
       "    <tr>\n",
       "      <td>4</td>\n",
       "      <td>0.021900</td>\n",
       "      <td>0.336943</td>\n",
       "      <td>0.888035</td>\n",
       "      <td>0.944017</td>\n",
       "      <td>0.945398</td>\n",
       "      <td>0.943989</td>\n",
       "      <td>0.945398</td>\n",
       "      <td>0.944046</td>\n",
       "      <td>0.943989</td>\n",
       "      <td>0.945398</td>\n",
       "      <td>0.945398</td>\n",
       "    </tr>\n",
       "    <tr>\n",
       "      <td>5</td>\n",
       "      <td>0.014100</td>\n",
       "      <td>0.443264</td>\n",
       "      <td>0.884211</td>\n",
       "      <td>0.942106</td>\n",
       "      <td>0.943536</td>\n",
       "      <td>0.942058</td>\n",
       "      <td>0.943536</td>\n",
       "      <td>0.942153</td>\n",
       "      <td>0.942058</td>\n",
       "      <td>0.943536</td>\n",
       "      <td>0.943536</td>\n",
       "    </tr>\n",
       "    <tr>\n",
       "      <td>6</td>\n",
       "      <td>0.011800</td>\n",
       "      <td>0.373732</td>\n",
       "      <td>0.889789</td>\n",
       "      <td>0.944834</td>\n",
       "      <td>0.946329</td>\n",
       "      <td>0.943724</td>\n",
       "      <td>0.946329</td>\n",
       "      <td>0.946067</td>\n",
       "      <td>0.943724</td>\n",
       "      <td>0.946329</td>\n",
       "      <td>0.946329</td>\n",
       "    </tr>\n",
       "    <tr>\n",
       "      <td>7</td>\n",
       "      <td>0.007700</td>\n",
       "      <td>0.474585</td>\n",
       "      <td>0.888586</td>\n",
       "      <td>0.944265</td>\n",
       "      <td>0.945730</td>\n",
       "      <td>0.943506</td>\n",
       "      <td>0.945730</td>\n",
       "      <td>0.945081</td>\n",
       "      <td>0.943506</td>\n",
       "      <td>0.945730</td>\n",
       "      <td>0.945730</td>\n",
       "    </tr>\n",
       "    <tr>\n",
       "      <td>8</td>\n",
       "      <td>0.001700</td>\n",
       "      <td>0.508356</td>\n",
       "      <td>0.891517</td>\n",
       "      <td>0.945756</td>\n",
       "      <td>0.947060</td>\n",
       "      <td>0.946004</td>\n",
       "      <td>0.947060</td>\n",
       "      <td>0.945514</td>\n",
       "      <td>0.946004</td>\n",
       "      <td>0.947060</td>\n",
       "      <td>0.947060</td>\n",
       "    </tr>\n",
       "    <tr>\n",
       "      <td>9</td>\n",
       "      <td>0.001300</td>\n",
       "      <td>0.562439</td>\n",
       "      <td>0.890866</td>\n",
       "      <td>0.945377</td>\n",
       "      <td>0.946595</td>\n",
       "      <td>0.946457</td>\n",
       "      <td>0.946595</td>\n",
       "      <td>0.944412</td>\n",
       "      <td>0.946457</td>\n",
       "      <td>0.946595</td>\n",
       "      <td>0.946595</td>\n",
       "    </tr>\n",
       "    <tr>\n",
       "      <td>10</td>\n",
       "      <td>0.000000</td>\n",
       "      <td>0.587830</td>\n",
       "      <td>0.894854</td>\n",
       "      <td>0.947427</td>\n",
       "      <td>0.948723</td>\n",
       "      <td>0.947398</td>\n",
       "      <td>0.948723</td>\n",
       "      <td>0.947456</td>\n",
       "      <td>0.947398</td>\n",
       "      <td>0.948723</td>\n",
       "      <td>0.948723</td>\n",
       "    </tr>\n",
       "  </tbody>\n",
       "</table><p>"
      ],
      "text/plain": [
       "<IPython.core.display.HTML object>"
      ]
     },
     "metadata": {},
     "output_type": "display_data"
    },
    {
     "name": "stderr",
     "output_type": "stream",
     "text": [
      "Trainer.tokenizer is now deprecated. You should use Trainer.processing_class instead.\n",
      "Trainer.tokenizer is now deprecated. You should use Trainer.processing_class instead.\n"
     ]
    },
    {
     "name": "stdout",
     "output_type": "stream",
     "text": [
      "Aggregate metrics:  {'MCC': np.float64(0.8577303790562917), 'f1_macro': 0.9288613150975644, 'f1_micro': 0.9305666400638468, 'accuracy_balanced': np.float64(0.9291367504861167), 'accuracy': 0.9305666400638468, 'precision_macro': 0.9285938004159882, 'recall_macro': 0.9291367504861167, 'precision_micro': 0.9305666400638468, 'recall_micro': 0.9305666400638468}\n",
      "Detailed metrics:  {'entailment': {'precision': 0.9156853509185116, 'recall': 0.9200189304306673, 'f1-score': 0.9178470254957507, 'support': 6339.0}, 'not_entailment': {'precision': 0.9415022499134649, 'recall': 0.938254570541566, 'f1-score': 0.939875604699378, 'support': 8697.0}, 'accuracy': 0.9305666400638468, 'macro avg': {'precision': 0.9285938004159882, 'recall': 0.9291367504861167, 'f1-score': 0.9288613150975644, 'support': 15036.0}, 'weighted avg': {'precision': 0.9306181502374202, 'recall': 0.9305666400638468, 'f1-score': 0.9305886159010412, 'support': 15036.0}} \n",
      "\n"
     ]
    },
    {
     "name": "stderr",
     "output_type": "stream",
     "text": [
      "/tmp/ipykernel_24040/497967894.py:92: FutureWarning: factorize with argument that is not not a Series, Index, ExtensionArray, or np.ndarray is deprecated and will raise in a future version.\n",
      "  labels, preds_max, labels=np.sort(pd.factorize(label_text_alphabetical, sort=True)[0]),\n",
      "Trainer.tokenizer is now deprecated. You should use Trainer.processing_class instead.\n",
      "Trainer.tokenizer is now deprecated. You should use Trainer.processing_class instead.\n"
     ]
    },
    {
     "name": "stdout",
     "output_type": "stream",
     "text": [
      "Aggregate metrics:  {'MCC': np.float64(0.8763587009343081), 'f1_macro': 0.9381647363490271, 'f1_micro': 0.9396115988294759, 'accuracy_balanced': np.float64(0.9387091664303628), 'accuracy': 0.9396115988294759, 'precision_macro': 0.9376501743468671, 'recall_macro': 0.9387091664303628, 'precision_micro': 0.9396115988294759, 'recall_micro': 0.9396115988294759}\n",
      "Detailed metrics:  {'entailment': {'precision': 0.9244958574331718, 'recall': 0.9329547247199874, 'f1-score': 0.9287060301507538, 'support': 6339.0}, 'not_entailment': {'precision': 0.9508044912605625, 'recall': 0.9444636081407382, 'f1-score': 0.9476234425473005, 'support': 8697.0}, 'accuracy': 0.9396115988294759, 'macro avg': {'precision': 0.9376501743468671, 'recall': 0.9387091664303628, 'f1-score': 0.9381647363490271, 'support': 15036.0}, 'weighted avg': {'precision': 0.9397130819873628, 'recall': 0.9396115988294759, 'f1-score': 0.9396480849268088, 'support': 15036.0}} \n",
      "\n"
     ]
    },
    {
     "name": "stderr",
     "output_type": "stream",
     "text": [
      "/tmp/ipykernel_24040/497967894.py:92: FutureWarning: factorize with argument that is not not a Series, Index, ExtensionArray, or np.ndarray is deprecated and will raise in a future version.\n",
      "  labels, preds_max, labels=np.sort(pd.factorize(label_text_alphabetical, sort=True)[0]),\n",
      "Trainer.tokenizer is now deprecated. You should use Trainer.processing_class instead.\n",
      "Trainer.tokenizer is now deprecated. You should use Trainer.processing_class instead.\n"
     ]
    },
    {
     "name": "stdout",
     "output_type": "stream",
     "text": [
      "Aggregate metrics:  {'MCC': np.float64(0.8837210713960965), 'f1_macro': 0.9418520556775534, 'f1_micro': 0.9433359936153233, 'accuracy_balanced': np.float64(0.9414367961796968), 'accuracy': 0.9433359936153233, 'precision_macro': 0.9422846819681272, 'recall_macro': 0.9414367961796968, 'precision_micro': 0.9433359936153233, 'recall_micro': 0.9433359936153233}\n",
      "Detailed metrics:  {'entailment': {'precision': 0.9358220810166799, 'recall': 0.929326392175422, 'f1-score': 0.9325629254392908, 'support': 6339.0}, 'not_entailment': {'precision': 0.9487472829195744, 'recall': 0.9535472001839714, 'f1-score': 0.951141185915816, 'support': 8697.0}, 'accuracy': 0.9433359936153233, 'macro avg': {'precision': 0.9422846819681272, 'recall': 0.9414367961796968, 'f1-score': 0.9418520556775534, 'support': 15036.0}, 'weighted avg': {'precision': 0.9432981704653014, 'recall': 0.9433359936153233, 'f1-score': 0.9433088107388611, 'support': 15036.0}} \n",
      "\n"
     ]
    },
    {
     "name": "stderr",
     "output_type": "stream",
     "text": [
      "/tmp/ipykernel_24040/497967894.py:92: FutureWarning: factorize with argument that is not not a Series, Index, ExtensionArray, or np.ndarray is deprecated and will raise in a future version.\n",
      "  labels, preds_max, labels=np.sort(pd.factorize(label_text_alphabetical, sort=True)[0]),\n",
      "Trainer.tokenizer is now deprecated. You should use Trainer.processing_class instead.\n",
      "Trainer.tokenizer is now deprecated. You should use Trainer.processing_class instead.\n"
     ]
    },
    {
     "name": "stdout",
     "output_type": "stream",
     "text": [
      "Aggregate metrics:  {'MCC': np.float64(0.8880348587449364), 'f1_macro': 0.944017389926101, 'f1_micro': 0.9453977121574887, 'accuracy_balanced': np.float64(0.9439889053353853), 'accuracy': 0.9453977121574887, 'precision_macro': 0.9440459552420759, 'recall_macro': 0.9439889053353853, 'precision_micro': 0.9453977121574887, 'recall_micro': 0.9453977121574887}\n",
      "Detailed metrics:  {'entailment': {'precision': 0.9354482323232324, 'recall': 0.9350055213756113, 'f1-score': 0.9352268244575936, 'support': 6339.0}, 'not_entailment': {'precision': 0.9526436781609195, 'recall': 0.9529722892951592, 'f1-score': 0.9528079553946083, 'support': 8697.0}, 'accuracy': 0.9453977121574887, 'macro avg': {'precision': 0.9440459552420759, 'recall': 0.9439889053353853, 'f1-score': 0.944017389926101, 'support': 15036.0}, 'weighted avg': {'precision': 0.9453942813023735, 'recall': 0.9453977121574887, 'f1-score': 0.9453959582537639, 'support': 15036.0}} \n",
      "\n"
     ]
    },
    {
     "name": "stderr",
     "output_type": "stream",
     "text": [
      "/tmp/ipykernel_24040/497967894.py:92: FutureWarning: factorize with argument that is not not a Series, Index, ExtensionArray, or np.ndarray is deprecated and will raise in a future version.\n",
      "  labels, preds_max, labels=np.sort(pd.factorize(label_text_alphabetical, sort=True)[0]),\n",
      "Trainer.tokenizer is now deprecated. You should use Trainer.processing_class instead.\n",
      "Trainer.tokenizer is now deprecated. You should use Trainer.processing_class instead.\n"
     ]
    },
    {
     "name": "stdout",
     "output_type": "stream",
     "text": [
      "Aggregate metrics:  {'MCC': np.float64(0.8842114915186957), 'f1_macro': 0.9421056364047113, 'f1_micro': 0.9435355147645651, 'accuracy_balanced': np.float64(0.9420583692632233), 'accuracy': 0.9435355147645651, 'precision_macro': 0.9421531273329296, 'recall_macro': 0.9420583692632233, 'precision_micro': 0.9435355147645651, 'recall_micro': 0.9435355147645651}\n",
      "Detailed metrics:  {'entailment': {'precision': 0.9333754341648247, 'recall': 0.9326392175421991, 'f1-score': 0.9330071806202163, 'support': 6339.0}, 'not_entailment': {'precision': 0.9509308205010343, 'recall': 0.9514775209842474, 'f1-score': 0.9512040921892063, 'support': 8697.0}, 'accuracy': 0.9435355147645651, 'macro avg': {'precision': 0.9421531273329296, 'recall': 0.9420583692632233, 'f1-score': 0.9421056364047113, 'support': 15036.0}, 'weighted avg': {'precision': 0.9435296769798032, 'recall': 0.9435355147645651, 'f1-score': 0.9435324892073077, 'support': 15036.0}} \n",
      "\n"
     ]
    },
    {
     "name": "stderr",
     "output_type": "stream",
     "text": [
      "/tmp/ipykernel_24040/497967894.py:92: FutureWarning: factorize with argument that is not not a Series, Index, ExtensionArray, or np.ndarray is deprecated and will raise in a future version.\n",
      "  labels, preds_max, labels=np.sort(pd.factorize(label_text_alphabetical, sort=True)[0]),\n",
      "Trainer.tokenizer is now deprecated. You should use Trainer.processing_class instead.\n",
      "Trainer.tokenizer is now deprecated. You should use Trainer.processing_class instead.\n"
     ]
    },
    {
     "name": "stdout",
     "output_type": "stream",
     "text": [
      "Aggregate metrics:  {'MCC': np.float64(0.8897889011097754), 'f1_macro': 0.9448341025042268, 'f1_micro': 0.9463288108539505, 'accuracy_balanced': np.float64(0.9437244953014299), 'accuracy': 0.9463288108539505, 'precision_macro': 0.9460674905947604, 'recall_macro': 0.9437244953014299, 'precision_micro': 0.9463288108539505, 'recall_micro': 0.9463288108539505}\n",
      "Detailed metrics:  {'entailment': {'precision': 0.9445515911282546, 'recall': 0.927117841930904, 'f1-score': 0.9357535228086936, 'support': 6339.0}, 'not_entailment': {'precision': 0.9475833900612661, 'recall': 0.9603311486719558, 'f1-score': 0.9539146821997602, 'support': 8697.0}, 'accuracy': 0.9463288108539505, 'macro avg': {'precision': 0.9460674905947604, 'recall': 0.9437244953014299, 'f1-score': 0.9448341025042268, 'support': 15036.0}, 'weighted avg': {'precision': 0.9463052194416625, 'recall': 0.9463288108539505, 'f1-score': 0.9462581519137817, 'support': 15036.0}} \n",
      "\n"
     ]
    },
    {
     "name": "stderr",
     "output_type": "stream",
     "text": [
      "/tmp/ipykernel_24040/497967894.py:92: FutureWarning: factorize with argument that is not not a Series, Index, ExtensionArray, or np.ndarray is deprecated and will raise in a future version.\n",
      "  labels, preds_max, labels=np.sort(pd.factorize(label_text_alphabetical, sort=True)[0]),\n",
      "Trainer.tokenizer is now deprecated. You should use Trainer.processing_class instead.\n",
      "Trainer.tokenizer is now deprecated. You should use Trainer.processing_class instead.\n"
     ]
    },
    {
     "name": "stdout",
     "output_type": "stream",
     "text": [
      "Aggregate metrics:  {'MCC': np.float64(0.8885861641701017), 'f1_macro': 0.9442649313484377, 'f1_micro': 0.945730247406225, 'accuracy_balanced': np.float64(0.9435064753794208), 'accuracy': 0.945730247406225, 'precision_macro': 0.9450810839227561, 'recall_macro': 0.9435064753794208, 'precision_micro': 0.945730247406225, 'recall_micro': 0.945730247406225}\n",
      "Detailed metrics:  {'entailment': {'precision': 0.941204665281994, 'recall': 0.929326392175422, 'f1-score': 0.9352278139387205, 'support': 6339.0}, 'not_entailment': {'precision': 0.9489575025635183, 'recall': 0.9576865585834196, 'f1-score': 0.9533020487581549, 'support': 8697.0}, 'accuracy': 0.945730247406225, 'macro avg': {'precision': 0.9450810839227561, 'recall': 0.9435064753794208, 'f1-score': 0.9442649313484377, 'support': 15036.0}, 'weighted avg': {'precision': 0.9456889979394439, 'recall': 0.945730247406225, 'f1-score': 0.9456821648448538, 'support': 15036.0}} \n",
      "\n"
     ]
    },
    {
     "name": "stderr",
     "output_type": "stream",
     "text": [
      "/tmp/ipykernel_24040/497967894.py:92: FutureWarning: factorize with argument that is not not a Series, Index, ExtensionArray, or np.ndarray is deprecated and will raise in a future version.\n",
      "  labels, preds_max, labels=np.sort(pd.factorize(label_text_alphabetical, sort=True)[0]),\n",
      "Trainer.tokenizer is now deprecated. You should use Trainer.processing_class instead.\n",
      "Trainer.tokenizer is now deprecated. You should use Trainer.processing_class instead.\n"
     ]
    },
    {
     "name": "stdout",
     "output_type": "stream",
     "text": [
      "Aggregate metrics:  {'MCC': np.float64(0.8915170849942896), 'f1_macro': 0.9457555775873172, 'f1_micro': 0.9470603884011706, 'accuracy_balanced': np.float64(0.9460035966076938), 'accuracy': 0.9470603884011706, 'precision_macro': 0.9455136230301673, 'recall_macro': 0.9460035966076938, 'precision_micro': 0.9470603884011706, 'recall_micro': 0.9470603884011706}\n",
      "Detailed metrics:  {'entailment': {'precision': 0.9354281225451689, 'recall': 0.9392648682757533, 'f1-score': 0.9373425692695214, 'support': 6339.0}, 'not_entailment': {'precision': 0.9555991235151655, 'recall': 0.9527423249396344, 'f1-score': 0.9541685859051129, 'support': 8697.0}, 'accuracy': 0.9470603884011706, 'macro avg': {'precision': 0.9455136230301673, 'recall': 0.9460035966076938, 'f1-score': 0.9457555775873172, 'support': 15036.0}, 'weighted avg': {'precision': 0.9470952677590596, 'recall': 0.9470603884011706, 'f1-score': 0.9470749360346011, 'support': 15036.0}} \n",
      "\n"
     ]
    },
    {
     "name": "stderr",
     "output_type": "stream",
     "text": [
      "/tmp/ipykernel_24040/497967894.py:92: FutureWarning: factorize with argument that is not not a Series, Index, ExtensionArray, or np.ndarray is deprecated and will raise in a future version.\n",
      "  labels, preds_max, labels=np.sort(pd.factorize(label_text_alphabetical, sort=True)[0]),\n",
      "Trainer.tokenizer is now deprecated. You should use Trainer.processing_class instead.\n",
      "Trainer.tokenizer is now deprecated. You should use Trainer.processing_class instead.\n"
     ]
    },
    {
     "name": "stdout",
     "output_type": "stream",
     "text": [
      "Aggregate metrics:  {'MCC': np.float64(0.8908658430899224), 'f1_macro': 0.9453771327617819, 'f1_micro': 0.9465948390529396, 'accuracy_balanced': np.float64(0.9464565872081592), 'accuracy': 0.9465948390529396, 'precision_macro': 0.9444116030111819, 'recall_macro': 0.9464565872081592, 'precision_micro': 0.9465948390529396, 'recall_micro': 0.9465948390529396}\n",
      "Detailed metrics:  {'entailment': {'precision': 0.9290142591444513, 'recall': 0.9455750118315192, 'f1-score': 0.9372214838558361, 'support': 6339.0}, 'not_entailment': {'precision': 0.9598089468779124, 'recall': 0.9473381625847993, 'f1-score': 0.9535327816677276, 'support': 8697.0}, 'accuracy': 0.9465948390529396, 'macro avg': {'precision': 0.9444116030111819, 'recall': 0.9464565872081592, 'f1-score': 0.9453771327617819, 'support': 15036.0}, 'weighted avg': {'precision': 0.9468262702656213, 'recall': 0.9465948390529396, 'f1-score': 0.9466561311736081, 'support': 15036.0}} \n",
      "\n"
     ]
    },
    {
     "name": "stderr",
     "output_type": "stream",
     "text": [
      "/tmp/ipykernel_24040/497967894.py:92: FutureWarning: factorize with argument that is not not a Series, Index, ExtensionArray, or np.ndarray is deprecated and will raise in a future version.\n",
      "  labels, preds_max, labels=np.sort(pd.factorize(label_text_alphabetical, sort=True)[0]),\n",
      "Trainer.tokenizer is now deprecated. You should use Trainer.processing_class instead.\n",
      "Trainer.tokenizer is now deprecated. You should use Trainer.processing_class instead.\n"
     ]
    },
    {
     "name": "stdout",
     "output_type": "stream",
     "text": [
      "Aggregate metrics:  {'MCC': np.float64(0.8948536909586216), 'f1_macro': 0.9474268058867525, 'f1_micro': 0.9487230646448523, 'accuracy_balanced': np.float64(0.9473981024185927), 'accuracy': 0.9487230646448523, 'precision_macro': 0.9474555903866249, 'recall_macro': 0.9473981024185927, 'precision_micro': 0.9487230646448523, 'recall_micro': 0.9487230646448523}\n",
      "Detailed metrics:  {'entailment': {'precision': 0.9393939393939394, 'recall': 0.938949361097965, 'f1-score': 0.9391715976331361, 'support': 6339.0}, 'not_entailment': {'precision': 0.9555172413793104, 'recall': 0.9558468437392205, 'f1-score': 0.955682014140369, 'support': 8697.0}, 'accuracy': 0.9487230646448523, 'macro avg': {'precision': 0.9474555903866249, 'recall': 0.9473981024185927, 'f1-score': 0.9474268058867525, 'support': 15036.0}, 'weighted avg': {'precision': 0.9487198477051108, 'recall': 0.9487230646448523, 'f1-score': 0.9487214175562143, 'support': 15036.0}} \n",
      "\n"
     ]
    },
    {
     "name": "stderr",
     "output_type": "stream",
     "text": [
      "/tmp/ipykernel_24040/497967894.py:92: FutureWarning: factorize with argument that is not not a Series, Index, ExtensionArray, or np.ndarray is deprecated and will raise in a future version.\n",
      "  labels, preds_max, labels=np.sort(pd.factorize(label_text_alphabetical, sort=True)[0]),\n"
     ]
    },
    {
     "data": {
      "text/plain": [
       "TrainOutput(global_step=107060, training_loss=0.045580504342477825, metrics={'train_runtime': 6446.2592, 'train_samples_per_second': 265.718, 'train_steps_per_second': 16.608, 'total_flos': 1.1278615761765728e+17, 'train_loss': 0.045580504342477825, 'epoch': 10.0})"
      ]
     },
     "execution_count": 5,
     "metadata": {},
     "output_type": "execute_result"
    }
   ],
   "source": [
    "trainer.train()"
   ]
  }
 ],
 "metadata": {
  "kernelspec": {
   "display_name": "Python 3 (ipykernel)",
   "language": "python",
   "name": "python3"
  },
  "language_info": {
   "codemirror_mode": {
    "name": "ipython",
    "version": 3
   },
   "file_extension": ".py",
   "mimetype": "text/x-python",
   "name": "python",
   "nbconvert_exporter": "python",
   "pygments_lexer": "ipython3",
   "version": "3.12.6"
  }
 },
 "nbformat": 4,
 "nbformat_minor": 5
}
