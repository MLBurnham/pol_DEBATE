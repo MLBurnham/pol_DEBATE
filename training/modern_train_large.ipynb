{
 "cells": [
  {
   "cell_type": "code",
   "execution_count": 1,
   "id": "58833a02-0bd6-4414-b130-225bd714d0cf",
   "metadata": {},
   "outputs": [
    {
     "name": "stderr",
     "output_type": "stream",
     "text": [
      "/home/mike/miniforge3/envs/modern/lib/python3.12/site-packages/tqdm/auto.py:21: TqdmWarning: IProgress not found. Please update jupyter and ipywidgets. See https://ipywidgets.readthedocs.io/en/stable/user_install.html\n",
      "  from .autonotebook import tqdm as notebook_tqdm\n"
     ]
    }
   ],
   "source": [
    "from transformers import AutoTokenizer, AutoModelForSequenceClassification, TrainingArguments, Trainer\n",
    "import torch\n",
    "import gc\n",
    "from datasets import load_dataset, DatasetDict, Dataset\n",
    "import numpy as np\n",
    "from sklearn.metrics import balanced_accuracy_score, precision_recall_fscore_support, accuracy_score, classification_report, matthews_corrcoef\n",
    "import pandas as pd\n",
    "import wandb\n",
    "import os"
   ]
  },
  {
   "cell_type": "code",
   "execution_count": null,
   "id": "e54bd30f-0824-4630-b442-fff0951abbab",
   "metadata": {},
   "outputs": [],
   "source": [
    "os.environ[\"WANDB_PROJECT\"] = \"DEBATE-ModernBERT-Large\"\n",
    "\n",
    "modname = \"MoritzLaurer/ModernBERT-large-zeroshot-v2.0\"\n",
    "training_directory ='training_ModernLarge'\n",
    "device = \"cuda\" if torch.cuda.is_available() else \"cpu\"\n",
    "print(f\"Device: {device}\")"
   ]
  },
  {
   "cell_type": "code",
   "execution_count": 4,
   "id": "fb2be10a-fcef-4a9c-96c1-0a4c70595897",
   "metadata": {},
   "outputs": [],
   "source": [
    "ds = load_dataset(\"mlburnham/Pol_NLI\")"
   ]
  },
  {
   "cell_type": "code",
   "execution_count": null,
   "id": "f9431fac-ff76-4a52-b058-62463737c123",
   "metadata": {},
   "outputs": [],
   "source": [
    "tokenizer = AutoTokenizer.from_pretrained(modname)\n",
    "id2label = {0: \"entailment\", 1: \"not_entailment\"}\n",
    "label2id = {\"entailment\":0, \"not_entailment\":1}\n",
    "\n",
    "def tokenize_function(docs):\n",
    "    return tokenizer(docs['premise'], docs['augmented_hypothesis'], padding = False, truncation = False)\n",
    "def model_init():\n",
    "  return AutoModelForSequenceClassification.from_pretrained(modname, \n",
    "                                                           num_labels=2,\n",
    "                                                           ignore_mismatched_sizes=True,\n",
    "                                                           label2id = label2id, \n",
    "                                                           id2label = id2label)\n",
    "\n",
    "dstok = ds.map(tokenize_function, batched = True)\n",
    "dstok = dstok.rename_columns({'entailment':'label'})\n",
    "\n",
    "training_args = TrainingArguments(output_dir=training_directory,\n",
    "    logging_dir=f'{training_directory}/logs',\n",
    "    lr_scheduler_type= \"linear\",\n",
    "    group_by_length=True,\n",
    "    learning_rate=9e-6 if \"large\" in modname else 2e-5,\n",
    "    per_device_train_batch_size=4 if \"large\" in modname else 16,\n",
    "    per_device_eval_batch_size=8,\n",
    "    gradient_accumulation_steps=4 if \"large\" in modname else 1,\n",
    "    num_train_epochs=10,\n",
    "    warmup_ratio=0.06,\n",
    "    weight_decay=0.01,\n",
    "    fp16=True,\n",
    "    fp16_full_eval=True,\n",
    "    eval_strategy=\"epoch\",\n",
    "    seed=1,\n",
    "    save_strategy=\"epoch\",\n",
    "    dataloader_num_workers = 1\n",
    ")\n",
    "\n",
    "def compute_metrics_standard(eval_pred, label_text_alphabetical=list(id2label.values())):\n",
    "    labels = eval_pred.label_ids\n",
    "    pred_logits = eval_pred.predictions\n",
    "    preds_max = np.argmax(pred_logits, axis=1)\n",
    "\n",
    "    precision_macro, recall_macro, f1_macro, _ = precision_recall_fscore_support(labels, preds_max, average='macro')\n",
    "    precision_micro, recall_micro, f1_micro, _ = precision_recall_fscore_support(labels, preds_max, average='micro')\n",
    "    acc_balanced = balanced_accuracy_score(labels, preds_max)\n",
    "    acc_not_balanced = accuracy_score(labels, preds_max)\n",
    "    mcc = matthews_corrcoef(labels, preds_max)\n",
    "\n",
    "    metrics = {'MCC': mcc,\n",
    "            'f1_macro': f1_macro,\n",
    "            'f1_micro': f1_micro,\n",
    "            'accuracy_balanced': acc_balanced,\n",
    "            'accuracy': acc_not_balanced,\n",
    "            'precision_macro': precision_macro,\n",
    "            'recall_macro': recall_macro,\n",
    "            'precision_micro': precision_micro,\n",
    "            'recall_micro': recall_micro,\n",
    "            }\n",
    "    print(\"Aggregate metrics: \", {key: metrics[key] for key in metrics if key not in [\"label_gold_raw\", \"label_predicted_raw\"]} ) \n",
    "    print(\"Detailed metrics: \", classification_report(\n",
    "        labels, preds_max, labels=np.sort(pd.factorize(label_text_alphabetical, sort=True)[0]),\n",
    "        target_names=label_text_alphabetical, sample_weight=None,\n",
    "        digits=2, output_dict=True, zero_division='warn'),\n",
    "    \"\\n\")\n",
    "\n",
    "    return metrics\n",
    "\n",
    "trainer = Trainer(\n",
    "    model_init=model_init,\n",
    "    processing_class=tokenizer,\n",
    "    args=training_args,\n",
    "    train_dataset=dstok['train'],\n",
    "    eval_dataset=dstok['validation'],\n",
    "    compute_metrics=lambda x: compute_metrics_standard(x, label_text_alphabetical=list(id2label.values()))\n",
    ")"
   ]
  },
  {
   "cell_type": "code",
   "execution_count": 10,
   "id": "bda0bb6c-ae43-459b-9f5f-0cd08ec6412b",
   "metadata": {
    "scrolled": true
   },
   "outputs": [
    {
     "name": "stderr",
     "output_type": "stream",
     "text": [
      "\u001b[34m\u001b[1mwandb\u001b[0m: \u001b[33mWARNING\u001b[0m The `run_name` is currently set to the same value as `TrainingArguments.output_dir`. If this was not intended, please specify a different run name by setting the `TrainingArguments.run_name` parameter.\n",
      "\u001b[34m\u001b[1mwandb\u001b[0m: Using wandb-core as the SDK backend.  Please refer to https://wandb.me/wandb-core for more information.\n",
      "\u001b[34m\u001b[1mwandb\u001b[0m: Currently logged in as: \u001b[33mmlburnham\u001b[0m. Use \u001b[1m`wandb login --relogin`\u001b[0m to force relogin\n"
     ]
    },
    {
     "data": {
      "text/html": [
       "Tracking run with wandb version 0.19.1"
      ],
      "text/plain": [
       "<IPython.core.display.HTML object>"
      ]
     },
     "metadata": {},
     "output_type": "display_data"
    },
    {
     "data": {
      "text/html": [
       "Run data is saved locally in <code>/home/mike/modernbert/wandb/run-20250107_002612-awq3g4jr</code>"
      ],
      "text/plain": [
       "<IPython.core.display.HTML object>"
      ]
     },
     "metadata": {},
     "output_type": "display_data"
    },
    {
     "data": {
      "text/html": [
       "Syncing run <strong><a href='https://wandb.ai/mlburnham/Pol-NLI-ModernBERT-Large/runs/awq3g4jr' target=\"_blank\">training_ModernLarge</a></strong> to <a href='https://wandb.ai/mlburnham/Pol-NLI-ModernBERT-Large' target=\"_blank\">Weights & Biases</a> (<a href='https://wandb.me/developer-guide' target=\"_blank\">docs</a>)<br>"
      ],
      "text/plain": [
       "<IPython.core.display.HTML object>"
      ]
     },
     "metadata": {},
     "output_type": "display_data"
    },
    {
     "data": {
      "text/html": [
       " View project at <a href='https://wandb.ai/mlburnham/Pol-NLI-ModernBERT-Large' target=\"_blank\">https://wandb.ai/mlburnham/Pol-NLI-ModernBERT-Large</a>"
      ],
      "text/plain": [
       "<IPython.core.display.HTML object>"
      ]
     },
     "metadata": {},
     "output_type": "display_data"
    },
    {
     "data": {
      "text/html": [
       " View run at <a href='https://wandb.ai/mlburnham/Pol-NLI-ModernBERT-Large/runs/awq3g4jr' target=\"_blank\">https://wandb.ai/mlburnham/Pol-NLI-ModernBERT-Large/runs/awq3g4jr</a>"
      ],
      "text/plain": [
       "<IPython.core.display.HTML object>"
      ]
     },
     "metadata": {},
     "output_type": "display_data"
    },
    {
     "name": "stderr",
     "output_type": "stream",
     "text": [
      "huggingface/tokenizers: The current process just got forked, after parallelism has already been used. Disabling parallelism to avoid deadlocks...\n",
      "To disable this warning, you can either:\n",
      "\t- Avoid using `tokenizers` before the fork if possible\n",
      "\t- Explicitly set the environment variable TOKENIZERS_PARALLELISM=(true | false)\n"
     ]
    },
    {
     "data": {
      "text/html": [
       "\n",
       "    <div>\n",
       "      \n",
       "      <progress value='107050' max='107050' style='width:300px; height:20px; vertical-align: middle;'></progress>\n",
       "      [107050/107050 6:23:42, Epoch 9/10]\n",
       "    </div>\n",
       "    <table border=\"1\" class=\"dataframe\">\n",
       "  <thead>\n",
       " <tr style=\"text-align: left;\">\n",
       "      <th>Epoch</th>\n",
       "      <th>Training Loss</th>\n",
       "      <th>Validation Loss</th>\n",
       "      <th>Mcc</th>\n",
       "      <th>F1 Macro</th>\n",
       "      <th>F1 Micro</th>\n",
       "      <th>Accuracy Balanced</th>\n",
       "      <th>Accuracy</th>\n",
       "      <th>Precision Macro</th>\n",
       "      <th>Recall Macro</th>\n",
       "      <th>Precision Micro</th>\n",
       "      <th>Recall Micro</th>\n",
       "    </tr>\n",
       "  </thead>\n",
       "  <tbody>\n",
       "    <tr>\n",
       "      <td>0</td>\n",
       "      <td>0.732000</td>\n",
       "      <td>0.182307</td>\n",
       "      <td>0.893737</td>\n",
       "      <td>0.946868</td>\n",
       "      <td>0.948191</td>\n",
       "      <td>0.946724</td>\n",
       "      <td>0.948191</td>\n",
       "      <td>0.947013</td>\n",
       "      <td>0.946724</td>\n",
       "      <td>0.948191</td>\n",
       "      <td>0.948191</td>\n",
       "    </tr>\n",
       "    <tr>\n",
       "      <td>1</td>\n",
       "      <td>0.476600</td>\n",
       "      <td>0.204826</td>\n",
       "      <td>0.916039</td>\n",
       "      <td>0.957974</td>\n",
       "      <td>0.959098</td>\n",
       "      <td>0.956987</td>\n",
       "      <td>0.959098</td>\n",
       "      <td>0.959055</td>\n",
       "      <td>0.956987</td>\n",
       "      <td>0.959098</td>\n",
       "      <td>0.959098</td>\n",
       "    </tr>\n",
       "    <tr>\n",
       "      <td>2</td>\n",
       "      <td>0.255200</td>\n",
       "      <td>0.291375</td>\n",
       "      <td>0.905836</td>\n",
       "      <td>0.952747</td>\n",
       "      <td>0.954110</td>\n",
       "      <td>0.950857</td>\n",
       "      <td>0.954110</td>\n",
       "      <td>0.954989</td>\n",
       "      <td>0.950857</td>\n",
       "      <td>0.954110</td>\n",
       "      <td>0.954110</td>\n",
       "    </tr>\n",
       "    <tr>\n",
       "      <td>3</td>\n",
       "      <td>0.099100</td>\n",
       "      <td>0.307700</td>\n",
       "      <td>0.906207</td>\n",
       "      <td>0.952824</td>\n",
       "      <td>0.954243</td>\n",
       "      <td>0.950416</td>\n",
       "      <td>0.954243</td>\n",
       "      <td>0.955807</td>\n",
       "      <td>0.950416</td>\n",
       "      <td>0.954243</td>\n",
       "      <td>0.954243</td>\n",
       "    </tr>\n",
       "    <tr>\n",
       "      <td>4</td>\n",
       "      <td>0.072600</td>\n",
       "      <td>0.312559</td>\n",
       "      <td>0.911532</td>\n",
       "      <td>0.955730</td>\n",
       "      <td>0.956903</td>\n",
       "      <td>0.954854</td>\n",
       "      <td>0.956903</td>\n",
       "      <td>0.956680</td>\n",
       "      <td>0.954854</td>\n",
       "      <td>0.956903</td>\n",
       "      <td>0.956903</td>\n",
       "    </tr>\n",
       "    <tr>\n",
       "      <td>5</td>\n",
       "      <td>0.045400</td>\n",
       "      <td>0.374698</td>\n",
       "      <td>0.911276</td>\n",
       "      <td>0.955364</td>\n",
       "      <td>0.956704</td>\n",
       "      <td>0.952971</td>\n",
       "      <td>0.956704</td>\n",
       "      <td>0.958320</td>\n",
       "      <td>0.952971</td>\n",
       "      <td>0.956704</td>\n",
       "      <td>0.956704</td>\n",
       "    </tr>\n",
       "    <tr>\n",
       "      <td>6</td>\n",
       "      <td>0.009900</td>\n",
       "      <td>0.356787</td>\n",
       "      <td>0.919876</td>\n",
       "      <td>0.959918</td>\n",
       "      <td>0.960960</td>\n",
       "      <td>0.959260</td>\n",
       "      <td>0.960960</td>\n",
       "      <td>0.960617</td>\n",
       "      <td>0.959260</td>\n",
       "      <td>0.960960</td>\n",
       "      <td>0.960960</td>\n",
       "    </tr>\n",
       "    <tr>\n",
       "      <td>7</td>\n",
       "      <td>0.015100</td>\n",
       "      <td>0.478835</td>\n",
       "      <td>0.914809</td>\n",
       "      <td>0.957358</td>\n",
       "      <td>0.958500</td>\n",
       "      <td>0.956363</td>\n",
       "      <td>0.958500</td>\n",
       "      <td>0.958449</td>\n",
       "      <td>0.956363</td>\n",
       "      <td>0.958500</td>\n",
       "      <td>0.958500</td>\n",
       "    </tr>\n",
       "    <tr>\n",
       "      <td>8</td>\n",
       "      <td>0.000000</td>\n",
       "      <td>0.505373</td>\n",
       "      <td>0.921822</td>\n",
       "      <td>0.960786</td>\n",
       "      <td>0.961891</td>\n",
       "      <td>0.959145</td>\n",
       "      <td>0.961891</td>\n",
       "      <td>0.962684</td>\n",
       "      <td>0.959145</td>\n",
       "      <td>0.961891</td>\n",
       "      <td>0.961891</td>\n",
       "    </tr>\n",
       "    <tr>\n",
       "      <td>9</td>\n",
       "      <td>0.003600</td>\n",
       "      <td>0.565398</td>\n",
       "      <td>0.920444</td>\n",
       "      <td>0.960109</td>\n",
       "      <td>0.961226</td>\n",
       "      <td>0.958549</td>\n",
       "      <td>0.961226</td>\n",
       "      <td>0.961902</td>\n",
       "      <td>0.958549</td>\n",
       "      <td>0.961226</td>\n",
       "      <td>0.961226</td>\n",
       "    </tr>\n",
       "  </tbody>\n",
       "</table><p>"
      ],
      "text/plain": [
       "<IPython.core.display.HTML object>"
      ]
     },
     "metadata": {},
     "output_type": "display_data"
    },
    {
     "name": "stderr",
     "output_type": "stream",
     "text": [
      "Trainer.tokenizer is now deprecated. You should use Trainer.processing_class instead.\n",
      "Trainer.tokenizer is now deprecated. You should use Trainer.processing_class instead.\n",
      "huggingface/tokenizers: The current process just got forked, after parallelism has already been used. Disabling parallelism to avoid deadlocks...\n",
      "To disable this warning, you can either:\n",
      "\t- Avoid using `tokenizers` before the fork if possible\n",
      "\t- Explicitly set the environment variable TOKENIZERS_PARALLELISM=(true | false)\n"
     ]
    },
    {
     "name": "stdout",
     "output_type": "stream",
     "text": [
      "Aggregate metrics:  {'MCC': np.float64(0.8937372016784191), 'f1_macro': 0.9468676111277339, 'f1_micro': 0.9481910082468742, 'accuracy_balanced': np.float64(0.9467243166518844), 'accuracy': 0.9481910082468742, 'precision_macro': 0.9470129316278186, 'recall_macro': 0.9467243166518844, 'precision_micro': 0.9481910082468742, 'recall_micro': 0.9481910082468742}\n",
      "Detailed metrics:  {'entailment': {'precision': 0.939595192915876, 'recall': 0.9373718252090235, 'f1-score': 0.9384821922135355, 'support': 6339.0}, 'not_entailment': {'precision': 0.9544306703397613, 'recall': 0.9560768080947453, 'f1-score': 0.9552530300419323, 'support': 8697.0}, 'accuracy': 0.9481910082468742, 'macro avg': {'precision': 0.9470129316278186, 'recall': 0.9467243166518844, 'f1-score': 0.9468676111277339, 'support': 15036.0}, 'weighted avg': {'precision': 0.9481762082893483, 'recall': 0.9481910082468742, 'f1-score': 0.9481826429047809, 'support': 15036.0}} \n",
      "\n"
     ]
    },
    {
     "name": "stderr",
     "output_type": "stream",
     "text": [
      "/tmp/ipykernel_18792/3974363994.py:27: FutureWarning: factorize with argument that is not not a Series, Index, ExtensionArray, or np.ndarray is deprecated and will raise in a future version.\n",
      "  labels, preds_max, labels=np.sort(pd.factorize(label_text_alphabetical, sort=True)[0]),\n",
      "huggingface/tokenizers: The current process just got forked, after parallelism has already been used. Disabling parallelism to avoid deadlocks...\n",
      "To disable this warning, you can either:\n",
      "\t- Avoid using `tokenizers` before the fork if possible\n",
      "\t- Explicitly set the environment variable TOKENIZERS_PARALLELISM=(true | false)\n",
      "Trainer.tokenizer is now deprecated. You should use Trainer.processing_class instead.\n",
      "Trainer.tokenizer is now deprecated. You should use Trainer.processing_class instead.\n",
      "huggingface/tokenizers: The current process just got forked, after parallelism has already been used. Disabling parallelism to avoid deadlocks...\n",
      "To disable this warning, you can either:\n",
      "\t- Avoid using `tokenizers` before the fork if possible\n",
      "\t- Explicitly set the environment variable TOKENIZERS_PARALLELISM=(true | false)\n"
     ]
    },
    {
     "name": "stdout",
     "output_type": "stream",
     "text": [
      "Aggregate metrics:  {'MCC': np.float64(0.9160394791926961), 'f1_macro': 0.9579741578387564, 'f1_micro': 0.959098164405427, 'accuracy_balanced': np.float64(0.9569868977454732), 'accuracy': 0.959098164405427, 'precision_macro': 0.9590549157861157, 'recall_macro': 0.9569868977454732, 'precision_micro': 0.959098164405427, 'recall_micro': 0.959098164405427}\n",
      "Detailed metrics:  {'entailment': {'precision': 0.9588008977236294, 'recall': 0.9435242151758952, 'f1-score': 0.9511012165063211, 'support': 6339.0}, 'not_entailment': {'precision': 0.9593089338486019, 'recall': 0.9704495803150511, 'f1-score': 0.9648470991711918, 'support': 8697.0}, 'accuracy': 0.959098164405427, 'macro avg': {'precision': 0.9590549157861157, 'recall': 0.9569868977454732, 'f1-score': 0.9579741578387564, 'support': 15036.0}, 'weighted avg': {'precision': 0.9590947518190595, 'recall': 0.959098164405427, 'f1-score': 0.9590519974012652, 'support': 15036.0}} \n",
      "\n"
     ]
    },
    {
     "name": "stderr",
     "output_type": "stream",
     "text": [
      "/tmp/ipykernel_18792/3974363994.py:27: FutureWarning: factorize with argument that is not not a Series, Index, ExtensionArray, or np.ndarray is deprecated and will raise in a future version.\n",
      "  labels, preds_max, labels=np.sort(pd.factorize(label_text_alphabetical, sort=True)[0]),\n",
      "huggingface/tokenizers: The current process just got forked, after parallelism has already been used. Disabling parallelism to avoid deadlocks...\n",
      "To disable this warning, you can either:\n",
      "\t- Avoid using `tokenizers` before the fork if possible\n",
      "\t- Explicitly set the environment variable TOKENIZERS_PARALLELISM=(true | false)\n",
      "Trainer.tokenizer is now deprecated. You should use Trainer.processing_class instead.\n",
      "Trainer.tokenizer is now deprecated. You should use Trainer.processing_class instead.\n",
      "huggingface/tokenizers: The current process just got forked, after parallelism has already been used. Disabling parallelism to avoid deadlocks...\n",
      "To disable this warning, you can either:\n",
      "\t- Avoid using `tokenizers` before the fork if possible\n",
      "\t- Explicitly set the environment variable TOKENIZERS_PARALLELISM=(true | false)\n"
     ]
    },
    {
     "name": "stdout",
     "output_type": "stream",
     "text": [
      "Aggregate metrics:  {'MCC': np.float64(0.9058364461756198), 'f1_macro': 0.952746781972066, 'f1_micro': 0.9541101356743815, 'accuracy_balanced': np.float64(0.9508572811062841), 'accuracy': 0.9541101356743815, 'precision_macro': 0.9549885859704261, 'recall_macro': 0.9508572811062841, 'precision_micro': 0.9541101356743815, 'recall_micro': 0.9541101356743815}\n",
      "Detailed metrics:  {'entailment': {'precision': 0.9597916327527267, 'recall': 0.9301151601198927, 'f1-score': 0.944720397372216, 'support': 6339.0}, 'not_entailment': {'precision': 0.9501855391881255, 'recall': 0.9715994020926756, 'f1-score': 0.9607731665719159, 'support': 8697.0}, 'accuracy': 0.9541101356743815, 'macro avg': {'precision': 0.9549885859704261, 'recall': 0.9508572811062841, 'f1-score': 0.952746781972066, 'support': 15036.0}, 'weighted avg': {'precision': 0.9542353547711268, 'recall': 0.9541101356743815, 'f1-score': 0.9540055086870465, 'support': 15036.0}} \n",
      "\n"
     ]
    },
    {
     "name": "stderr",
     "output_type": "stream",
     "text": [
      "/tmp/ipykernel_18792/3974363994.py:27: FutureWarning: factorize with argument that is not not a Series, Index, ExtensionArray, or np.ndarray is deprecated and will raise in a future version.\n",
      "  labels, preds_max, labels=np.sort(pd.factorize(label_text_alphabetical, sort=True)[0]),\n",
      "huggingface/tokenizers: The current process just got forked, after parallelism has already been used. Disabling parallelism to avoid deadlocks...\n",
      "To disable this warning, you can either:\n",
      "\t- Avoid using `tokenizers` before the fork if possible\n",
      "\t- Explicitly set the environment variable TOKENIZERS_PARALLELISM=(true | false)\n",
      "Trainer.tokenizer is now deprecated. You should use Trainer.processing_class instead.\n",
      "Trainer.tokenizer is now deprecated. You should use Trainer.processing_class instead.\n",
      "huggingface/tokenizers: The current process just got forked, after parallelism has already been used. Disabling parallelism to avoid deadlocks...\n",
      "To disable this warning, you can either:\n",
      "\t- Avoid using `tokenizers` before the fork if possible\n",
      "\t- Explicitly set the environment variable TOKENIZERS_PARALLELISM=(true | false)\n"
     ]
    },
    {
     "name": "stdout",
     "output_type": "stream",
     "text": [
      "Aggregate metrics:  {'MCC': np.float64(0.9062070506839708), 'f1_macro': 0.9528238536992801, 'f1_micro': 0.954243149773876, 'accuracy_balanced': np.float64(0.9504162349393346), 'accuracy': 0.954243149773876, 'precision_macro': 0.955806848758431, 'recall_macro': 0.9504162349393346, 'precision_micro': 0.954243149773876, 'recall_micro': 0.954243149773876}\n",
      "Detailed metrics:  {'entailment': {'precision': 0.9640335030382657, 'recall': 0.9260135668086449, 'f1-score': 0.9446411329256518, 'support': 6339.0}, 'not_entailment': {'precision': 0.9475801944785962, 'recall': 0.9748189030700242, 'f1-score': 0.9610065744729086, 'support': 8697.0}, 'accuracy': 0.954243149773876, 'macro avg': {'precision': 0.955806848758431, 'recall': 0.9504162349393346, 'f1-score': 0.9528238536992801, 'support': 15036.0}, 'weighted avg': {'precision': 0.9545167150265974, 'recall': 0.954243149773876, 'f1-score': 0.9541070976194861, 'support': 15036.0}} \n",
      "\n"
     ]
    },
    {
     "name": "stderr",
     "output_type": "stream",
     "text": [
      "/tmp/ipykernel_18792/3974363994.py:27: FutureWarning: factorize with argument that is not not a Series, Index, ExtensionArray, or np.ndarray is deprecated and will raise in a future version.\n",
      "  labels, preds_max, labels=np.sort(pd.factorize(label_text_alphabetical, sort=True)[0]),\n",
      "huggingface/tokenizers: The current process just got forked, after parallelism has already been used. Disabling parallelism to avoid deadlocks...\n",
      "To disable this warning, you can either:\n",
      "\t- Avoid using `tokenizers` before the fork if possible\n",
      "\t- Explicitly set the environment variable TOKENIZERS_PARALLELISM=(true | false)\n",
      "Trainer.tokenizer is now deprecated. You should use Trainer.processing_class instead.\n",
      "Trainer.tokenizer is now deprecated. You should use Trainer.processing_class instead.\n",
      "huggingface/tokenizers: The current process just got forked, after parallelism has already been used. Disabling parallelism to avoid deadlocks...\n",
      "To disable this warning, you can either:\n",
      "\t- Avoid using `tokenizers` before the fork if possible\n",
      "\t- Explicitly set the environment variable TOKENIZERS_PARALLELISM=(true | false)\n"
     ]
    },
    {
     "name": "stdout",
     "output_type": "stream",
     "text": [
      "Aggregate metrics:  {'MCC': np.float64(0.9115321229608633), 'f1_macro': 0.9557299725921278, 'f1_micro': 0.9569034317637669, 'accuracy_balanced': np.float64(0.9548544490511685), 'accuracy': 0.9569034317637669, 'precision_macro': 0.9566795009495819, 'recall_macro': 0.9548544490511685, 'precision_micro': 0.9569034317637669, 'recall_micro': 0.9569034317637669}\n",
      "Detailed metrics:  {'entailment': {'precision': 0.9553528564570332, 'recall': 0.9417889256980596, 'f1-score': 0.9485224022878932, 'support': 6339.0}, 'not_entailment': {'precision': 0.9580061454421305, 'recall': 0.9679199724042773, 'f1-score': 0.9629375428963624, 'support': 8697.0}, 'accuracy': 0.9569034317637669, 'macro avg': {'precision': 0.9566795009495819, 'recall': 0.9548544490511685, 'f1-score': 0.9557299725921278, 'support': 15036.0}, 'weighted avg': {'precision': 0.9568875501457396, 'recall': 0.9569034317637669, 'f1-score': 0.9568602898824566, 'support': 15036.0}} \n",
      "\n"
     ]
    },
    {
     "name": "stderr",
     "output_type": "stream",
     "text": [
      "/tmp/ipykernel_18792/3974363994.py:27: FutureWarning: factorize with argument that is not not a Series, Index, ExtensionArray, or np.ndarray is deprecated and will raise in a future version.\n",
      "  labels, preds_max, labels=np.sort(pd.factorize(label_text_alphabetical, sort=True)[0]),\n",
      "huggingface/tokenizers: The current process just got forked, after parallelism has already been used. Disabling parallelism to avoid deadlocks...\n",
      "To disable this warning, you can either:\n",
      "\t- Avoid using `tokenizers` before the fork if possible\n",
      "\t- Explicitly set the environment variable TOKENIZERS_PARALLELISM=(true | false)\n",
      "Trainer.tokenizer is now deprecated. You should use Trainer.processing_class instead.\n",
      "Trainer.tokenizer is now deprecated. You should use Trainer.processing_class instead.\n",
      "huggingface/tokenizers: The current process just got forked, after parallelism has already been used. Disabling parallelism to avoid deadlocks...\n",
      "To disable this warning, you can either:\n",
      "\t- Avoid using `tokenizers` before the fork if possible\n",
      "\t- Explicitly set the environment variable TOKENIZERS_PARALLELISM=(true | false)\n"
     ]
    },
    {
     "name": "stdout",
     "output_type": "stream",
     "text": [
      "Aggregate metrics:  {'MCC': np.float64(0.911275673647377), 'f1_macro': 0.9553641263882977, 'f1_micro': 0.9567039106145251, 'accuracy_balanced': np.float64(0.9529711193392568), 'accuracy': 0.9567039106145251, 'precision_macro': 0.9583202537243483, 'recall_macro': 0.9529711193392568, 'precision_micro': 0.9567039106145251, 'recall_micro': 0.9567039106145251}\n",
      "Detailed metrics:  {'entailment': {'precision': 0.9668417596848325, 'recall': 0.9291686385865279, 'f1-score': 0.9476309226932669, 'support': 6339.0}, 'not_entailment': {'precision': 0.9497987477638641, 'recall': 0.9767736000919858, 'f1-score': 0.9630973300833287, 'support': 8697.0}, 'accuracy': 0.9567039106145251, 'macro avg': {'precision': 0.9583202537243483, 'recall': 0.9529711193392568, 'f1-score': 0.9553641263882977, 'support': 15036.0}, 'weighted avg': {'precision': 0.956983880283618, 'recall': 0.9567039106145251, 'f1-score': 0.956576875411501, 'support': 15036.0}} \n",
      "\n"
     ]
    },
    {
     "name": "stderr",
     "output_type": "stream",
     "text": [
      "/tmp/ipykernel_18792/3974363994.py:27: FutureWarning: factorize with argument that is not not a Series, Index, ExtensionArray, or np.ndarray is deprecated and will raise in a future version.\n",
      "  labels, preds_max, labels=np.sort(pd.factorize(label_text_alphabetical, sort=True)[0]),\n",
      "huggingface/tokenizers: The current process just got forked, after parallelism has already been used. Disabling parallelism to avoid deadlocks...\n",
      "To disable this warning, you can either:\n",
      "\t- Avoid using `tokenizers` before the fork if possible\n",
      "\t- Explicitly set the environment variable TOKENIZERS_PARALLELISM=(true | false)\n",
      "Trainer.tokenizer is now deprecated. You should use Trainer.processing_class instead.\n",
      "Trainer.tokenizer is now deprecated. You should use Trainer.processing_class instead.\n",
      "huggingface/tokenizers: The current process just got forked, after parallelism has already been used. Disabling parallelism to avoid deadlocks...\n",
      "To disable this warning, you can either:\n",
      "\t- Avoid using `tokenizers` before the fork if possible\n",
      "\t- Explicitly set the environment variable TOKENIZERS_PARALLELISM=(true | false)\n"
     ]
    },
    {
     "name": "stdout",
     "output_type": "stream",
     "text": [
      "Aggregate metrics:  {'MCC': np.float64(0.9198756977445397), 'f1_macro': 0.9599177788154878, 'f1_micro': 0.9609603617983506, 'accuracy_balanced': np.float64(0.9592596051066888), 'accuracy': 0.9609603617983506, 'precision_macro': 0.9606170942818022, 'recall_macro': 0.9592596051066888, 'precision_micro': 0.9609603617983506, 'recall_micro': 0.9609603617983506}\n",
      "Detailed metrics:  {'entailment': {'precision': 0.9585459183673469, 'recall': 0.9484145764316139, 'f1-score': 0.9534533343906114, 'support': 6339.0}, 'not_entailment': {'precision': 0.9626882701962575, 'recall': 0.9701046337817638, 'f1-score': 0.9663822232403643, 'support': 8697.0}, 'accuracy': 0.9609603617983506, 'macro avg': {'precision': 0.9606170942818022, 'recall': 0.9592596051066888, 'f1-score': 0.9599177788154878, 'support': 15036.0}, 'weighted avg': {'precision': 0.9609419035932072, 'recall': 0.9609603617983506, 'f1-score': 0.9609315564128448, 'support': 15036.0}} \n",
      "\n"
     ]
    },
    {
     "name": "stderr",
     "output_type": "stream",
     "text": [
      "/tmp/ipykernel_18792/3974363994.py:27: FutureWarning: factorize with argument that is not not a Series, Index, ExtensionArray, or np.ndarray is deprecated and will raise in a future version.\n",
      "  labels, preds_max, labels=np.sort(pd.factorize(label_text_alphabetical, sort=True)[0]),\n",
      "huggingface/tokenizers: The current process just got forked, after parallelism has already been used. Disabling parallelism to avoid deadlocks...\n",
      "To disable this warning, you can either:\n",
      "\t- Avoid using `tokenizers` before the fork if possible\n",
      "\t- Explicitly set the environment variable TOKENIZERS_PARALLELISM=(true | false)\n",
      "Trainer.tokenizer is now deprecated. You should use Trainer.processing_class instead.\n",
      "Trainer.tokenizer is now deprecated. You should use Trainer.processing_class instead.\n",
      "huggingface/tokenizers: The current process just got forked, after parallelism has already been used. Disabling parallelism to avoid deadlocks...\n",
      "To disable this warning, you can either:\n",
      "\t- Avoid using `tokenizers` before the fork if possible\n",
      "\t- Explicitly set the environment variable TOKENIZERS_PARALLELISM=(true | false)\n"
     ]
    },
    {
     "name": "stdout",
     "output_type": "stream",
     "text": [
      "Aggregate metrics:  {'MCC': np.float64(0.9148093048376341), 'f1_macro': 0.9573581922323794, 'f1_micro': 0.9584996009577015, 'accuracy_balanced': np.float64(0.956362549417713), 'accuracy': 0.9584996009577015, 'precision_macro': 0.9584491350601136, 'recall_macro': 0.956362549417713, 'precision_micro': 0.9584996009577015, 'recall_micro': 0.9584996009577015}\n",
      "Detailed metrics:  {'entailment': {'precision': 0.9581529581529582, 'recall': 0.9427354472314246, 'f1-score': 0.950381679389313, 'support': 6339.0}, 'not_entailment': {'precision': 0.958745311967269, 'recall': 0.9699896516040014, 'f1-score': 0.9643347050754458, 'support': 8697.0}, 'accuracy': 0.9584996009577015, 'macro avg': {'precision': 0.9584491350601136, 'recall': 0.956362549417713, 'f1-score': 0.9573581922323794, 'support': 15036.0}, 'weighted avg': {'precision': 0.9584955825958327, 'recall': 0.9584996009577015, 'f1-score': 0.9584522742544564, 'support': 15036.0}} \n",
      "\n"
     ]
    },
    {
     "name": "stderr",
     "output_type": "stream",
     "text": [
      "/tmp/ipykernel_18792/3974363994.py:27: FutureWarning: factorize with argument that is not not a Series, Index, ExtensionArray, or np.ndarray is deprecated and will raise in a future version.\n",
      "  labels, preds_max, labels=np.sort(pd.factorize(label_text_alphabetical, sort=True)[0]),\n",
      "huggingface/tokenizers: The current process just got forked, after parallelism has already been used. Disabling parallelism to avoid deadlocks...\n",
      "To disable this warning, you can either:\n",
      "\t- Avoid using `tokenizers` before the fork if possible\n",
      "\t- Explicitly set the environment variable TOKENIZERS_PARALLELISM=(true | false)\n",
      "Trainer.tokenizer is now deprecated. You should use Trainer.processing_class instead.\n",
      "Trainer.tokenizer is now deprecated. You should use Trainer.processing_class instead.\n",
      "huggingface/tokenizers: The current process just got forked, after parallelism has already been used. Disabling parallelism to avoid deadlocks...\n",
      "To disable this warning, you can either:\n",
      "\t- Avoid using `tokenizers` before the fork if possible\n",
      "\t- Explicitly set the environment variable TOKENIZERS_PARALLELISM=(true | false)\n"
     ]
    },
    {
     "name": "stdout",
     "output_type": "stream",
     "text": [
      "Aggregate metrics:  {'MCC': np.float64(0.921821926774226), 'f1_macro': 0.9607855911921364, 'f1_micro': 0.9618914604948124, 'accuracy_balanced': np.float64(0.9591448950116943), 'accuracy': 0.9618914604948124, 'precision_macro': 0.9626838248196701, 'recall_macro': 0.9591448950116943, 'precision_micro': 0.9618914604948124, 'recall_micro': 0.9618914604948124}\n",
      "Detailed metrics:  {'entailment': {'precision': 0.9671095268956578, 'recall': 0.9416311721091655, 'f1-score': 0.9542003037327152, 'support': 6339.0}, 'not_entailment': {'precision': 0.9582581227436823, 'recall': 0.9766586179142233, 'f1-score': 0.9673708786515575, 'support': 8697.0}, 'accuracy': 0.9618914604948124, 'macro avg': {'precision': 0.9626838248196701, 'recall': 0.9591448950116943, 'f1-score': 0.9607855911921364, 'support': 15036.0}, 'weighted avg': {'precision': 0.9619897701844492, 'recall': 0.9618914604948124, 'f1-score': 0.9618183198320216, 'support': 15036.0}} \n",
      "\n"
     ]
    },
    {
     "name": "stderr",
     "output_type": "stream",
     "text": [
      "/tmp/ipykernel_18792/3974363994.py:27: FutureWarning: factorize with argument that is not not a Series, Index, ExtensionArray, or np.ndarray is deprecated and will raise in a future version.\n",
      "  labels, preds_max, labels=np.sort(pd.factorize(label_text_alphabetical, sort=True)[0]),\n",
      "huggingface/tokenizers: The current process just got forked, after parallelism has already been used. Disabling parallelism to avoid deadlocks...\n",
      "To disable this warning, you can either:\n",
      "\t- Avoid using `tokenizers` before the fork if possible\n",
      "\t- Explicitly set the environment variable TOKENIZERS_PARALLELISM=(true | false)\n",
      "Trainer.tokenizer is now deprecated. You should use Trainer.processing_class instead.\n",
      "Trainer.tokenizer is now deprecated. You should use Trainer.processing_class instead.\n",
      "huggingface/tokenizers: The current process just got forked, after parallelism has already been used. Disabling parallelism to avoid deadlocks...\n",
      "To disable this warning, you can either:\n",
      "\t- Avoid using `tokenizers` before the fork if possible\n",
      "\t- Explicitly set the environment variable TOKENIZERS_PARALLELISM=(true | false)\n"
     ]
    },
    {
     "name": "stdout",
     "output_type": "stream",
     "text": [
      "Aggregate metrics:  {'MCC': np.float64(0.9204441364123934), 'f1_macro': 0.9601085447709636, 'f1_micro': 0.9612263899973397, 'accuracy_balanced': np.float64(0.9585485984173163), 'accuracy': 0.9612263899973397, 'precision_macro': 0.9619016453109515, 'recall_macro': 0.9585485984173163, 'precision_micro': 0.9612263899973397, 'recall_micro': 0.9612263899973397}\n",
      "Detailed metrics:  {'entailment': {'precision': 0.9656957928802589, 'recall': 0.9414734185202713, 'f1-score': 0.9534307852064862, 'support': 6339.0}, 'not_entailment': {'precision': 0.958107497741644, 'recall': 0.9756237783143613, 'f1-score': 0.9667863043354412, 'support': 8697.0}, 'accuracy': 0.9612263899973397, 'macro avg': {'precision': 0.9619016453109515, 'recall': 0.9585485984173163, 'f1-score': 0.9601085447709636, 'support': 15036.0}, 'weighted avg': {'precision': 0.9613066333417823, 'recall': 0.9612263899973397, 'f1-score': 0.9611557752214185, 'support': 15036.0}} \n",
      "\n"
     ]
    },
    {
     "name": "stderr",
     "output_type": "stream",
     "text": [
      "/tmp/ipykernel_18792/3974363994.py:27: FutureWarning: factorize with argument that is not not a Series, Index, ExtensionArray, or np.ndarray is deprecated and will raise in a future version.\n",
      "  labels, preds_max, labels=np.sort(pd.factorize(label_text_alphabetical, sort=True)[0]),\n"
     ]
    },
    {
     "data": {
      "text/plain": [
       "TrainOutput(global_step=107050, training_loss=0.19017183457118003, metrics={'train_runtime': 23024.6099, 'train_samples_per_second': 74.394, 'train_steps_per_second': 4.649, 'total_flos': 1.1064603257603529e+18, 'train_loss': 0.19017183457118003, 'epoch': 9.999929944188871})"
      ]
     },
     "execution_count": 10,
     "metadata": {},
     "output_type": "execute_result"
    }
   ],
   "source": [
    "trainer.train()"
   ]
  }
 ],
 "metadata": {
  "kernelspec": {
   "display_name": "Python 3 (ipykernel)",
   "language": "python",
   "name": "python3"
  },
  "language_info": {
   "codemirror_mode": {
    "name": "ipython",
    "version": 3
   },
   "file_extension": ".py",
   "mimetype": "text/x-python",
   "name": "python",
   "nbconvert_exporter": "python",
   "pygments_lexer": "ipython3",
   "version": "3.12.8"
  }
 },
 "nbformat": 4,
 "nbformat_minor": 5
}
